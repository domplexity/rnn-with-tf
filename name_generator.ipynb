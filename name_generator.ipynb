{
 "cells": [
  {
   "cell_type": "markdown",
   "metadata": {},
   "source": [
    "- load namelist and prepare\n",
    "- train model(s) male/female\n",
    "- filter results for \"unkown\" names\n",
    "- store results\n",
    "- (batch) send to msg-api"
   ]
  },
  {
   "cell_type": "code",
   "execution_count": 56,
   "metadata": {
    "collapsed": false
   },
   "outputs": [],
   "source": [
    "import tensorflow as tf\n",
    "import numpy as np\n",
    "import matplotlib.pyplot as plt\n",
    "%matplotlib inline\n",
    "import warnings\n",
    "from IPython.display import clear_output\n",
    "import collections\n",
    "import urllib\n",
    "from os import listdir\n",
    "from os.path import isfile, join\n",
    "import pandas\n",
    "import re"
   ]
  },
  {
   "cell_type": "code",
   "execution_count": 138,
   "metadata": {
    "collapsed": true
   },
   "outputs": [],
   "source": [
    "#source: https://daten.berlin.de/datensaetze/liste-der-h%C3%A4ufigen-vornamen-2015\n",
    "\n",
    "fileurllist = ['http://www.berlin.de/daten/liste-der-vornamen-2015/charlottenburg-wilmersdorf.csv',\n",
    "              'http://www.berlin.de/daten/liste-der-vornamen-2015/friedrichshain-kreuzberg.csv',\n",
    "              'http://www.berlin.de/daten/liste-der-vornamen-2015/lichtenberg.csv',\n",
    "              'http://www.berlin.de/daten/liste-der-vornamen-2015/marzahn-hellersdorf.csv',\n",
    "              'http://www.berlin.de/daten/liste-der-vornamen-2015/mitte.csv',\n",
    "              'http://www.berlin.de/daten/liste-der-vornamen-2015/neukoelln.csv',\n",
    "              'http://www.berlin.de/daten/liste-der-vornamen-2015/pankow.csv',\n",
    "              'http://www.berlin.de/daten/liste-der-vornamen-2015/reinickendorf.csv',\n",
    "              'http://www.berlin.de/daten/liste-der-vornamen-2015/spandau.csv',\n",
    "              'http://www.berlin.de/daten/liste-der-vornamen-2015/steglitz-zehlendorf.csv',\n",
    "              'http://www.berlin.de/daten/liste-der-vornamen-2015/tempelhof-schoeneberg.csv',\n",
    "              'http://www.berlin.de/daten/liste-der-vornamen-2015/treptow-koepenick.csv']\n",
    "!mkdir name-csvs/\n",
    "for url in fileurllist:\n",
    "    file_name = url.split('/')[-1]\n",
    "    full_path = 'name-csvs/' + file_name\n",
    "    urllib.urlretrieve(url, full_path)"
   ]
  },
  {
   "cell_type": "markdown",
   "metadata": {},
   "source": [
    "Build a proper text file for training"
   ]
  },
  {
   "cell_type": "code",
   "execution_count": 217,
   "metadata": {
    "collapsed": false
   },
   "outputs": [],
   "source": [
    "def build_training_data(gender=\"w\", districts=\"all\", weighted=False):\n",
    "    # returns one string, names separated by \\n, names randomized, repetitions across districts NOT removed\n",
    "    raw_names = ''\n",
    "    if (districts == \"all\"): \n",
    "        fileslist = [f for f in listdir('name-csvs/') if isfile(join('name-csvs/', f))]\n",
    "        print \"loading all districts in folder :\"  + str(files_in_dir)\n",
    "    \n",
    "    else:#better check if is list\n",
    "        print \"loading districts as specified in list: \" + str(districts)\n",
    "        fileslist = districts\n",
    "        \n",
    "    for idx,current_file in enumerate(fileslist):\n",
    "        temp_df = pandas.read_csv(join('name-csvs/', current_file),';')     \n",
    "        if idx == 0:\n",
    "            full_df = temp_df\n",
    "            \n",
    "        if (weighted == True):\n",
    "            df_append = temp_df\n",
    "            for iteration in range(max(temp_df.anzahl)):\n",
    "                df_append = df_append.append(temp_df.loc[temp_df.anzahl>=iteration])\n",
    "            temp_df = df_append\n",
    "            \n",
    "        full_df = full_df.append(temp_df)\n",
    "    \n",
    "    full_df.reset_index(drop = True, inplace = True)\n",
    "    raw_names = re.sub(pattern = r' |\\d',repl='', string = full_df.reindex(np.random.permutation(full_df.index)).loc[full_df['geschlecht'] == gender].vorname.to_string())\n",
    " \n",
    "    return raw_names, full_df"
   ]
  },
  {
   "cell_type": "code",
   "execution_count": 145,
   "metadata": {
    "collapsed": true
   },
   "outputs": [],
   "source": [
    "my_districts = ['lichtenberg.csv', 'marzahn-hellersdorf.csv', 'neukoelln.csv', 'reinickendorf.csv']"
   ]
  },
  {
   "cell_type": "code",
   "execution_count": 144,
   "metadata": {
    "collapsed": false
   },
   "outputs": [
    {
     "name": "stdout",
     "output_type": "stream",
     "text": [
      "loading all districts (in folder)\n"
     ]
    }
   ],
   "source": [
    "names_w_all_districts, _  = build_training_data()"
   ]
  },
  {
   "cell_type": "code",
   "execution_count": 218,
   "metadata": {
    "collapsed": false
   },
   "outputs": [
    {
     "name": "stdout",
     "output_type": "stream",
     "text": [
      "loading districts as specified in list: ['lichtenberg.csv', 'marzahn-hellersdorf.csv', 'neukoelln.csv', 'reinickendorf.csv']\n"
     ]
    }
   ],
   "source": [
    "names_w_my_districts, test_df = build_training_data(gender = 'w', districts= my_districts, weighted=True)"
   ]
  },
  {
   "cell_type": "code",
   "execution_count": 219,
   "metadata": {
    "collapsed": false
   },
   "outputs": [
    {
     "data": {
      "text/plain": [
       "107037"
      ]
     },
     "execution_count": 219,
     "metadata": {},
     "output_type": "execute_result"
    }
   ],
   "source": [
    "len(names_w_my_districts)"
   ]
  },
  {
   "cell_type": "code",
   "execution_count": 220,
   "metadata": {
    "collapsed": false
   },
   "outputs": [
    {
     "data": {
      "text/plain": [
       "(31432, 3)"
      ]
     },
     "execution_count": 220,
     "metadata": {},
     "output_type": "execute_result"
    }
   ],
   "source": [
    "test_df.shape"
   ]
  }
 ],
 "metadata": {
  "kernelspec": {
   "display_name": "Python 2",
   "language": "python",
   "name": "python2"
  },
  "language_info": {
   "codemirror_mode": {
    "name": "ipython",
    "version": 2
   },
   "file_extension": ".py",
   "mimetype": "text/x-python",
   "name": "python",
   "nbconvert_exporter": "python",
   "pygments_lexer": "ipython2",
   "version": "2.7.6"
  }
 },
 "nbformat": 4,
 "nbformat_minor": 1
}

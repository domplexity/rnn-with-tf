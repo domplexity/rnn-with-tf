{
 "cells": [
  {
   "cell_type": "markdown",
   "metadata": {},
   "source": [
    "- load namelist\n",
    "- train model(s) male/female\n",
    "- filter results for \"unkown\" names\n",
    "- store results\n",
    "- (batch) send to msg-api"
   ]
  },
  {
   "cell_type": "code",
   "execution_count": 26,
   "metadata": {
    "collapsed": false
   },
   "outputs": [],
   "source": [
    "import tensorflow as tf\n",
    "import numpy as np\n",
    "import matplotlib.pyplot as plt\n",
    "%matplotlib inline\n",
    "import warnings\n",
    "from IPython.display import clear_output\n",
    "import collections\n",
    "import urllib\n",
    "from os import listdir\n",
    "from os.path import isfile, join\n",
    "import pandas"
   ]
  },
  {
   "cell_type": "code",
   "execution_count": 2,
   "metadata": {
    "collapsed": true
   },
   "outputs": [],
   "source": [
    "#source: https://daten.berlin.de/datensaetze/liste-der-h%C3%A4ufigen-vornamen-2015\n",
    "\n",
    "fileurllist = ['http://www.berlin.de/daten/liste-der-vornamen-2015/charlottenburg-wilmersdorf.csv',\n",
    "              'http://www.berlin.de/daten/liste-der-vornamen-2015/friedrichshain-kreuzberg.csv',\n",
    "              'http://www.berlin.de/daten/liste-der-vornamen-2015/lichtenberg.csv',\n",
    "              'http://www.berlin.de/daten/liste-der-vornamen-2015/marzahn-hellersdorf.csv',\n",
    "              'http://www.berlin.de/daten/liste-der-vornamen-2015/mitte.csv',\n",
    "              'http://www.berlin.de/daten/liste-der-vornamen-2015/neukoelln.csv',\n",
    "              'http://www.berlin.de/daten/liste-der-vornamen-2015/pankow.csv',\n",
    "              'http://www.berlin.de/daten/liste-der-vornamen-2015/reinickendorf.csv',\n",
    "              'http://www.berlin.de/daten/liste-der-vornamen-2015/spandau.csv',\n",
    "              'http://www.berlin.de/daten/liste-der-vornamen-2015/steglitz-zehlendorf.csv',\n",
    "              'http://www.berlin.de/daten/liste-der-vornamen-2015/tempelhof-schoeneberg.csv',\n",
    "              'http://www.berlin.de/daten/liste-der-vornamen-2015/treptow-koepenick.csv']\n",
    "!mkdir name-csvs/\n",
    "for url in fileurllist:\n",
    "    file_name = url.split('/')[-1]\n",
    "    full_path = 'name-csvs/' + file_name\n",
    "    urllib.urlretrieve(single_url, full_path)"
   ]
  },
  {
   "cell_type": "markdown",
   "metadata": {},
   "source": [
    "Build a proper text file for training"
   ]
  },
  {
   "cell_type": "code",
   "execution_count": 21,
   "metadata": {
    "collapsed": false
   },
   "outputs": [],
   "source": [
    "def build_training_data(gender=\"w\", districts=\"all\", weighted=False):\n",
    "    if (districts == \"all\"):\n",
    "        print \"loading all districts (in folder)\"\n",
    "        \n",
    "        files_in_dir = [f for f in listdir(name-csvs/) if isfile(join(mypath, f))]\n",
    "        \n",
    "        for current_file in files_in_dir:\n",
    "            with open(current_file) as file:\n",
    "                temp_df = pandas.read_csv(current_file,';')\n",
    "\n",
    "            raw_text = ' '.join(raw_lines[1:])\n",
    "            \n",
    "    else:#better check is is list\n",
    "        print \"loading districts specified in list\"\n",
    "    \n",
    "    \n",
    "    return namelist"
   ]
  },
  {
   "cell_type": "code",
   "execution_count": 22,
   "metadata": {
    "collapsed": false
   },
   "outputs": [
    {
     "name": "stdout",
     "output_type": "stream",
     "text": [
      "your list\n"
     ]
    }
   ],
   "source": [
    "build_training_data(districts = my_districts)"
   ]
  },
  {
   "cell_type": "code",
   "execution_count": 20,
   "metadata": {
    "collapsed": true
   },
   "outputs": [],
   "source": [
    "my_districts = ['lichtenberg', 'marzahn-hellersdorf', 'neukoelln', 'reinickendorf']"
   ]
  },
  {
   "cell_type": "code",
   "execution_count": 29,
   "metadata": {
    "collapsed": false
   },
   "outputs": [],
   "source": [
    "temp_df = pandas.read_csv('name-csvs/marzahn-hellersdorf.csv', ';')"
   ]
  },
  {
   "cell_type": "code",
   "execution_count": 42,
   "metadata": {
    "collapsed": false
   },
   "outputs": [
    {
     "data": {
      "text/plain": [
       "0            Marie\n",
       "1           Sophie\n",
       "2             Emma\n",
       "5          Johanna\n",
       "9        Charlotte\n",
       "11          Emilia\n",
       "13            Lina\n",
       "19          Helena\n",
       "20           Luise\n",
       "21           Maria\n",
       "22            Rosa\n",
       "24           Frida\n",
       "25          Hannah\n",
       "27        Mathilda\n",
       "30           Emily\n",
       "31          Leonie\n",
       "33         Marlene\n",
       "35         Matilda\n",
       "37             Mia\n",
       "39            Nora\n",
       "41           Paula\n",
       "43            Anna\n",
       "45           Elisa\n",
       "47            Ella\n",
       "49          Frieda\n",
       "51          Helene\n",
       "53             Lea\n",
       "55           Luisa\n",
       "57          Melina\n",
       "59            Nele\n",
       "          ...     \n",
       "891        Svantje\n",
       "893           Svea\n",
       "895        Swantje\n",
       "897          Taner\n",
       "899           Tara\n",
       "901          Tessa\n",
       "903         Thabea\n",
       "905    Thea-Emilia\n",
       "907       Theresia\n",
       "909          Tilda\n",
       "911           Toni\n",
       "913        Valerie\n",
       "915         Vianne\n",
       "917           Vida\n",
       "919       Viktoria\n",
       "921          Viola\n",
       "923        Violett\n",
       "925      Véronique\n",
       "927          Wanda\n",
       "929          Wenya\n",
       "931          Wilma\n",
       "933          Wolke\n",
       "935          Xenia\n",
       "937        Yasemin\n",
       "939           Yuna\n",
       "941          Zelda\n",
       "943           Zoey\n",
       "945           Zora\n",
       "947            Zoé\n",
       "949            Zoë\n",
       "Name: vorname, dtype: object"
      ]
     },
     "execution_count": 42,
     "metadata": {},
     "output_type": "execute_result"
    }
   ],
   "source": [
    "temp_df.vorname[temp_df['geschlecht'] == \"w\"]"
   ]
  },
  {
   "cell_type": "code",
   "execution_count": null,
   "metadata": {
    "collapsed": true
   },
   "outputs": [],
   "source": []
  }
 ],
 "metadata": {
  "kernelspec": {
   "display_name": "Python 2",
   "language": "python",
   "name": "python2"
  },
  "language_info": {
   "codemirror_mode": {
    "name": "ipython",
    "version": 2
   },
   "file_extension": ".py",
   "mimetype": "text/x-python",
   "name": "python",
   "nbconvert_exporter": "python",
   "pygments_lexer": "ipython2",
   "version": "2.7.6"
  }
 },
 "nbformat": 4,
 "nbformat_minor": 1
}

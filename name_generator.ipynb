{
 "cells": [
  {
   "cell_type": "code",
   "execution_count": 241,
   "metadata": {
    "collapsed": false
   },
   "outputs": [],
   "source": [
    "import tensorflow as tf\n",
    "import numpy as np\n",
    "import matplotlib.pyplot as plt\n",
    "%matplotlib inline\n",
    "import warnings\n",
    "from IPython.display import clear_output, FileLink, FileLinks\n",
    "import collections\n",
    "import urllib\n",
    "from os import listdir\n",
    "from os.path import isfile, join\n",
    "import pandas\n",
    "import re"
   ]
  },
  {
   "cell_type": "markdown",
   "metadata": {},
   "source": [
    "### Data preparation, helper functions, setup"
   ]
  },
  {
   "cell_type": "code",
   "execution_count": 138,
   "metadata": {
    "collapsed": true
   },
   "outputs": [],
   "source": [
    "#source: https://daten.berlin.de/datensaetze/liste-der-h%C3%A4ufigen-vornamen-2015\n",
    "\n",
    "fileurllist = ['http://www.berlin.de/daten/liste-der-vornamen-2015/charlottenburg-wilmersdorf.csv',\n",
    "              'http://www.berlin.de/daten/liste-der-vornamen-2015/friedrichshain-kreuzberg.csv',\n",
    "              'http://www.berlin.de/daten/liste-der-vornamen-2015/lichtenberg.csv',\n",
    "              'http://www.berlin.de/daten/liste-der-vornamen-2015/marzahn-hellersdorf.csv',\n",
    "              'http://www.berlin.de/daten/liste-der-vornamen-2015/mitte.csv',\n",
    "              'http://www.berlin.de/daten/liste-der-vornamen-2015/neukoelln.csv',\n",
    "              'http://www.berlin.de/daten/liste-der-vornamen-2015/pankow.csv',\n",
    "              'http://www.berlin.de/daten/liste-der-vornamen-2015/reinickendorf.csv',\n",
    "              'http://www.berlin.de/daten/liste-der-vornamen-2015/spandau.csv',\n",
    "              'http://www.berlin.de/daten/liste-der-vornamen-2015/steglitz-zehlendorf.csv',\n",
    "              'http://www.berlin.de/daten/liste-der-vornamen-2015/tempelhof-schoeneberg.csv',\n",
    "              'http://www.berlin.de/daten/liste-der-vornamen-2015/treptow-koepenick.csv']\n",
    "\n",
    "!mkdir name-csvs/\n",
    "for url in fileurllist:\n",
    "    file_name = url.split('/')[-1]\n",
    "    full_path = 'name-csvs/' + file_name\n",
    "    urllib.urlretrieve(url, full_path)"
   ]
  },
  {
   "cell_type": "markdown",
   "metadata": {},
   "source": [
    "Build a proper text file for training"
   ]
  },
  {
   "cell_type": "code",
   "execution_count": 217,
   "metadata": {
    "collapsed": false
   },
   "outputs": [],
   "source": [
    "def build_training_data(gender=\"w\", districts=\"all\", weighted=False):\n",
    "    # returns one string, names separated by \\n, names randomized, repetitions across districts NOT removed\n",
    "    raw_names = ''\n",
    "    if (districts == \"all\"): \n",
    "        fileslist = [f for f in listdir('name-csvs/') if isfile(join('name-csvs/', f))]\n",
    "        print \"loading all districts in folder :\"  + str(files_in_dir)\n",
    "    \n",
    "    else:#better check if is list\n",
    "        print \"loading districts as specified in list: \" + str(districts)\n",
    "        fileslist = districts\n",
    "        \n",
    "    for idx,current_file in enumerate(fileslist):\n",
    "        temp_df = pandas.read_csv(join('name-csvs/', current_file),';')     \n",
    "        if idx == 0:\n",
    "            full_df = temp_df\n",
    "            \n",
    "        if (weighted == True):\n",
    "            df_append = temp_df\n",
    "            for iteration in range(max(temp_df.anzahl)):\n",
    "                df_append = df_append.append(temp_df.loc[temp_df.anzahl>=iteration])\n",
    "            temp_df = df_append\n",
    "            \n",
    "        full_df = full_df.append(temp_df)\n",
    "    \n",
    "    full_df.reset_index(drop = True, inplace = True)\n",
    "    raw_names = re.sub(pattern = r' |\\d',repl='', string = full_df.reindex(np.random.permutation(full_df.index)).loc[full_df['geschlecht'] == gender].vorname.to_string())\n",
    " \n",
    "    return raw_names, full_df"
   ]
  },
  {
   "cell_type": "code",
   "execution_count": 145,
   "metadata": {
    "collapsed": true
   },
   "outputs": [],
   "source": [
    "my_districts = ['lichtenberg.csv', 'marzahn-hellersdorf.csv', 'neukoelln.csv', 'reinickendorf.csv']"
   ]
  },
  {
   "cell_type": "code",
   "execution_count": 144,
   "metadata": {
    "collapsed": false
   },
   "outputs": [
    {
     "name": "stdout",
     "output_type": "stream",
     "text": [
      "loading all districts (in folder)\n"
     ]
    }
   ],
   "source": [
    "names_w_all_districts, _  = build_training_data()"
   ]
  },
  {
   "cell_type": "code",
   "execution_count": 218,
   "metadata": {
    "collapsed": false
   },
   "outputs": [
    {
     "name": "stdout",
     "output_type": "stream",
     "text": [
      "loading districts as specified in list: ['lichtenberg.csv', 'marzahn-hellersdorf.csv', 'neukoelln.csv', 'reinickendorf.csv']\n"
     ]
    }
   ],
   "source": [
    "names_w_my_districts, test_df = build_training_data(gender = 'w', districts= my_districts, weighted=True)"
   ]
  },
  {
   "cell_type": "code",
   "execution_count": 219,
   "metadata": {
    "collapsed": false
   },
   "outputs": [
    {
     "data": {
      "text/plain": [
       "107037"
      ]
     },
     "execution_count": 219,
     "metadata": {},
     "output_type": "execute_result"
    }
   ],
   "source": [
    "len(names_w_my_districts)"
   ]
  },
  {
   "cell_type": "code",
   "execution_count": 220,
   "metadata": {
    "collapsed": false
   },
   "outputs": [
    {
     "data": {
      "text/plain": [
       "(31432, 3)"
      ]
     },
     "execution_count": 220,
     "metadata": {},
     "output_type": "execute_result"
    }
   ],
   "source": [
    "test_df.shape"
   ]
  },
  {
   "cell_type": "code",
   "execution_count": 223,
   "metadata": {
    "collapsed": true
   },
   "outputs": [],
   "source": [
    "vocab = list(set(names_w_my_districts))\n",
    "trans_dic = {vocab[i]: i for i in range(len(vocab))}\n",
    "rev_trans_dic = {i: vocab[i] for i in range(len(vocab))}\n",
    "raw_text_enc = [trans_dic[letter] for letter in names_w_my_districts]"
   ]
  },
  {
   "cell_type": "code",
   "execution_count": 238,
   "metadata": {
    "collapsed": true
   },
   "outputs": [],
   "source": [
    "Dimensions = collections.namedtuple(\"Dimensions\",\"vocab_size num_neurons, num_steps, batch_size\")\n",
    "\n",
    "dimensions = Dimensions(vocab_size = len(vocab),\n",
    "                        num_neurons = 500,\n",
    "                        num_steps = 50,\n",
    "                        batch_size = 10*128)"
   ]
  },
  {
   "cell_type": "code",
   "execution_count": 225,
   "metadata": {
    "collapsed": true
   },
   "outputs": [],
   "source": [
    "def gen_batch(raw_x, batch_size, num_steps):\n",
    "\n",
    "    if batch_size % num_steps != 0:\n",
    "        warnings.warn(\"Warning: batch size is not a multiple of num_steps.\")\n",
    "    \n",
    "    raw_y = raw_x[1:] + [raw_x[0]]\n",
    "    \n",
    "    # partition raw data into batches and stack them vertically in a data matrix\n",
    "    num_batch = len(raw_x) // batch_size\n",
    "    data_x = np.zeros([num_batch, batch_size], dtype=np.int32)\n",
    "    data_y = np.zeros([num_batch, batch_size], dtype=np.int32)\n",
    "    \n",
    "    for i in range(num_batch):\n",
    "        data_x[i] = raw_x[batch_size * i:batch_size * (i + 1)]\n",
    "        data_y[i] = raw_y[batch_size * i:batch_size * (i + 1)]\n",
    "    \n",
    "    # further divide batch partitions into num_steps for truncated backprop\n",
    "    batch_lines = batch_size // num_steps\n",
    "\n",
    "    for i in range(num_batch):\n",
    "        x = np.zeros([batch_lines,num_steps],dtype=np.int32)\n",
    "        y = np.zeros([batch_lines,num_steps],dtype=np.int32)\n",
    "        for n in range(batch_lines):\n",
    "            x[n,:] = data_x[i, n * num_steps:(n + 1) * num_steps]\n",
    "            y[n,:] = data_y[i, n * num_steps:(n + 1) * num_steps]\n",
    "        yield (x, y)"
   ]
  },
  {
   "cell_type": "code",
   "execution_count": 226,
   "metadata": {
    "collapsed": true
   },
   "outputs": [],
   "source": [
    "def gen_epochs(raw_data, num_epochs, batch_size, num_steps):\n",
    "    for i in range(num_epochs):\n",
    "        yield gen_batch(raw_data,batch_size,num_steps)"
   ]
  },
  {
   "cell_type": "markdown",
   "metadata": {},
   "source": [
    "### Define the graph"
   ]
  },
  {
   "cell_type": "code",
   "execution_count": 227,
   "metadata": {
    "collapsed": true
   },
   "outputs": [],
   "source": [
    "GraphOps = collections.namedtuple(\"GraphOps\",\"x y learning_rate train prediction init_state state accuracy loss init\")"
   ]
  },
  {
   "cell_type": "code",
   "execution_count": 236,
   "metadata": {
    "collapsed": true
   },
   "outputs": [],
   "source": [
    "def build_graph(dims):    \n",
    "    \n",
    "    tf.reset_default_graph()\n",
    "    \n",
    "    #----------input layer-----------------------\n",
    "    x = tf.placeholder(tf.int64, [None, dims.num_steps],name=\"x\")\n",
    "    y = tf.placeholder(tf.int64, [None, dims.num_steps],name=\"y\")\n",
    "    #init_state = tf.placeholder(tf.float32,[None, num_neurons])\n",
    "    learning_rate = tf.placeholder(tf.float32,[])\n",
    "\n",
    "    embeddings = tf.get_variable('embedding_matrix', [dims.vocab_size, dims.num_neurons])\n",
    "\n",
    "    # Tensor of dims batch_size //num_steps x num_steps x num_neurons\n",
    "    x_transformed = tf.nn.embedding_lookup(embeddings, x)\n",
    "\n",
    "    #----------hidden layer-----------------------\n",
    "    cell = tf.nn.rnn_cell.LSTMCell(dims.num_neurons, state_is_tuple=True)\n",
    "    cell = tf.nn.rnn_cell.MultiRNNCell([cell] * 3, state_is_tuple=True)\n",
    "    init_state = cell.zero_state(dims.batch_size//dims.num_steps,tf.float32)\n",
    "    rnn_output, final_state = tf.nn.dynamic_rnn(cell, x_transformed, initial_state=init_state, dtype=tf.float32)\n",
    "\n",
    "    #----------output layer-----------------------\n",
    "    weight = tf.Variable(tf.truncated_normal([dims.num_neurons, dims.vocab_size], stddev=0.1))\n",
    "    bias = tf.Variable(tf.constant(0.0, shape=[dims.vocab_size]))\n",
    "\n",
    "    output = tf.reshape(rnn_output, [-1, dims.num_neurons])\n",
    "    logits = tf.matmul(output, weight) + bias\n",
    "    prediction = tf.nn.softmax(logits)\n",
    "    prediction = tf.reshape(prediction, [-1, dims.num_steps, dims.vocab_size])\n",
    "\n",
    "    #----------loss and accuracy------------------\n",
    "    target = tf.reshape(y,[-1])\n",
    "    loss = tf.reduce_mean(tf.nn.sparse_softmax_cross_entropy_with_logits(logits,target))\n",
    "\n",
    "    accuracy = tf.reduce_mean(tf.cast(tf.equal(tf.argmax(prediction, 2),y), tf.float32))\n",
    "\n",
    "    #----------Trainer------------------\n",
    "    trainOp = tf.train.AdamOptimizer(learning_rate=learning_rate).minimize(loss)\n",
    "    init_vars = tf.initialize_all_variables()\n",
    "    \n",
    "    return GraphOps(x=x, y=y, learning_rate=learning_rate, train=trainOp, prediction=prediction, init_state=init_state, state=final_state, accuracy=accuracy, loss=loss, init=init_vars)\n"
   ]
  },
  {
   "cell_type": "markdown",
   "metadata": {},
   "source": [
    "### train the model"
   ]
  },
  {
   "cell_type": "code",
   "execution_count": 246,
   "metadata": {
    "collapsed": false
   },
   "outputs": [
    {
     "name": "stdout",
     "output_type": "stream",
     "text": [
      "Epoch: 29 step: 80 loss: 1.62644296885 accuracy: 0.494479995966\n",
      "\n"
     ]
    }
   ],
   "source": [
    "print_after_num_steps = 10\n",
    "adaptive_learning_rate = 0.01\n",
    "training_state = None\n",
    "\n",
    "trainHist = []\n",
    "accHist = []\n",
    "\n",
    "trainingOps = build_graph(dimensions)\n",
    "\n",
    "sess = tf.Session()\n",
    "sess.run(trainingOps.init)\n",
    "\n",
    "for num_epoch, epoch in enumerate(gen_epochs(raw_text_enc,30,dimensions.batch_size,dimensions.num_steps)):\n",
    "    \n",
    "    if num_epoch > 30:\n",
    "        adaptive_learning_rate = 0.001\n",
    "    \n",
    "    for i, batch in enumerate(epoch):\n",
    "        \n",
    "        feed_dic = {trainingOps.x: batch[0], trainingOps.y: batch[1], trainingOps.learning_rate: adaptive_learning_rate}\n",
    "        if training_state is not None:\n",
    "            feed_dic = {trainingOps.x: batch[0], trainingOps.y: batch[1], trainingOps.learning_rate: adaptive_learning_rate, trainingOps.init_state: training_state}\n",
    "        acc, lossVal, training_state, _ = sess.run([trainingOps.accuracy, trainingOps.loss, trainingOps.state, trainingOps.train], feed_dict=feed_dic)\n",
    "        trainHist.append(lossVal)\n",
    "        accHist.append(acc)\n",
    "        \n",
    "        if i % print_after_num_steps == 0:\n",
    "            clear_output()\n",
    "            avg_loss = sum(trainHist[-print_after_num_steps:])/print_after_num_steps\n",
    "            avg_acc = sum(accHist[-print_after_num_steps:])/print_after_num_steps\n",
    "            logstring = 'Epoch: '+ str(num_epoch) + ' step: ' + str(i) +' loss: ' + str(avg_loss) + ' accuracy: ' + str(avg_acc) + '\\n'\n",
    "            print(logstring)\n",
    "            with open(\"name_gen_log.txt\", \"a\") as myfile:\n",
    "                myfile.write(logstring)"
   ]
  },
  {
   "cell_type": "code",
   "execution_count": 248,
   "metadata": {
    "collapsed": false
   },
   "outputs": [
    {
     "data": {
      "text/html": [
       "<a href='lstm_rnn_name_gen.tf_vars' target='_blank'>lstm_rnn_name_gen.tf_vars</a><br>"
      ],
      "text/plain": [
       "/notebooks/lstm_rnn_name_gen.tf_vars"
      ]
     },
     "execution_count": 248,
     "metadata": {},
     "output_type": "execute_result"
    }
   ],
   "source": [
    "saver = tf.train.Saver()\n",
    "saver.save(sess, 'lstm_rnn_name_gen.tf_vars')\n",
    "FileLink('lstm_rnn_name_gen.tf_vars')"
   ]
  },
  {
   "cell_type": "code",
   "execution_count": 249,
   "metadata": {
    "collapsed": false
   },
   "outputs": [
    {
     "data": {
      "text/html": [
       "<a href='lstm_rnn_name_gen.tf_vars.meta' target='_blank'>lstm_rnn_name_gen.tf_vars.meta</a><br>"
      ],
      "text/plain": [
       "/notebooks/lstm_rnn_name_gen.tf_vars.meta"
      ]
     },
     "execution_count": 249,
     "metadata": {},
     "output_type": "execute_result"
    }
   ],
   "source": [
    "FileLink('lstm_rnn_name_gen.tf_vars.meta')"
   ]
  },
  {
   "cell_type": "code",
   "execution_count": 250,
   "metadata": {
    "collapsed": false
   },
   "outputs": [
    {
     "data": {
      "text/plain": [
       "[<matplotlib.lines.Line2D at 0x7fd6b9fd7390>]"
      ]
     },
     "execution_count": 250,
     "metadata": {},
     "output_type": "execute_result"
    },
    {
     "data": {
      "image/png": "[encoded data removed]",
      "text/plain": [
       "<matplotlib.figure.Figure at 0x7fd6b9ec2e10>"
      ]
     },
     "metadata": {},
     "output_type": "display_data"
    }
   ],
   "source": [
    "plt.plot(trainHist[:])"
   ]
  },
  {
   "cell_type": "markdown",
   "metadata": {},
   "source": [
    "### generate names\n",
    "some notes:\n",
    "\n",
    "- \"The temperature is dividing the predicted log probabilities before the Softmax, so lower temperature will cause the model to make more likely, but also more boring and conservative predictions. Higher temperatures cause the model to take more chances and increase diversity of results, but at a cost of more mistakes.\"\n",
    "\n",
    "- make sure generated name is not in training set (use pandas df)"
   ]
  },
  {
   "cell_type": "code",
   "execution_count": 251,
   "metadata": {
    "collapsed": true
   },
   "outputs": [],
   "source": [
    "#rebuild the graph:\n",
    "gen_dimensions = Dimensions(vocab_size = dimensions.vocab_size, \n",
    "                            num_neurons = dimensions.num_neurons, \n",
    "                            num_steps = 1,\n",
    "                            batch_size = 1)\n",
    "\n",
    "gen_ops = build_graph(gen_dimensions)\n",
    "\n",
    "sess = tf.Session()\n",
    "sess.run(tf.initialize_all_variables())\n",
    "\n",
    "saver = tf.train.Saver()\n",
    "saver.restore(sess, 'lstm_rnn_name_gen.tf_vars')\n",
    "\n",
    "prev = np.array([[trans_dic['x']]])\n",
    "\n",
    "generated_names = ''\n",
    "pred_hist = []\n",
    "\n",
    "for i in range(1000):\n",
    "    if i == 0:\n",
    "        pred, state = sess.run([gen_ops.prediction,gen_ops.state],feed_dict={gen_ops.x: prev})\n",
    "    else:\n",
    "        pred, state = sess.run([gen_ops.prediction,gen_ops.state],feed_dict={gen_ops.x: prev, gen_ops.init_state: state})\n",
    "    \n",
    "    pred_hist.append(pred)\n",
    "    prev = rev_trans_dic[np.random.choice(gen_dimensions.vocab_size,1,p=np.squeeze(pred)).flatten()[0]]\n",
    "    generated_names += prev\n",
    "    prev = np.array([[trans_dic[prev]]])"
   ]
  },
  {
   "cell_type": "code",
   "execution_count": 252,
   "metadata": {
    "collapsed": false
   },
   "outputs": [
    {
     "name": "stdout",
     "output_type": "stream",
     "text": [
      "xïărorhhariah\n",
      "Emma\n",
      "Josice\n",
      "Flora\n",
      "Gelda\n",
      "Catala\n",
      "Lurgin\n",
      "Charlotta\n",
      "Maria\n",
      "Luria\n",
      "Carlote\n",
      "Greta\n",
      "Edora\n",
      "Frittietta\n",
      "Dace\n",
      "Janija\n",
      "Nazbalea\n",
      "Zile\n",
      "Leyle\n",
      "Sophie\n",
      "Annelie\n",
      "Ipalina\n",
      "Meara\n",
      "Hiberlu\n",
      "Virria\n",
      "Sanephine\n",
      "Amelie\n",
      "Bir\n",
      "Alicu\n",
      "Raja\n",
      "Emely\n",
      "Emilie\n",
      "Isale\n",
      "Roe-Sole\n",
      "Dilay\n",
      "Clara\n",
      "Charlotte\n",
      "Lena\n",
      "Elna\n",
      "Andrere\n",
      "Laria\n",
      "Wile\n",
      "Emilia\n",
      "Lasie\n",
      "Leana\n",
      "Joli\n",
      "Freta\n",
      "Nikoléne\n",
      "Ingelly\n",
      "Ella\n",
      "Kamira\n",
      "Calistina\n",
      "Gatıma\n",
      "Eya\n",
      "Hohaslici\n",
      "Sofie\n",
      "Claisha\n",
      "Laja\n",
      "Merén\n",
      "Naja\n",
      "Le\n",
      "Alina\n",
      "Helena\n",
      "Daila-Luise\n",
      "Lino\n",
      "Gera\n",
      "Aurgin\n",
      "Malya\n",
      "Saline\n",
      "Mera\n",
      "Jasmin\n",
      "Amelha\n",
      "Krisoà\n",
      "Laie\n",
      "Leoida\n",
      "Harina\n",
      "Jaurem\n",
      "Lya\n",
      "Nazmin\n",
      "Meroja\n",
      "Sura\n",
      "Sharota\n",
      "Lena\n",
      "Merlin\n",
      "Angelie\n",
      "Ly\n",
      "Greti\n",
      "Laureeselike\n",
      "Saire\n",
      "Karina\n",
      "Joyan\n",
      "Faabea\n",
      "Luta\n",
      "Zoéelle\n",
      "Minh\n",
      "Loise\n",
      "Krarlotta\n",
      "Emily\n",
      "Lyny\n",
      "Marie\n",
      "Amanicha\n",
      "Aleonou\n",
      "Lane\n",
      "Valeria\n",
      "Caya\n",
      "Alija\n",
      "Lilin\n",
      "Hele\n",
      "Fa\n",
      "Elhelen\n",
      "Ragine\n",
      "Angelia\n",
      "Averia\n",
      "Ozabelle\n",
      "Suth\n",
      "Linjeker\n",
      "Noe\n",
      "Naro\n",
      "Jusephine\n",
      "Lea\n",
      "Mar\n",
      "Dines-Zoéce\n",
      "Evom\n",
      "Emily\n",
      "Jae\n",
      "Jote\n",
      "Maria\n",
      "Shanor\n",
      "Pathrenova\n",
      "Aşra\n",
      "Madith\n",
      "Emaore\n",
      "Nejnna\n",
      "Liese\n",
      "Semayne\n",
      "Harnophin\n",
      "Amy\n",
      "Selien\n",
      "Lunu\n",
      "Lenny\n",
      "Marie\n",
      "Jina\n",
      "Negin\n",
      "Efely\n",
      "Rosalie\n",
      "Tahkén\n",
      "Emilia\n",
      "Charlotte\n",
      "Navy\n",
      "Stans\n"
     ]
    }
   ],
   "source": [
    "print(generated_names)"
   ]
  },
  {
   "cell_type": "markdown",
   "metadata": {},
   "source": [
    "### store & send"
   ]
  },
  {
   "cell_type": "code",
   "execution_count": null,
   "metadata": {
    "collapsed": true
   },
   "outputs": [],
   "source": []
  }
 ],
 "metadata": {
  "kernelspec": {
   "display_name": "Python 2",
   "language": "python",
   "name": "python2"
  },
  "language_info": {
   "codemirror_mode": {
    "name": "ipython",
    "version": 2
   },
   "file_extension": ".py",
   "mimetype": "text/x-python",
   "name": "python",
   "nbconvert_exporter": "python",
   "pygments_lexer": "ipython2",
   "version": "2.7.6"
  }
 },
 "nbformat": 4,
 "nbformat_minor": 1
}

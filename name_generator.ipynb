{
 "cells": [
  {
   "cell_type": "markdown",
   "metadata": {},
   "source": [
    "- load namelist\n",
    "- train model(s) male/female\n",
    "- filter results for \"unkown\" names\n",
    "- store results\n",
    "- (batch) send to msg-api"
   ]
  },
  {
   "cell_type": "code",
   "execution_count": 56,
   "metadata": {
    "collapsed": false
   },
   "outputs": [],
   "source": [
    "import tensorflow as tf\n",
    "import numpy as np\n",
    "import matplotlib.pyplot as plt\n",
    "%matplotlib inline\n",
    "import warnings\n",
    "from IPython.display import clear_output\n",
    "import collections\n",
    "import urllib\n",
    "from os import listdir\n",
    "from os.path import isfile, join\n",
    "import pandas\n",
    "import re"
   ]
  },
  {
   "cell_type": "code",
   "execution_count": 138,
   "metadata": {
    "collapsed": true
   },
   "outputs": [],
   "source": [
    "#source: https://daten.berlin.de/datensaetze/liste-der-h%C3%A4ufigen-vornamen-2015\n",
    "\n",
    "fileurllist = ['http://www.berlin.de/daten/liste-der-vornamen-2015/charlottenburg-wilmersdorf.csv',\n",
    "              'http://www.berlin.de/daten/liste-der-vornamen-2015/friedrichshain-kreuzberg.csv',\n",
    "              'http://www.berlin.de/daten/liste-der-vornamen-2015/lichtenberg.csv',\n",
    "              'http://www.berlin.de/daten/liste-der-vornamen-2015/marzahn-hellersdorf.csv',\n",
    "              'http://www.berlin.de/daten/liste-der-vornamen-2015/mitte.csv',\n",
    "              'http://www.berlin.de/daten/liste-der-vornamen-2015/neukoelln.csv',\n",
    "              'http://www.berlin.de/daten/liste-der-vornamen-2015/pankow.csv',\n",
    "              'http://www.berlin.de/daten/liste-der-vornamen-2015/reinickendorf.csv',\n",
    "              'http://www.berlin.de/daten/liste-der-vornamen-2015/spandau.csv',\n",
    "              'http://www.berlin.de/daten/liste-der-vornamen-2015/steglitz-zehlendorf.csv',\n",
    "              'http://www.berlin.de/daten/liste-der-vornamen-2015/tempelhof-schoeneberg.csv',\n",
    "              'http://www.berlin.de/daten/liste-der-vornamen-2015/treptow-koepenick.csv']\n",
    "!mkdir name-csvs/\n",
    "for url in fileurllist:\n",
    "    file_name = url.split('/')[-1]\n",
    "    full_path = 'name-csvs/' + file_name\n",
    "    urllib.urlretrieve(url, full_path)"
   ]
  },
  {
   "cell_type": "markdown",
   "metadata": {},
   "source": [
    "Build a proper text file for training"
   ]
  },
  {
   "cell_type": "code",
   "execution_count": 149,
   "metadata": {
    "collapsed": false
   },
   "outputs": [],
   "source": [
    "def build_training_data(gender=\"w\", districts=\"all\", weighted=False):\n",
    "    # returns one string, names separated by \\n, names randomized, repetitions across districts NOT removed\n",
    "    raw_names = ''\n",
    "    if (districts == \"all\"):\n",
    "        print \"loading all districts (in folder)\"\n",
    "        \n",
    "        files_in_dir = [f for f in listdir('name-csvs/') if isfile(join('name-csvs/', f))]\n",
    "        #print files_in_dir\n",
    "        \n",
    "        for current_file in files_in_dir:\n",
    "            #print join('name-csvs/', current_file)\n",
    "            temp_df = pandas.read_csv(join('name-csvs/', current_file),';')\n",
    "            #print(temp_df.head())\n",
    "            #print len(temp_df)\n",
    "            #print 'Adding ' + str(len(temp_df)) + ' names from file ' + current_file\n",
    "            temp_str = re.sub(pattern = r' |\\d',repl='', string = temp_df.reindex(np.random.permutation(temp_df.index)).loc[temp_df['geschlecht'] == gender].vorname.to_string())\n",
    "            raw_names += temp_str\n",
    "            \n",
    "    else:#better check if is list\n",
    "        print \"loading districts as specified in list: \" + str(districts)\n",
    "          \n",
    "        for current_file in districts:\n",
    "\n",
    "            temp_df = pandas.read_csv(join('name-csvs/', current_file),';')\n",
    "            temp_str = re.sub(pattern = r' |\\d',repl='', string = temp_df.reindex(np.random.permutation(temp_df.index)).loc[temp_df['geschlecht'] == \"w\"].vorname.to_string())\n",
    "            raw_names += temp_str\n",
    "    \n",
    "    return raw_names"
   ]
  },
  {
   "cell_type": "code",
   "execution_count": 145,
   "metadata": {
    "collapsed": true
   },
   "outputs": [],
   "source": [
    "my_districts = ['lichtenberg.csv', 'marzahn-hellersdorf.csv', 'neukoelln.csv', 'reinickendorf.csv']"
   ]
  },
  {
   "cell_type": "code",
   "execution_count": 144,
   "metadata": {
    "collapsed": false
   },
   "outputs": [
    {
     "name": "stdout",
     "output_type": "stream",
     "text": [
      "loading all districts (in folder)\n"
     ]
    }
   ],
   "source": [
    "names_w_all_districts = build_training_data()"
   ]
  },
  {
   "cell_type": "code",
   "execution_count": 150,
   "metadata": {
    "collapsed": false
   },
   "outputs": [
    {
     "name": "stdout",
     "output_type": "stream",
     "text": [
      "loading districts as specified in list: ['lichtenberg.csv', 'marzahn-hellersdorf.csv', 'neukoelln.csv', 'reinickendorf.csv']\n"
     ]
    }
   ],
   "source": [
    "names_w_my_districts = build_training_data(districts= my_districts)"
   ]
  }
 ],
 "metadata": {
  "kernelspec": {
   "display_name": "Python 2",
   "language": "python",
   "name": "python2"
  },
  "language_info": {
   "codemirror_mode": {
    "name": "ipython",
    "version": 2
   },
   "file_extension": ".py",
   "mimetype": "text/x-python",
   "name": "python",
   "nbconvert_exporter": "python",
   "pygments_lexer": "ipython2",
   "version": "2.7.6"
  }
 },
 "nbformat": 4,
 "nbformat_minor": 1
}

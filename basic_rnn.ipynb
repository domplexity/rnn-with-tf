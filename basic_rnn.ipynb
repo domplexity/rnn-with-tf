{
 "cells": [
  {
   "cell_type": "code",
   "execution_count": 1,
   "metadata": {
    "collapsed": true
   },
   "outputs": [],
   "source": [
    "import tensorflow as tf\n",
    "import numpy as np\n",
    "import matplotlib.pyplot as plt\n",
    "%matplotlib inline\n",
    "import warnings\n",
    "from IPython.display import clear_output"
   ]
  },
  {
   "cell_type": "code",
   "execution_count": 40,
   "metadata": {
    "collapsed": false
   },
   "outputs": [],
   "source": [
    "with open('tiny-shakespeare.txt') as file:\n",
    "    raw_lines = [line.replace('\\r',' ') for line in file.readlines()]\n",
    "raw_text = ' '.join(raw_lines[:])"
   ]
  },
  {
   "cell_type": "code",
<<<<<<< HEAD
   "execution_count": 3,
=======
   "execution_count": 41,
>>>>>>> 1760e3f1e077840c49f73a365866ff58c7840e8a
   "metadata": {
    "collapsed": true
   },
   "outputs": [],
   "source": [
    "vocab = list(set(raw_text))\n",
    "trans_dic = {vocab[i]: i for i in range(len(vocab))}\n",
    "rev_trans_dic = {i: vocab[i] for i in range(len(vocab))}\n",
    "raw_text_enc = [trans_dic[letter] for letter in raw_text]"
   ]
  },
  {
   "cell_type": "code",
<<<<<<< HEAD
   "execution_count": 30,
=======
   "execution_count": 120,
>>>>>>> 1760e3f1e077840c49f73a365866ff58c7840e8a
   "metadata": {
    "collapsed": true
   },
   "outputs": [],
   "source": [
    "text_size = len(raw_text_enc)\n",
    "vocab_size = len(vocab)\n",
    "num_neurons = 100\n",
    "num_steps = 25\n",
<<<<<<< HEAD
    "batch_size = 64*num_steps"
=======
    "batch_size = 32*num_steps"
>>>>>>> 1760e3f1e077840c49f73a365866ff58c7840e8a
   ]
  },
  {
   "cell_type": "code",
<<<<<<< HEAD
   "execution_count": 5,
=======
   "execution_count": 121,
>>>>>>> 1760e3f1e077840c49f73a365866ff58c7840e8a
   "metadata": {
    "collapsed": true
   },
   "outputs": [],
   "source": [
    "def gen_batch(raw_x, batch_size, num_steps):\n",
    "\n",
    "    if batch_size % num_steps != 0:\n",
    "        warnings.warn(\"Warning: batch size is not a multiple of num_steps.\")\n",
    "    \n",
    "    raw_y = raw_x[1:] + [raw_x[0]]\n",
    "    \n",
    "    # partition raw data into batches and stack them vertically in a data matrix\n",
    "    num_batch = len(raw_x) // batch_size\n",
    "    data_x = np.zeros([num_batch, batch_size], dtype=np.int32)\n",
    "    data_y = np.zeros([num_batch, batch_size], dtype=np.int32)\n",
    "    \n",
    "    for i in range(num_batch):\n",
    "        data_x[i] = raw_x[batch_size * i:batch_size * (i + 1)]\n",
    "        data_y[i] = raw_y[batch_size * i:batch_size * (i + 1)]\n",
    "    \n",
    "    # further divide batch partitions into num_steps for truncated backprop\n",
    "    batch_lines = batch_size // num_steps\n",
    "\n",
    "    for i in range(num_batch):\n",
    "        x = np.zeros([batch_lines,num_steps],dtype=np.int32)\n",
    "        y = np.zeros([batch_lines,num_steps],dtype=np.int32)\n",
    "        for n in range(batch_lines):\n",
    "            x[n,:] = data_x[i, n * num_steps:(n + 1) * num_steps]\n",
    "            y[n,:] = data_y[i, n * num_steps:(n + 1) * num_steps]\n",
    "        yield (x, y)"
   ]
  },
  {
   "cell_type": "code",
<<<<<<< HEAD
   "execution_count": 6,
=======
   "execution_count": 122,
>>>>>>> 1760e3f1e077840c49f73a365866ff58c7840e8a
   "metadata": {
    "collapsed": true
   },
   "outputs": [],
   "source": [
    "def gen_epochs(raw_data, num_epochs, batch_size, num_steps):\n",
    "    for i in range(num_epochs):\n",
    "        yield gen_batch(raw_data,batch_size,num_steps)"
   ]
  },
  {
   "cell_type": "markdown",
   "metadata": {},
   "source": [
    "# Graph "
   ]
  },
  {
   "cell_type": "code",
<<<<<<< HEAD
   "execution_count": 31,
=======
   "execution_count": 123,
>>>>>>> 1760e3f1e077840c49f73a365866ff58c7840e8a
   "metadata": {
    "collapsed": true
   },
   "outputs": [],
   "source": [
    "tf.reset_default_graph()"
   ]
  },
  {
   "cell_type": "code",
<<<<<<< HEAD
   "execution_count": 32,
=======
   "execution_count": 124,
>>>>>>> 1760e3f1e077840c49f73a365866ff58c7840e8a
   "metadata": {
    "collapsed": false
   },
   "outputs": [],
   "source": [
    "#----------input layer-----------------------\n",
    "x = tf.placeholder(tf.int64, [None, num_steps])\n",
    "y = tf.placeholder(tf.int64, [None, num_steps])\n",
    "init_state = tf.placeholder(tf.float32,[None, num_neurons])\n",
    "learning_rate = tf.placeholder(tf.float32,[])\n",
    "\n",
    "embeddings = tf.get_variable('embedding_matrix', [vocab_size, num_neurons])\n",
    "\n",
    "# Tensor of dims batch_size //num_steps x num_steps x num_neurons\n",
    "x_transformed = tf.nn.embedding_lookup(embeddings, x)\n",
    "\n",
    "\n",
    "#----------hidden layer-----------------------\n",
    "cell = tf.nn.rnn_cell.BasicRNNCell(num_neurons)\n",
    "#init_state = cell.zero_state(batch_size//num_steps,tf.float32)\n",
    "rnn_output, final_state = tf.nn.dynamic_rnn(cell, x_transformed, initial_state=init_state, dtype=tf.float32)\n",
    "\n",
    "\n",
    "#----------output layer-----------------------\n",
    "weight = tf.Variable(tf.truncated_normal([num_neurons, vocab_size], stddev=0.1))\n",
    "bias = tf.Variable(tf.constant(0.0, shape=[vocab_size]))\n",
    "\n",
    "output = tf.reshape(rnn_output, [-1, num_neurons])\n",
    "logits = tf.matmul(output, weight) + bias\n",
    "prediction = tf.nn.softmax(logits)\n",
    "prediction = tf.reshape(prediction, [-1, num_steps, vocab_size])\n",
    "\n",
    "#----------loss and accuracy------------------\n",
    "target = tf.reshape(y,[-1])\n",
    "loss = tf.reduce_mean(tf.nn.sparse_softmax_cross_entropy_with_logits(logits,target))\n",
    "\n",
    "accuracy = tf.reduce_mean(tf.cast(tf.equal(tf.argmax(prediction, 2),y), tf.float32))\n",
    "\n",
    "#----------Trainer------------------\n",
    "trainOp = tf.train.AdagradOptimizer(learning_rate=learning_rate).minimize(loss)\n",
    "init_vars = tf.initialize_all_variables()\n"
   ]
  },
  {
   "cell_type": "markdown",
   "metadata": {},
   "source": [
    "# Training"
   ]
  },
  {
   "cell_type": "code",
<<<<<<< HEAD
   "execution_count": 37,
=======
   "execution_count": 126,
>>>>>>> 1760e3f1e077840c49f73a365866ff58c7840e8a
   "metadata": {
    "collapsed": false
   },
   "outputs": [
    {
     "name": "stdout",
     "output_type": "stream",
     "text": [
<<<<<<< HEAD
      "(0, 900, 1.6429128825664521, 0.52332499653100972)\n"
=======
      "(0, 210, 2.2375022172927856, 0.37562499940395355)\n"
     ]
    },
    {
     "ename": "KeyboardInterrupt",
     "evalue": "",
     "output_type": "error",
     "traceback": [
      "\u001b[0;31m\u001b[0m",
      "\u001b[0;31mKeyboardInterrupt\u001b[0mTraceback (most recent call last)",
      "\u001b[0;32m<ipython-input-126-bb08864e163a>\u001b[0m in \u001b[0;36m<module>\u001b[0;34m()\u001b[0m\n\u001b[1;32m     21\u001b[0m         \u001b[0mfeed_dict\u001b[0m \u001b[0;34m=\u001b[0m \u001b[0;34m{\u001b[0m\u001b[0mx\u001b[0m\u001b[0;34m:\u001b[0m \u001b[0mbatch\u001b[0m\u001b[0;34m[\u001b[0m\u001b[0;36m0\u001b[0m\u001b[0;34m]\u001b[0m\u001b[0;34m,\u001b[0m \u001b[0my\u001b[0m\u001b[0;34m:\u001b[0m \u001b[0mbatch\u001b[0m\u001b[0;34m[\u001b[0m\u001b[0;36m1\u001b[0m\u001b[0;34m]\u001b[0m\u001b[0;34m,\u001b[0m \u001b[0minit_state\u001b[0m\u001b[0;34m:\u001b[0m \u001b[0mtraining_state\u001b[0m\u001b[0;34m,\u001b[0m \u001b[0mlearning_rate\u001b[0m\u001b[0;34m:\u001b[0m \u001b[0madaptive_learning_rate\u001b[0m\u001b[0;34m}\u001b[0m\u001b[0;34m\u001b[0m\u001b[0m\n\u001b[1;32m     22\u001b[0m \u001b[0;34m\u001b[0m\u001b[0m\n\u001b[0;32m---> 23\u001b[0;31m         \u001b[0macc\u001b[0m\u001b[0;34m,\u001b[0m \u001b[0mlossVal\u001b[0m\u001b[0;34m,\u001b[0m \u001b[0mtraining_state\u001b[0m\u001b[0;34m,\u001b[0m \u001b[0m_\u001b[0m \u001b[0;34m=\u001b[0m \u001b[0msess\u001b[0m\u001b[0;34m.\u001b[0m\u001b[0mrun\u001b[0m\u001b[0;34m(\u001b[0m\u001b[0;34m[\u001b[0m\u001b[0maccuracy\u001b[0m\u001b[0;34m,\u001b[0m \u001b[0mloss\u001b[0m\u001b[0;34m,\u001b[0m \u001b[0mfinal_state\u001b[0m\u001b[0;34m,\u001b[0m \u001b[0mtrainOp\u001b[0m\u001b[0;34m]\u001b[0m\u001b[0;34m,\u001b[0m \u001b[0mfeed_dict\u001b[0m\u001b[0;34m=\u001b[0m\u001b[0mfeed_dict\u001b[0m\u001b[0;34m)\u001b[0m\u001b[0;34m\u001b[0m\u001b[0m\n\u001b[0m\u001b[1;32m     24\u001b[0m         \u001b[0mtrainHist\u001b[0m\u001b[0;34m.\u001b[0m\u001b[0mappend\u001b[0m\u001b[0;34m(\u001b[0m\u001b[0mlossVal\u001b[0m\u001b[0;34m)\u001b[0m\u001b[0;34m\u001b[0m\u001b[0m\n\u001b[1;32m     25\u001b[0m         \u001b[0maccHist\u001b[0m\u001b[0;34m.\u001b[0m\u001b[0mappend\u001b[0m\u001b[0;34m(\u001b[0m\u001b[0macc\u001b[0m\u001b[0;34m)\u001b[0m\u001b[0;34m\u001b[0m\u001b[0m\n",
      "\u001b[0;32m/usr/local/lib/python2.7/dist-packages/tensorflow/python/client/session.pyc\u001b[0m in \u001b[0;36mrun\u001b[0;34m(self, fetches, feed_dict, options, run_metadata)\u001b[0m\n\u001b[1;32m    708\u001b[0m     \u001b[0;32mtry\u001b[0m\u001b[0;34m:\u001b[0m\u001b[0;34m\u001b[0m\u001b[0m\n\u001b[1;32m    709\u001b[0m       result = self._run(None, fetches, feed_dict, options_ptr,\n\u001b[0;32m--> 710\u001b[0;31m                          run_metadata_ptr)\n\u001b[0m\u001b[1;32m    711\u001b[0m       \u001b[0;32mif\u001b[0m \u001b[0mrun_metadata\u001b[0m\u001b[0;34m:\u001b[0m\u001b[0;34m\u001b[0m\u001b[0m\n\u001b[1;32m    712\u001b[0m         \u001b[0mproto_data\u001b[0m \u001b[0;34m=\u001b[0m \u001b[0mtf_session\u001b[0m\u001b[0;34m.\u001b[0m\u001b[0mTF_GetBuffer\u001b[0m\u001b[0;34m(\u001b[0m\u001b[0mrun_metadata_ptr\u001b[0m\u001b[0;34m)\u001b[0m\u001b[0;34m\u001b[0m\u001b[0m\n",
      "\u001b[0;32m/usr/local/lib/python2.7/dist-packages/tensorflow/python/client/session.pyc\u001b[0m in \u001b[0;36m_run\u001b[0;34m(self, handle, fetches, feed_dict, options, run_metadata)\u001b[0m\n\u001b[1;32m    906\u001b[0m     \u001b[0;32mif\u001b[0m \u001b[0mfinal_fetches\u001b[0m \u001b[0;32mor\u001b[0m \u001b[0mfinal_targets\u001b[0m\u001b[0;34m:\u001b[0m\u001b[0;34m\u001b[0m\u001b[0m\n\u001b[1;32m    907\u001b[0m       results = self._do_run(handle, final_targets, final_fetches,\n\u001b[0;32m--> 908\u001b[0;31m                              feed_dict_string, options, run_metadata)\n\u001b[0m\u001b[1;32m    909\u001b[0m     \u001b[0;32melse\u001b[0m\u001b[0;34m:\u001b[0m\u001b[0;34m\u001b[0m\u001b[0m\n\u001b[1;32m    910\u001b[0m       \u001b[0mresults\u001b[0m \u001b[0;34m=\u001b[0m \u001b[0;34m[\u001b[0m\u001b[0;34m]\u001b[0m\u001b[0;34m\u001b[0m\u001b[0m\n",
      "\u001b[0;32m/usr/local/lib/python2.7/dist-packages/tensorflow/python/client/session.pyc\u001b[0m in \u001b[0;36m_do_run\u001b[0;34m(self, handle, target_list, fetch_list, feed_dict, options, run_metadata)\u001b[0m\n\u001b[1;32m    956\u001b[0m     \u001b[0;32mif\u001b[0m \u001b[0mhandle\u001b[0m \u001b[0;32mis\u001b[0m \u001b[0mNone\u001b[0m\u001b[0;34m:\u001b[0m\u001b[0;34m\u001b[0m\u001b[0m\n\u001b[1;32m    957\u001b[0m       return self._do_call(_run_fn, self._session, feed_dict, fetch_list,\n\u001b[0;32m--> 958\u001b[0;31m                            target_list, options, run_metadata)\n\u001b[0m\u001b[1;32m    959\u001b[0m     \u001b[0;32melse\u001b[0m\u001b[0;34m:\u001b[0m\u001b[0;34m\u001b[0m\u001b[0m\n\u001b[1;32m    960\u001b[0m       return self._do_call(_prun_fn, self._session, handle, feed_dict,\n",
      "\u001b[0;32m/usr/local/lib/python2.7/dist-packages/tensorflow/python/client/session.pyc\u001b[0m in \u001b[0;36m_do_call\u001b[0;34m(self, fn, *args)\u001b[0m\n\u001b[1;32m    963\u001b[0m   \u001b[0;32mdef\u001b[0m \u001b[0m_do_call\u001b[0m\u001b[0;34m(\u001b[0m\u001b[0mself\u001b[0m\u001b[0;34m,\u001b[0m \u001b[0mfn\u001b[0m\u001b[0;34m,\u001b[0m \u001b[0;34m*\u001b[0m\u001b[0margs\u001b[0m\u001b[0;34m)\u001b[0m\u001b[0;34m:\u001b[0m\u001b[0;34m\u001b[0m\u001b[0m\n\u001b[1;32m    964\u001b[0m     \u001b[0;32mtry\u001b[0m\u001b[0;34m:\u001b[0m\u001b[0;34m\u001b[0m\u001b[0m\n\u001b[0;32m--> 965\u001b[0;31m       \u001b[0;32mreturn\u001b[0m \u001b[0mfn\u001b[0m\u001b[0;34m(\u001b[0m\u001b[0;34m*\u001b[0m\u001b[0margs\u001b[0m\u001b[0;34m)\u001b[0m\u001b[0;34m\u001b[0m\u001b[0m\n\u001b[0m\u001b[1;32m    966\u001b[0m     \u001b[0;32mexcept\u001b[0m \u001b[0merrors\u001b[0m\u001b[0;34m.\u001b[0m\u001b[0mOpError\u001b[0m \u001b[0;32mas\u001b[0m \u001b[0me\u001b[0m\u001b[0;34m:\u001b[0m\u001b[0;34m\u001b[0m\u001b[0m\n\u001b[1;32m    967\u001b[0m       \u001b[0mmessage\u001b[0m \u001b[0;34m=\u001b[0m \u001b[0mcompat\u001b[0m\u001b[0;34m.\u001b[0m\u001b[0mas_text\u001b[0m\u001b[0;34m(\u001b[0m\u001b[0me\u001b[0m\u001b[0;34m.\u001b[0m\u001b[0mmessage\u001b[0m\u001b[0;34m)\u001b[0m\u001b[0;34m\u001b[0m\u001b[0m\n",
      "\u001b[0;32m/usr/local/lib/python2.7/dist-packages/tensorflow/python/client/session.pyc\u001b[0m in \u001b[0;36m_run_fn\u001b[0;34m(session, feed_dict, fetch_list, target_list, options, run_metadata)\u001b[0m\n\u001b[1;32m    945\u001b[0m         return tf_session.TF_Run(session, options,\n\u001b[1;32m    946\u001b[0m                                  \u001b[0mfeed_dict\u001b[0m\u001b[0;34m,\u001b[0m \u001b[0mfetch_list\u001b[0m\u001b[0;34m,\u001b[0m \u001b[0mtarget_list\u001b[0m\u001b[0;34m,\u001b[0m\u001b[0;34m\u001b[0m\u001b[0m\n\u001b[0;32m--> 947\u001b[0;31m                                  status, run_metadata)\n\u001b[0m\u001b[1;32m    948\u001b[0m \u001b[0;34m\u001b[0m\u001b[0m\n\u001b[1;32m    949\u001b[0m     \u001b[0;32mdef\u001b[0m \u001b[0m_prun_fn\u001b[0m\u001b[0;34m(\u001b[0m\u001b[0msession\u001b[0m\u001b[0;34m,\u001b[0m \u001b[0mhandle\u001b[0m\u001b[0;34m,\u001b[0m \u001b[0mfeed_dict\u001b[0m\u001b[0;34m,\u001b[0m \u001b[0mfetch_list\u001b[0m\u001b[0;34m)\u001b[0m\u001b[0;34m:\u001b[0m\u001b[0;34m\u001b[0m\u001b[0m\n",
      "\u001b[0;31mKeyboardInterrupt\u001b[0m: "
>>>>>>> 1760e3f1e077840c49f73a365866ff58c7840e8a
     ]
    }
   ],
   "source": [
<<<<<<< HEAD
    "print_after_num_steps = 100\n",
    "adaptive_learning_rate = 0.1\n",
    "restart_training = False\n",
    "\n",
    "if restart_training:\n",
    "    training_state = None\n",
    "    trainHist = []\n",
    "    accHist = []\n",
    "    sess = tf.Session()\n",
    "    sess.run(init_vars)\n",
    "\n",
    "for num_epoch, epoch in enumerate(gen_epochs(raw_text_enc[:1000*batch_size],1,batch_size,num_steps)):\n",
    "    \n",
    "    if num_epoch > 50:\n",
    "        adaptive_learning_rate = 0.01\n",
=======
    "print_after_num_steps = 10\n",
    "adaptive_learning_rate = 0.005\n",
    "restart_training = True\n",
    "\n",
    "if restart_training:\n",
    "    training_state = np.zeros((batch_size//num_steps,num_neurons),dtype=np.float32)\n",
    "\n",
    "    trainHist = []\n",
    "    accHist = []\n",
    "\n",
    "    sess = tf.Session()\n",
    "    sess.run(init_vars)\n",
    "\n",
    "for num_epoch, epoch in enumerate(gen_epochs(raw_text_enc[:1000*batch_size],10,batch_size,num_steps)):\n",
    "    \n",
    "    #if num_epoch > 10:\n",
    "    #   adaptive_learning_rate = 0.001\n",
>>>>>>> 1760e3f1e077840c49f73a365866ff58c7840e8a
    "    \n",
    "    for i, batch in enumerate(epoch):\n",
    "        \n",
    "        feed_dict = {x: batch[0], y: batch[1], init_state: training_state, learning_rate: adaptive_learning_rate}\n",
    "        \n",
<<<<<<< HEAD
    "        acc, lossVal, training_state, pred, _ = sess.run([accuracy, loss, final_state, prediction, trainOp], feed_dict=feed_dic)\n",
=======
    "        acc, lossVal, training_state, _ = sess.run([accuracy, loss, final_state, trainOp], feed_dict=feed_dict)\n",
>>>>>>> 1760e3f1e077840c49f73a365866ff58c7840e8a
    "        trainHist.append(lossVal)\n",
    "        accHist.append(acc)\n",
    "        \n",
    "        if i % print_after_num_steps == 0:\n",
    "            clear_output()\n",
    "            avg_loss = sum(trainHist[-print_after_num_steps:])/print_after_num_steps\n",
    "            avg_acc = sum(accHist[-print_after_num_steps:])/print_after_num_steps\n",
    "            \n",
    "            print(num_epoch, i, avg_loss, avg_acc)\n",
    "            "
   ]
  },
  {
   "cell_type": "code",
<<<<<<< HEAD
   "execution_count": 19,
=======
   "execution_count": 111,
>>>>>>> 1760e3f1e077840c49f73a365866ff58c7840e8a
   "metadata": {
    "collapsed": false
   },
   "outputs": [
    {
     "data": {
      "text/plain": [
<<<<<<< HEAD
       "[<matplotlib.lines.Line2D at 0x7fc7e72eb410>]"
      ]
     },
     "execution_count": 19,
=======
       "[<matplotlib.lines.Line2D at 0x7f68fd45a990>]"
      ]
     },
     "execution_count": 111,
>>>>>>> 1760e3f1e077840c49f73a365866ff58c7840e8a
     "metadata": {},
     "output_type": "execute_result"
    },
    {
     "data": {
<<<<<<< HEAD
      "image/png": "iVBORw0KGgoAAAANSUhEUgAAAg0AAAFdCAYAAACAfl7+AAAABHNCSVQICAgIfAhkiAAAAAlwSFlz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\nAAAASUVORK5CYII=\n",
      "text/plain": [
       "<matplotlib.figure.Figure at 0x7fc7e8b38fd0>"
=======
      "image/png": "iVBORw0KGgoAAAANSUhEUgAAAhIAAAFkCAYAAAB1rtL+AAAABHNCSVQICAgIfAhkiAAAAAlwSFlz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\n1MU8AAAAAElFTkSuQmCC\n",
      "text/plain": [
       "<matplotlib.figure.Figure at 0x7f6900d51a90>"
>>>>>>> 1760e3f1e077840c49f73a365866ff58c7840e8a
      ]
     },
     "metadata": {},
     "output_type": "display_data"
    }
   ],
   "source": [
    "plt.plot(trainHist[:])"
   ]
  },
  {
   "cell_type": "markdown",
   "metadata": {},
   "source": [
    "# Prediction"
   ]
  },
  {
   "cell_type": "code",
   "execution_count": 116,
   "metadata": {
    "collapsed": false
   },
   "outputs": [],
   "source": [
    "pred_batch=1\n",
    "\n",
    "last_state = np.zeros((pred_batch,num_neurons),dtype=np.float32)\n",
    "prev = np.random.choice(vocab_size,num_steps).astype(np.float32).reshape(1,num_steps)\n",
    "\n",
    "digital_shakespeare = []\n",
    "\n",
    "for i in range(10):\n",
    "   \n",
    "    pred, last_state = sess.run([prediction,final_state],feed_dict={x: prev, init_state: last_state})\n",
    "    prev = np.argmax(pred,axis=2)\n",
    "    \n",
    "    \n",
    "    \n",
    "    digital_shakespeare +=  prev.reshape(-1).tolist()"
   ]
  },
  {
   "cell_type": "code",
   "execution_count": 107,
   "metadata": {
    "collapsed": false
   },
   "outputs": [
    {
     "name": "stdout",
     "output_type": "stream",
     "text": [
      "NEIiU\n",
      "IeUuh UG:,IUIo \n",
      "lS INLnS OrSs tp \n",
      " USNfs l:h IAo:tf I ahot SS:UIiti\n",
      "et Lf\n",
      "het cneuhtee\n",
      "SUn n  htao a  tousre rd :S:sobte ilsnpth ntisaesh\n",
      "o\n",
      " neinhn   e eoo t nn   f To ng  httatnpdthCoohttoth soette eneoee eI ue erh th  h rhnd r dhnLts sneithetheteee tecoeeeh thoanh r er rn thltmd dstheuleetecnehedtheeheito  e r ss rt st  eerdern rstvtece te thaCtap es ehet eirt thlthetOiyitsttve htnr htheeher Rn ni  eedha oeha er e  hoetovhtvpsenmu atpnetntten  rei ee nt esn edm e ertttecnsapho yntotvsetntne eert  leeuhoo  he l e estnn ettatsteudtte hitntnt ettnhene  rr eertashe o tn eoe   tteatnp ele rhfshohnr ttthanr eetnecteei eue ethaeetkehnp emt d ntar tnset    d   tvpetoto ndhho l ttttebttheeeirhrao e rhothaeerl  erddn  evnsnteenhet d yttveieehtveoeo rd e  tetou e ndds e p npestntthltrnhnto   tntetooat eieee id   rhtthoin rndhtnrsd tn tateeieeusgted e  e  thothke snrds  er tnttattheuh  dteoes twvethoieneeerr tao rn  theenheundtsdd ebhknsedtthe   e r s  ietnoieo l eeerhttvtecetat heunrnsetnpd e  e rt hleti r i e  oe tnttateohioc sletnsattf thoien  nennethas o leeetheudddaaor om et tfsetsd err   ntn hfetnwthoe   itneettto ohioe ee eu tttt esd eenhfenl tnnhnrhhaeetnt tnp e rtethoeeeeeil d e thoetvteon enr  sdnltebntheu hehrn tvcihtoioe ruo errhaaeechhehui unn tesupneeelt  t as ncsp ohhltlsdddd  tthtn toe etfeee e  e  tahae  hh dtnhinddhnttatthren hteaye  eng  e  eieeeestta rr shtvclttattat d d  enpeethahehi eneetetotostvdlap ete  nhad d r rhre eien tshrttoet toteteeeetns dsh ee ers th h  rn d e to eynnhneethetithedtobnth sa oee  d er ni r ene' eteypu dhtobnehothetnd stnwn ersoeirl serher e toaoe hveerrneetpnvi ehnth nn teerd edss ,oenaneeeetoohhld  tns et w dtts dd rne e taho tvwtiti e tostedetnshkeupheiituoanth e r r e e drle rnhsn t etntetetntnteoe tedee thtnhehrir e   rn thls dhheioe eioetntttedthee toeerru tnsl he eer e rdth d  estho etaasap pnteseetettvt euhawltenetro rt d r eehtnret ehrts euae totetnpa  es tneeh tnrtdhh h  oetwtatthoe ethoes e yithf heeieeeurtn eu ,tntou eedi nnsdds h tnrh h  rnhnpstaooeiy tithoeiyithedaee  nnl n,thmh u n,uier nn ttooemo  eeetsmo tns hoohha d  natvpd  anaho tende tmittoteee\n",
      "tardteushnt dthenien      nd err    te er tddtatttto sneetttthltnehhue nieeenheoa  eeeee essendtosdds   rnhtvpdddtntent  ne e twtedeiee i    rt ttorhnthe r dnsdtnsttteohha e   erheceoe h   eern  lpntttvei h n tithtvp ehtoooeeeednsatobhmh  eetne rdd d d e leree ettvp ertes tototntetanshnheeetveir th hrh  r ldeege  d e n bheoiaeytecisrnhrttobntobei pnnd ur\n"
     ]
    }
   ],
   "source": [
    "print(\"\".join([rev_trans_dic[d] for d in digital_shakespeare]))"
   ]
  },
  {
   "cell_type": "code",
   "execution_count": 109,
   "metadata": {
    "collapsed": false
   },
   "outputs": [
    {
     "data": {
      "text/plain": [
       "(1, 25, 65)"
      ]
     },
     "execution_count": 109,
     "metadata": {},
     "output_type": "execute_result"
    }
   ],
   "source": [
    "pred.shape"
   ]
  },
  {
   "cell_type": "code",
   "execution_count": 50,
   "metadata": {
    "collapsed": false
   },
   "outputs": [
    {
     "data": {
      "text/plain": [
       "array([72, 32, 15, 23,  0, 59, 19, 18, 26, 11, 46, 30, 27, 28, 79, 25, 17,\n",
       "       24, 41, 58, 48, 62, 18,  3, 21])"
      ]
     },
     "execution_count": 50,
     "metadata": {},
     "output_type": "execute_result"
    }
   ],
   "source": [
    "np.random.choice(vocab_size,num_steps)"
   ]
  },
  {
   "cell_type": "code",
   "execution_count": 81,
   "metadata": {
    "collapsed": false
   },
   "outputs": [
    {
     "data": {
      "text/plain": [
       "\"eoa aaa'eaesa \\nyFO .I \\n ArMMhy AAIA  .Sae. ee \\nEiie\\nAaeea  I.... a .E   a\\nan ln\\n\\nrRieei  E r\\ns\\neuaa eh R.e\\n\\n\\naas.... oue\\nC...uiiNE\\nHea   Sah.  uTE\\n\\nNaled u\\naAl.iC\\n\\n.a\\nI Et anee\\nA\\n.E..  .ss yYaea'e\\n.\\n\\nnO Aia. eoa laEHaiys,S..\\neaN oeU rr.y. e.san IaS   \\n\\n\\n\\nei ,..aee\\nnu aMY\\nI\\n\\nasaily o\\nay.e\\nHAAE n..E   IYa\\n...a.. eieao\\neuea\\nS\\n\\nrAee . SEEEE E ..  \\n LR tiwIEEEOE YE  i.e..  \\n..\\ns \\n  E IC\\ns R.. Ue.i.eae  \\nCEES \\n\\n\\na\\nh\\nee\\nYESE Aa. irheTaaui\\n yy\\nrnF L\\n.  .\\n\\ns.IAOY\\nEEMD,. .Ma\\n  e.Y\\n\\n\\nn.aueiaea \\n.Ha .\\n\\n.n.eEEEEIY y\\ne\\n.\\ne. .R .\\nAa \\ne \\n eaa\\n  \\n A\\na.....\\nas   a\\n\\nNN .\\nSO . A.\\n\\n A\\n. Ans  Iaeaars Uss, uEaE \\n\\n Ae. aP\\nn\\n\\norFN a.e\\n...aacE.IAC... .N.naiOw..\\nSiS ute \\n\\nANSau. .he\\n \\nAa.eET\\nag \\n \\nHIa  a \\n9T ..NOO h .cooeihae\\nYE\\nod. \\nirOaP.,eeeuas.\\n \\n\\nr ,u\\naia..S  \\n.syaae..or  \\n\\n9\\n H\\nT AMS.yt\\neaeehsaaiEN i.y. A\\n h..s eeued aa c\\n,e\\nSN\\nyMaoaaeeo\\nPEs. \\n\\naaaas   s  CeosturaaaauaS .Na   .Ea Y\\nRIriiOaa..e\\ne\\nIiae aEEEEM\\nooani .\\n.Ia\\nIEEE.a naaa. IU A\\nA.se. rt rpiEnh oEOA, \\nii aS\\n.t. A.n.eU..... n e\\neiuI....ea \\n. .\\nu.eeoIrva,a\\n.r\\nIEREMEnn y  TiR\\namSOai\\neS.e..\\n .   e.E  sls\\n....Ai\\nS.. U\\n\\n...E .\\noee uiR..ioe ..yAMPHa\\naaEo tu\\nec\\n\\nAaRr\\n.\\nI\\naa\\niaSaRInR Ei\\niey. E.EEIE .eoas, resaahie oe a\\nSEn.RE  y\\nu.\\n.. \\ne\\na OEEEn. .SReiP ee\\nES.EauSE   y.aiyE...Eaiueoi\\nyE  .\\nN a...a...  i a\\nenns.. AEH EEEEs\\n..  \\nau. ..\\n \\n. ae..yaaay.. ah\\n eeaaae.\\naea. e\\ne.a.aEau\\neaai a \\n\\nna eAc.aaEOOHy uREn\\nese\\nA\\nAEEIaneeeoaKe\\na\\ne\\nS.\\n..Ua.u..\\nIESl..i\\neauOO Aoa\\n n.I,u..  sc aihe nut  aa aae\\n\\n\\ns..rEEOee\\naa\\n\\naeaa  A oeH.aEN eYCuA\\ns \\n\\n\\n\\neas r..ssee.n\\no.eea.eaaaEaeaaaaE a\\n.aaea.raE\\nS. .\\nr es s \\nee.aa\\nc  n\\nE\\n.sn'o\\neIArtaS. rsEE.w  r\\naaiea N. aa..Ea.e\\ne\\n\""
      ]
     },
     "execution_count": 81,
     "metadata": {},
     "output_type": "execute_result"
    }
   ],
   "source": [
    "\n",
    "#prev.tolist()"
   ]
  },
  {
   "cell_type": "code",
   "execution_count": 88,
   "metadata": {
    "collapsed": false
   },
   "outputs": [
    {
     "ename": "ValueError",
     "evalue": "Cannot feed value of shape (1, 1, 1) for Tensor u'Placeholder:0', which has shape '(?, 25)'",
     "output_type": "error",
     "traceback": [
      "\u001b[0;31m---------------------------------------------------------------------------\u001b[0m",
      "\u001b[0;31mValueError\u001b[0m                                Traceback (most recent call last)",
      "\u001b[0;32m<ipython-input-88-c39a2f358ada>\u001b[0m in \u001b[0;36m<module>\u001b[0;34m()\u001b[0m\n\u001b[1;32m      8\u001b[0m \u001b[0;32mfor\u001b[0m \u001b[0mi\u001b[0m \u001b[0;32min\u001b[0m \u001b[0mrange\u001b[0m\u001b[0;34m(\u001b[0m\u001b[0;36m10\u001b[0m\u001b[0;34m)\u001b[0m\u001b[0;34m:\u001b[0m\u001b[0;34m\u001b[0m\u001b[0m\n\u001b[1;32m      9\u001b[0m     \u001b[0;32mif\u001b[0m \u001b[0mlast_state\u001b[0m \u001b[0;34m==\u001b[0m \u001b[0mNone\u001b[0m\u001b[0;34m:\u001b[0m\u001b[0;34m\u001b[0m\u001b[0m\n\u001b[0;32m---> 10\u001b[0;31m         \u001b[0mpred\u001b[0m\u001b[0;34m,\u001b[0m \u001b[0mlast_state\u001b[0m \u001b[0;34m=\u001b[0m \u001b[0msess\u001b[0m\u001b[0;34m.\u001b[0m\u001b[0mrun\u001b[0m\u001b[0;34m(\u001b[0m\u001b[0;34m[\u001b[0m\u001b[0mprediction\u001b[0m\u001b[0;34m,\u001b[0m \u001b[0mfinal_state\u001b[0m\u001b[0;34m]\u001b[0m\u001b[0;34m,\u001b[0m\u001b[0mfeed_dict\u001b[0m\u001b[0;34m=\u001b[0m\u001b[0;34m{\u001b[0m\u001b[0mx\u001b[0m\u001b[0;34m:\u001b[0m \u001b[0;34m[\u001b[0m\u001b[0;34m[\u001b[0m\u001b[0mprev\u001b[0m\u001b[0;34m]\u001b[0m\u001b[0;34m]\u001b[0m\u001b[0;34m,\u001b[0m \u001b[0minit_state\u001b[0m\u001b[0;34m:\u001b[0m \u001b[0mtraining_state\u001b[0m\u001b[0;34m}\u001b[0m\u001b[0;34m)\u001b[0m\u001b[0;34m\u001b[0m\u001b[0m\n\u001b[0m\u001b[1;32m     11\u001b[0m     \u001b[0;32melse\u001b[0m\u001b[0;34m:\u001b[0m\u001b[0;34m\u001b[0m\u001b[0m\n\u001b[1;32m     12\u001b[0m         \u001b[0mpred\u001b[0m\u001b[0;34m,\u001b[0m \u001b[0mlast_state\u001b[0m \u001b[0;34m=\u001b[0m \u001b[0msess\u001b[0m\u001b[0;34m.\u001b[0m\u001b[0mrun\u001b[0m\u001b[0;34m(\u001b[0m\u001b[0;34m[\u001b[0m\u001b[0mprediction\u001b[0m\u001b[0;34m,\u001b[0m \u001b[0mfinal_state\u001b[0m\u001b[0;34m]\u001b[0m\u001b[0;34m,\u001b[0m\u001b[0mfeed_dict\u001b[0m\u001b[0;34m=\u001b[0m\u001b[0;34m{\u001b[0m\u001b[0mx\u001b[0m\u001b[0;34m:\u001b[0m \u001b[0;34m[\u001b[0m\u001b[0;34m[\u001b[0m\u001b[0mprev\u001b[0m\u001b[0;34m]\u001b[0m\u001b[0;34m]\u001b[0m\u001b[0;34m,\u001b[0m \u001b[0minit_state\u001b[0m\u001b[0;34m:\u001b[0m \u001b[0mlast_state\u001b[0m\u001b[0;34m}\u001b[0m\u001b[0;34m)\u001b[0m\u001b[0;34m\u001b[0m\u001b[0m\n",
      "\u001b[0;32m/usr/local/lib/python2.7/dist-packages/tensorflow/python/client/session.pyc\u001b[0m in \u001b[0;36mrun\u001b[0;34m(self, fetches, feed_dict, options, run_metadata)\u001b[0m\n\u001b[1;32m    715\u001b[0m     \u001b[0;32mtry\u001b[0m\u001b[0;34m:\u001b[0m\u001b[0;34m\u001b[0m\u001b[0m\n\u001b[1;32m    716\u001b[0m       result = self._run(None, fetches, feed_dict, options_ptr,\n\u001b[0;32m--> 717\u001b[0;31m                          run_metadata_ptr)\n\u001b[0m\u001b[1;32m    718\u001b[0m       \u001b[0;32mif\u001b[0m \u001b[0mrun_metadata\u001b[0m\u001b[0;34m:\u001b[0m\u001b[0;34m\u001b[0m\u001b[0m\n\u001b[1;32m    719\u001b[0m         \u001b[0mproto_data\u001b[0m \u001b[0;34m=\u001b[0m \u001b[0mtf_session\u001b[0m\u001b[0;34m.\u001b[0m\u001b[0mTF_GetBuffer\u001b[0m\u001b[0;34m(\u001b[0m\u001b[0mrun_metadata_ptr\u001b[0m\u001b[0;34m)\u001b[0m\u001b[0;34m\u001b[0m\u001b[0m\n",
      "\u001b[0;32m/usr/local/lib/python2.7/dist-packages/tensorflow/python/client/session.pyc\u001b[0m in \u001b[0;36m_run\u001b[0;34m(self, handle, fetches, feed_dict, options, run_metadata)\u001b[0m\n\u001b[1;32m    892\u001b[0m                 \u001b[0;34m'Cannot feed value of shape %r for Tensor %r, '\u001b[0m\u001b[0;34m\u001b[0m\u001b[0m\n\u001b[1;32m    893\u001b[0m                 \u001b[0;34m'which has shape %r'\u001b[0m\u001b[0;34m\u001b[0m\u001b[0m\n\u001b[0;32m--> 894\u001b[0;31m                 % (np_val.shape, subfeed_t.name, str(subfeed_t.get_shape())))\n\u001b[0m\u001b[1;32m    895\u001b[0m           \u001b[0;32mif\u001b[0m \u001b[0;32mnot\u001b[0m \u001b[0mself\u001b[0m\u001b[0;34m.\u001b[0m\u001b[0mgraph\u001b[0m\u001b[0;34m.\u001b[0m\u001b[0mis_feedable\u001b[0m\u001b[0;34m(\u001b[0m\u001b[0msubfeed_t\u001b[0m\u001b[0;34m)\u001b[0m\u001b[0;34m:\u001b[0m\u001b[0;34m\u001b[0m\u001b[0m\n\u001b[1;32m    896\u001b[0m             \u001b[0;32mraise\u001b[0m \u001b[0mValueError\u001b[0m\u001b[0;34m(\u001b[0m\u001b[0;34m'Tensor %s may not be fed.'\u001b[0m \u001b[0;34m%\u001b[0m \u001b[0msubfeed_t\u001b[0m\u001b[0;34m)\u001b[0m\u001b[0;34m\u001b[0m\u001b[0m\n",
      "\u001b[0;31mValueError\u001b[0m: Cannot feed value of shape (1, 1, 1) for Tensor u'Placeholder:0', which has shape '(?, 25)'"
     ]
    }
   ],
   "source": [
    "digital_shakespeare = []\n",
    "last_state = None\n",
    "#prev = np.random.choice(vocab_size,(batch_size//num_steps,num_steps)).astype(np.float64)\n",
    "#batch_generator = gen_batch(raw_text_enc,batch_size,num_steps)\n",
    "#prev, _ = batch_generator.next()\n",
    "prev = [25]\n",
    "    \n",
    "for i in range(10):\n",
    "    if last_state == None:\n",
    "        pred, last_state = sess.run([prediction, final_state],feed_dict={x: [[prev]], init_state: training_state})\n",
    "    else:\n",
    "        pred, last_state = sess.run([prediction, final_state],feed_dict={x: [[prev]], init_state: last_state})\n",
    "    \n",
    "    #prev = np.apply_along_axis(get_num, , pred)\n",
    "    print(pred)\n",
    "    #prev = np.argmax(pred,axis=2)\n",
    "    #digital_shakespeare += \"\".join([rev_trans_dic[i] for i in prev.flatten().tolist()])\n",
    "    #choice_char = rev_trans_dic[np.random.choice(a = range(vocab_size), p = prob_array)]\n",
    "    \n",
    "    #digital_shakespeare += \"\".join(np.apply_along_axis(my_func, 1, pred).flatten().tolist())\n",
    "\n",
    "        \n",
    "        \n",
    "#print(np.argmax(pred,axis=2))\n",
    "#print(pred.shape)\n",
    "#\n",
    "#digital_shakespeare += \"\".join(np.apply_along_axis(my_func, 1, pred).flatten().tolist())"
   ]
  },
  {
   "cell_type": "code",
   "execution_count": 87,
   "metadata": {
    "collapsed": false
   },
   "outputs": [
    {
     "name": "stdout",
     "output_type": "stream",
     "text": [
      "s   id ahnc e tnd thesk tn ne tod  tith the  \n",
      "         T                 U    Ide yne  oire yng   tie oett oheu hheat      Iofethe shef the srarth s tyshre \n",
      "    Alhse s te ues  tove  tot  ng tet te h  otde     Rdote ng toomt yoo sitd  th theue tne toeas     Ie  te rt  ns togrrl  tia hout oheu hrls       He setnd dns tinge  htove  the  th tove \n",
      "    Riteleys  op ne etii houtetheu hn      Humreat tnm.rptf thcbeaot ton tetot tike \n",
      "    Ar Civeng thuce.ctseth the shef tnlne   o\n",
      " heu hn the shef the sh lththef to t oeakive    l ha  tau tien tomure ton y the  oh te troe,     I n tnceso ile tntsoston tetheu hotve \n",
      " \n",
      "     The s gm   te rth oast te th eer tith the        Thich as   tike  the aaertl ryth ae \n",
      "     \n",
      "             t       U    heut tenr  teen tith trntle airdntos troie     he cire y trre hiine tner  tnesto h aeaaey    hsliteac the choegg  th the siry thye      Reowhet tndeinsaiach toir iolouh ancerl     Ir tovexe\n",
      "epsilg ohme tiav  thcb nstf     humise ns titd s tnd tomserrd  aes the es\n",
      "    Hrphoaak r tith trort tnd tirt  aitve  tuiehntooe,     Enrs  afsr  eotsr tnd tere tss tner  tie e \n",
      "    Ie cti e tot thcesnas tostrll neon titt  t\n",
      " nsovuilsoroniner tart mn tisl  tf trect,     Ennd  s tafectrtith te rth \n",
      "e e te eat      Outtn torrtotmeaesbeante tiat tn Sos \n",
      "     Tut toew rs todhall s theu htthe  silh titdur ty t       Tetn  tes the r soau  ahe r socstegde thall tike  theet \n",
      " s                        wa      He  tia tot titdes d teneer tivd toaone   t    the  the shcbir tne hheu he wistrtl s \n",
      "    Esnewhoet th e tilnl ahuasete theu hh e traye      Ishete rth s thuasere tne ht  n tnaortnhheeIhe e oheBovdh et\n",
      "hme ahe s          Th                 nto    nhog t nteetoget  hmnsfr etf  rtaanrht\n",
      "    floatiraha ethe cteve  thth  aeaw     nloolohthndsrua\n",
      "h ert h  m orthl thldaotfhedt\n",
      "   eiwhrtooth   eoomrthrheo\n",
      "hethe r ihe th  ltt\n",
      "     a\n",
      "hadeah o th eeyeo hmltenrhtf  rtaoaet\n",
      "t\n",
      "   e soa eetoowshme ra\n",
      "ao ert\n",
      "he K hath ert      g d s  t\n",
      "netowdahrnhaurhxterrtaom     aspsttethee\n",
      ".aaoaheooaru th gthl rht ne t     neaOres ythesh  Heer ethe ctaeetheie t\n",
      " n  i rtaomhe staeethe cta ite ertth thyf t ne t\n",
      "  ltevm hkghhmndth era th eIothe c nethldhuu  a\n",
      "    toihoe  ltnl theeers r thvterrtalhent        he wthooa  hadeaotfrt thldhetnrsthmh ahe s       hesk tn t  hme t he srts hete oemt t                    h       nt   ear thldet\n",
      "hrd thm  ahueeyaanr ee reahyunsi\n",
      "   e wote tothueawenntsahe et\n",
      "hyet raemn tts t\n",
      "  e eghdrethe coardhes hethe stn, the es     edn ,rhtheertg nnle th n olnaus andes at\n",
      "     th erer re oi tf  nthmlet\n",
      "heootoweut\n",
      "   emplh to thmeeoeaheeIh e lfaet\n",
      "n ethe cnt     eaoiutt oehhme ahuueetheeahmlht\n",
      "nrhert\n",
      "hrls,o rk  a\n",
      "   nteua nfhoa\n",
      "npohewhoeIhaeaahoecho et\n",
      "hm tnh     s houranhh emheortem th e eiitovt thm et\n",
      "e  o nernd mslengs thkehteeahmheo\n",
      "hothunki a\n",
      "   nte t\n",
      "ethkt tleao ,ahldeaem rmnhhldarht\n",
      "    ft eeth eearhent  ear  rthmlhthethrea      hr th n tehth eivl hhthe raaaeera hrl ohdhersahotho      ha et\n",
      "haeohe cett rlt\n",
      "nt aewt k   eorahetl thme t he  ht  ht                       ert\n",
      "    a s hmlth hmhmher totha sd thmeeth tu  t\n",
      " et\n",
      "  he l ha ctaoedethe t. rstaawalh eietht     n  s elrhthetnhhml ymntslt irwha rhaawxhhun,st     ft rhnteieththeske e the te s oioott eeyes s,ranhfnnrle eaae yentnt aht         het                owna   oiugohooernh etht\n",
      "aooueiantet\n",
      "eiyddeee     ea thneteltveeraoerero heiet\n",
      "n rst\n",
      "   oirdau   e  oet amneetim yyfnheeohei yuhoer e    xtneeirnh t\n",
      " np   eieiat  r  roetn rahettioe     Tn ad  r,tfhhetnnesntaoeh tyeaet\n",
      "eiyut,  h    xhtmrtvn nr  ierten nfmvee  rhimanh aneot    tooottt h  e nnereeeyll ,eir y.ln t    n ei er  r  \n",
      "  ut  tntssthetrhe oeaooowdhy    ovru d toheee a e r tnerraoeydnh rtsth  os nheayu  rthrndnh raoer n roneoiithe eah ovdh   yedeaaiieeoaeei anetthetn la rootoveeyeemrt\n",
      "n     a n u t\n",
      "aeeythe     aehheair ael ,st t\n",
      "      erwaoerrtn\n",
      "at  tn eiithei ea eeieee ora tht      ereitheth  eosthoaawoaaete  rtfnpeaho                   et      owt  nrtthei dt reothe s nts d lrsyanrteadaosg o    xhirhrth h rsn stee ne tne ysd tendaetha ah   xtnuieas iraomrs er taa ermhro ahe cxha    nooy\n",
      "eiae   eetoolashetetnl ms and rttn      Thetvedtteaiunhhom\n",
      "ooeoet  rrlnh nrt     xpteioh the rtnrr, ,s anhoovsh eonerraooht\n",
      "   nrlns etf  oentntsrr h r r,eei  eeea h  eye lteit n    oertlnooeut een   eu ,ansrr,l t rtnt yeoooia    htenr ndeeaaperteilphhetntntt re the snt nm nfovei te ead  ahe eeh nr,eert  uherc nin    oevsh  eee thanvnt\n",
      "uriedt, teyeeeeeis,e     eatnreetnnr ,rc t\n",
      "nret eieaei  r  east     eowhetethre eaameeteaoertendt,d lteoawf  ir  yeuh ut     evmvt ytrn, oorteteoe eetn letna  xttt,shethe rthoaaw aom eoh\n",
      "                       h     smhteoeheaioeeers h   nthoahe rth thrt h  nt   e haSevmoeyf  rt rah Ie ekr r ,oat h et    oithtneeeaer eyeeetoa e e tt eelmeatts aelt i t    ohoaieydns  eer irtnhhe chrottfnunhetnt s th\n",
      "eit oeoeacsnrrstot eeetna t    t   e  t               feeim\n",
      " ftthn ln s yoneee  uwrnnn sr  rr,eerd t\n",
      "   nrtheie r eers rn  d nte r   eaeie    us enrt  nh n  tn erdsneaooueordl, nioe un tnh   eieedne yoh  oe   nt nl t\n",
      "et esd etene hstn t\n",
      "   hoy  a e\n",
      "eoe rteees  ln ,ahoassh rt,n \n",
      "a\n",
      "im   eooeoheitoey n eed tooeernt\n",
      "ein tt,and nht\n",
      "  enn,heiteo vtoo e nd eyo\n",
      " neao\n",
      "aatho   ohnghnet etm   s t\n",
      "hyeh aer eeltfrllfr ei o\n",
      "  feestoth nrndon xtasho  ynu  seyoeih et fetoorr rs eheegeiyaett s oieng nnn ,ranrthfeeea  es rtrnns nn, nind  eerheaenmuud ners s  oe at    tmoinhh      era\n",
      "   n t rtn an lt\n",
      "hrth       neartssa e   o hyyntt ,rtanrtvln   tf tthe s     ne n    et\n",
      "npt ,utt ntt hnt eieoolk lt\n",
      "                 rht\n",
      "    feet oeiyertaoayesnherahtoohtetiot rdsh r rn etfh   eosetooetemaeetearntovdho houeohlderdh nanaa  iieennr onvtleeeavethkrtveeeawmnt toeatm\n",
      "  o d  rrnso\n",
      " nr rr rterhn eate and teiiet\n",
      "    ha her eerrnst el  ru n ht\n",
      "eeoe toeet    oeaanu the cehoyy\n",
      "a\n",
      "ht diude atar r oiunn     oeoieaveet\n",
      "nrt e  yaaimaoa\n",
      "adnt an rtea veste rn toi   n  ye wn s tnn t\n",
      " ntt\n",
      "nt ya yohoaheetotnnnnnn   eordeaooetrt. sertd eas e ey teaihe stooteeaoorernahldarst nt anr toe ad ht nnseeiogct\n",
      "  f e et\n",
      "nrnthet eiy rrns e ahl r    n  sa    nrheyss eeyo\n",
      "eith  e  mnt r,ni ethnrt t\n",
      "   ntserhnh eawnrr nd drn  ar ,e aaioent etmnet ott hn t\n",
      "   neieitoheo afreh  rn tvr eait ent iieh\n",
      "hoa  raeheutt tnpetnp      T                t\n",
      "am    hoeirl  rrnn d    eS  ooeut  tehetheoiwam oes  nhavk eirr ea\n",
      "ettene   hneeoeh\n",
      "wrhtionhm   ftheiess n, tnes dsnnnvhnhhatnrlennee tn letnshy   fiutns se a\n",
      "nr tnvoeyesooaywheuimcirhe ththe rthtf f lh oyoe r tnr hemtho   et  nh hy              oa ne  oieeesiothtoue sdt\n",
      "nsyiyetheo\n",
      "ee ad ,th    oeh rtsteonn ,teom etoertett\n",
      "nrsnsa\n",
      "  n tateht oiooihhoyneoiosrnnssn ee aogl tpdthyi   nttn  saou,m u t\n",
      " ootooth   hnpetner rae aeth    am t\n",
      "nsa rl tehanrea\n",
      "aom\n",
      "ueurt aaei ia   npt  npn n rn r  toinn ohft d i  rrgtha nt tooo   ade e n dnaiardtnhoowneu  ovdu  rheut  neoreesstneet  oth a d on  tnrleuiyeteynthn   oatt r etoeoetg iiyeert oess he n neaaemuctrr eoeitae nh n l,heth fttcstooet\n",
      "eycyi ors rn ssteieie too iogc t nr ern iynrstoweetht n tn t   t nnt  o     net    oth a  tndaio yehit      ovrshhontvw  nteo,eeet\n",
      "etydseeiea\n",
      " homhoirctt    ovdoi m\n",
      "ne eeet\n",
      "r etooetioetnt fda aio     T            eoa     oalhtf n   hnnt,d  a sl, nn, r nnhteoeiteteomneeit  npt  nr hren,dhsr , reeilaaurdn  ed eeaotdrtn nt d eyaf eees drenweeehersdr,ee th nnhe   utot eitin  oeyeoweid aeonredtnd thlnls      etmiaetnr oi  tnpt echoteo rrl th nnht\n",
      "  f lrdsahe corel     aehesg rtn idtetfnetit\n",
      "   n unsre    eeytnh onrr lnt  eeytndaeyartirti teomh nn  og otsiemhtheish  oei aetoutou,ut  dhnheeeeeet\n",
      " np edrnn heh\n",
      " eeeietnretahnethlrny thrrd rrtnne  in,ieis  tootndot rntnmtiohoowl nn e    oinhnh eeiy r tnt,teoeitvhn eoeh   oh hym   oeoa   onn u rrhet\n",
      "nh asete enhnet e th    o  l  eaanrs yo\n",
      "oowoatt nea\n",
      "ahnrru t tneeer tfhetaomh    ovnsnhn,vrmnteset eoyhaiCnrn tndo nt t rurh emde s etheertoot     h                i   a\n",
      "  ew nseo eeoytot   nea\n",
      "nt n t\n",
      "haer eruner,tl  t\n",
      "oite tntseonr r erdrt  eordn    eeirns aa  oae r   oo lhy ttoayeey,e etheyyster,oheyia e e s\n",
      " olg e therl oewheers d rrn aertneeoe rtheierteioietitiomf unwehhoeIaapeeua  n t\n",
      "oioael             fthovw ntn   nnhe rn thoh ewoe,   rt rnw ei\n",
      "hyt   f ameht rl,et\n",
      "hrt tnern ed h  eeo r   eihkhr eafnunn au esnnneoee  oaantnpeeteriai ra  ooeet\n",
      "hyts eanho  n e rh t\n",
      " aoorterstendmsthet\n",
      "  npth   imeowhneleedt  re rrnsetnrsntn t  eeet oreyoieomey h lgetf oitetns eeeaeltooth  la\n",
      "   stnhotooynts eiyud  rstmfeera\n",
      "eiarht\n",
      "omt      essst\n",
      "nhetnmrofet\n",
      "heeymll,  d s eeo\n",
      " fthetehntmnu hr ng,n  stf t aaawotovdrsechleyanp n ndtootoio\n",
      "elee oaeh arn h r e naf eaeom   rnsnsth  tnn eahooetneohn oy ar rs  etoihothS  hhoowt nf    ov t   fhetnt\n",
      "hyern,tot lea\n",
      "    feeei u ee a\n",
      "owln rd h rh r lrn r  ere rneh et\n",
      "  feerlte ertnn h ronerr hnn heetoortnrut\n",
      "   h             ntn    nt yeetoi  eoee a  nmte aoo aehooeurn nydhrn  r n t\n",
      "oiet oeyao c aawey\n",
      "aaa n nlsseet\n",
      "netnrruheaaetoototnelttnnn toeagerdn,re oa\n",
      "adthetet  w  serhtnthogt\n",
      "n osusrn an tees yietheiey t\n",
      "    ntenns eyafnt hyeatne lh naeeomhetooau   oiioeene tomr lt\n",
      "   n tr eteyetn entuessgh    oindteaa   nr eeeafeyitaoyt nn ee ls ld oeanthll  ooom netfhenseeeern  t\n",
      "n nanterrhns s t\n",
      "eaia      h  oetneeietia   nt ns eydsie ss yoe theoeiteoteest\n",
      "n  lsn a\n",
      "h k e rh eyoeieon,un ytootnh   ntd e antn,tethoe\n",
      "hrl nye e\n",
      "np  h  netioea  feurn\n",
      " neotnheoaa  eean  trondiedatnhhet   ff om arrdy aou  d nr etovr  e eoshhoho  s thoerhrn ,o   fee oee eiee r  htnf tnnh yiaheeutoethoast yvperahtyeerd sftet    em               na  n   yetooetmnnl hnht\n",
      "\n",
      "omr aetoih et  tvetd s eeo\n",
      "h  n rtheehrpsytehneeeet np eet\n",
      "  nrne  tnrt\n",
      "ntsteh  rttioehha d d   ranaer    r  r r,nntvhnht  n eonhhe eihf  err ,toteoe\n",
      "n thesdn oehemr sednnns n sn etpdele u slre dnln tth  nutsyt\n",
      "           aaeueeoooey  ooeaheomheuetvlrd a\n",
      " ehteoetnt rehh  otne , teo a  rehthe eitnet'o\n",
      "nrlaet  nte eeanrfemce nttnheeesn dt\n",
      "nttdserrd netnntent nt dh rsh tnrd nt oinheawh   tmted  er  e eir    eeaaa  nprnseesfnt et\n",
      "eaheoeen ey o eth    dhtf   untn   teoort etnthree ann r,y nnh t\n",
      "at  \n",
      " oaoer  n e  tnt,n t\n",
      "eeeeers l rrns e  eht\n",
      "    ne    ee heyatu h rr  eee atetttyrl  oieehreeeiemtaotoo ea hrotho rrsnhreea le es ld aoiooerdh nn r  d ntsitne tematnhotftnrsn t  eowouaea hyitnrtun herreoaf tneaeit ntrleuhe.a\n",
      "t rd  tooi   fethS  oan e   sdei yrhtiav     oll ntnhnntn reeoteiwaoeimeyoooheo se teoaetve   rlr e nhneoeitamaue  aoaoetaarufteeeyst    eS           aooey   owtot  nnt ap dtnt\n",
      "ooeronpntr lun n ,to eaeiy etoih  n stf  rnaotnrsd   rttohooeol h ee eyyserrt,hnnh eess eieeth nner ee asaft   eirh ,t\n",
      "ey h eieeeeuee eofer eitndhhl  toe   rts th     ooede  aelt  teolrheraioaomdnn edtnnnst\n",
      " ntnn d sth eeoi     othuynhr s etader   h a   ftg errln  oetnr rts n ln htoomnntietootfrl   yyt rtm tovtui   dd    w h  tomg r eoo ahth  rnnt     em n eesdns,nrt  oo o tles lntholou she t n  n d  e et oeotn amiovteatneu nsn, rttoh dh ya  owetnhndee er eu  reyto dtn oes am omtln nn oar e  odn eystntn nrr t\n",
      "hau  ns rhe es t\n",
      " oorfet eoe tnprt etoelnereeo\n",
      "nhnpt ew uaahtheue aeit\n",
      "wt  oaltfr tsns,teh aoeoahee aoens ,ser h utt toaeayn,  s  othoar t\n",
      "  npt              omm oi  ot  d  aeeyoaoel   e on hrneonem he hethtnss  h oteaems,yii hr, sd shtoetnr    oeoch hyeu  etenea ehenn ,onmotoa  eygt  t\n",
      "  et ete\n",
      "eyee,ey t\n",
      "otnr tesanteut aeot\n",
      "h h n  eohe eeotf  re oheseie aoihoynheisl tnhhaowmooyeteeea omh  h     T      nrrt dnnd  t\n",
      "nt r rt  rt  eooetn  neorl  eeteaeia nhovd\n",
      " hnlhrt ecele anthessdl eeyn ht oeltnnr eocbertooeeyld   toa  eee lvaetess,e    tootoayee theeiye tfng rrs t  hair t\n",
      "net stntst\n",
      "  nrrttt oeeyel  eo tne rr, t d tnetfhahem\n",
      "\n",
      " oaiet\n",
      " ndoea\n",
      " halleetneoeioa tndote eaooaah   w\n",
      "  ntr st\n",
      "oinh hye eah  r  ns aiSeotetah ael     ov\n",
      "   nrtiaelesteoaeh nr tnhd  e eio ntn ,ods nseenn nrtnrteowheuteeeoeee rnedtntmiotnpnun s eaootem otoohlherahlpnheerhe ey oast\n",
      "np usl,rnees eeyreae eeapttthe tsnhtooay nt \n",
      "n eteot h kna\n",
      " oa i\n",
      "P ntttni\n",
      " ooantoueornet\n",
      "   ndomoeeyee,iteasnhdn rn nen unr, ntherhnlls ert\n",
      " eaownheiers,nykenrst\n",
      "nftu hnr soarn   et   n.a\n",
      "         run  t\n",
      " fee  t\n",
      "oootnptoye   d  n eeiytirdtoi\n",
      "h tarsnsantrnea\n",
      "oihaot eoyu  yeeo\n",
      " ehe ,ln nyteonntne, d ya eeeiaat  ont dh ooo ewantn tt t\n",
      " nteet\n",
      "h  ehadnts   rs tnrfr tntheeeiea\n",
      "h  m  ehethet    n   rttn let\n",
      "halyeesslnntn eeett eeee    oeeetottaemvnlno\n",
      "   nhem eyeohtners  a\n",
      " ,tnm  oaetneeait\n",
      "n eeyyei aoioomao k  eeos,nnheiyta\n",
      "orhhehoth eirnt  oow\n",
      "  ,tim h eeoehnpntnt et\n",
      "eoeet    nptoinntee  eiit nrtfhhanstioyeudurtha ahSotwoiot vtnhmfru eon sneenreosntowe ae er,toayoum nen eie ddtnetnrt ecoertiaogurttn tfeeeiooomur onh neeoaee oeetoeowh  tghaowt ertnhmh  n eoretnr theeohontrnl sss n \n",
      "eeoatneynrna err tn th reh ut  uiah    hreant nr, ,tnp t a\n",
      "hevteosheth tsr,e a\n",
      "et nhefttoh   eoah              esafna uht\n",
      "et n l url  th ahfetio  n,  aeawaa eee  o\n",
      "amfherse  rtnhao whoa i nn eya\n",
      "  f ue tieeta\n",
      "n r rrnver eo\n",
      "weyrhrrn neewt h   xtmntr r    s th  heyahletd rt tn nh rmamoi\n",
      "np ronrlhut\n",
      "eahun  lnstnfner codneeohoi lls rn d snnnnf ea am    h      oeoitooy t\n",
      "h  eteheah eht n r heo\n",
      "ovt yt an rrsnntoonee  eey e tnenlnindeer   ytnr etiohnr  eeyonptlrsh   d yet\n",
      " h tt nr tionshnpo na   h    r d the  n,ahhoe teettho evrsth  e h  ee     eetiyetf   s o\n",
      "nnfho teo ahoaSoo  uil, ,   ntns   oetrl  otl sdsern nntnheeuh tnrlntl,o\n",
      " i t\n",
      "oweyha  ng oeeetvr h eldoot rhrshr netn lt\n",
      "   ne    oeien,y s rnt,,toeyhy,et\n",
      "nhntltooet\n",
      "w tto e  eSoeieyydn, rs  dsn d teoaeyeeinmherimtthtyrlnhd hfh     est,  iy d ,ranetfre  aean e eosd tnr edrstnrrh ei,rohoee lnt toot e r rn timnov  nttn r oweheg  n td nn n  ss    oowpu d s  nh r  aeiaeomovdtnde\n",
      "looeme eye aaeo  ytus o ns   e er y   ee raioewhfttet\n",
      " ntm  o\n",
      "n     T    esgt\n",
      "h  eent\n",
      "h  dd er r dt  ot oinnn, neoe n rmhle,  id oisr  n ln tnp ra\n",
      "olrn  nera\n",
      "aomo ern e es agtoutvt nlleo\n",
      "neetoayfrdta rdsethahh  oernh rm nel e  t\n",
      " estheeoiyhoeer  nsn am yy ner erht\n",
      "  oh  e hetia  rtl rds eieeetan h tnr  t\n",
      "  f nnhnhens e yef    oirptnesn  ess a\n",
      "n   hiat ntsherdrn  eanr  nn nlnun nntia nrle eoeln,hn re aseuhetatseyt\n",
      "nt     enetionnl  eoi eitne rt   t\n",
      "  ooerngesrdt\n",
      "ntl toehoe lde nn ds seeentnt mh nnnhtiaeeaeiehnf ttoet ydne  re tn tne h n,ns tovetnt tooyer eyitnens eonueee eethoerdnnnd seof  aolnlts tf nhrsn ,t hrills yaeoeiaet oinp  seyahe  utle yiyohoetoh renr es  yeytveetheyheteaeas t\n",
      "nrlet   eo sd toe a\n",
      "iyeiho  are rne rh thoe\n",
      "aan r toireaer,t  nptta\n",
      "           \n",
      "nprfettn o rhtoioSsoah hyont rtona o l n rsrrnvtn  n   eelee o\n",
      "eioylttiam hnsootler   oisrthmlnhn ateheoter tnp   eeoeietovd ehem  ooaeeoyew   othet aael, s ete theyeitein nn oetengye s  rr\n",
      "nga\n",
      "aotieuisstomsesdn,lniooeteomitooeyy,anrtn y   em     f pnhnr th aC vhrirrstneeaoteweal  eitohindaeetoe rnordt\n",
      "nr tnhheetyeng ds t\n",
      "toheeynhrne oo\n",
      "nr n eiei  t\n",
      " osoa   emhatoeyhml  e  rtovm  am   etoahe s o na r ohln eeuaneet ea\n",
      "nhah xth    nr ne  ut\n",
      " htf eeoiuahalantut.nut\n",
      "nrd a\n",
      " a\n",
      "oeeea\n",
      " fe eia\n",
      "nheohoerv  ooeealds theeyyye r  nph     ent\n",
      "ootfrnnheeoaoneerr teaaeeawovteaio    ovt   n nnd  ahteoo \n",
      "hr  a  st eeeee nn h  lho mnh xtnrns  ee aeit ewytiahalt  s ng er ne e   eye etao o    nt  a\n",
      "n tet\n",
      "eycs uert\n",
      "n rttnmnptetheewnee  oeeeant\n",
      "er lndtioyth   onheyeomhme w't\n",
      "oeeetewfn eret\n",
      "oiooCoodoi hol   ft  rtittt oitet n tn,n neeiier  rd entnestnrsum\n",
      "ohretftoot  nhnetot  nptendn e eaer   oeat n o     h         rm nn e rm eiyaetetoht\n",
      "nhtfngee aovl noieaees m\n",
      "n tfneet\n",
      "oiaomhyesen riogt\n",
      "omet  reutneetnmnpt rarr e tooasn \n",
      "nd nr ueietteoe  ert o n  ioaeimovltnh h  yeier nn,au d t\n",
      "o otn mortovetne a   uet nh rhont e eteoetvt d,hnttethoeI h   oaooaeasd anhoaoi   ftee ers t\n",
      "neeon ot taslhtooha  oaia\n",
      "nrdyt ootooogttooerntoeaasnp d  eetaahs  le hne d   eet   tvtmhnn eyo\n",
      "npnsvthesaeity h   ut  eer yoe eeyth neu tiodmootoaytn n ee teatooea rn, r,ns, oaha  htoeeso\n",
      "eahhothy saoo e th e heeth   d anesyers tnp twddtnr eu  eeye thevft\n",
      "nleiys thoyoioeey\n",
      "hheogl  a l,n nr, tfngoa\n",
      "he re t\n",
      "niysooe,n un n,teaceonhm o  her s r  rh rsr oh  easeh  npmhoah nsn n dneua\n",
      "ne ieoaheamheur  rdtehh n nrs  et ooeen     T        eioa eeofceao nu. nrtoi u eteiwetnffiSoieseoee et oi  xnlndtf rrl e ennetee  r e at\n",
      " nthyeeaeiietnhrnruhd aheea  ntu nshnee ne  t\n",
      "ntts n d t\n",
      " fherhtnt,y ahtytrthe  sn rngtoo\n"
     ]
    }
   ],
   "source": [
    "print(\"\".join(digital_shakespeare))"
   ]
  },
  {
   "cell_type": "code",
   "execution_count": 75,
   "metadata": {
    "collapsed": false
   },
   "outputs": [
    {
     "data": {
      "text/plain": [
       "(64, 25)"
      ]
     },
     "execution_count": 75,
     "metadata": {},
     "output_type": "execute_result"
    }
   ],
   "source": [
    "prev.shape"
   ]
  },
  {
   "cell_type": "code",
   "execution_count": null,
   "metadata": {
    "collapsed": true
   },
   "outputs": [],
   "source": []
  }
 ],
 "metadata": {
  "kernelspec": {
   "display_name": "Python 2",
   "language": "python",
   "name": "python2"
  },
  "language_info": {
   "codemirror_mode": {
    "name": "ipython",
    "version": 2
   },
   "file_extension": ".py",
   "mimetype": "text/x-python",
   "name": "python",
   "nbconvert_exporter": "python",
   "pygments_lexer": "ipython2",
   "version": "2.7.6"
  }
 },
 "nbformat": 4,
 "nbformat_minor": 1
}

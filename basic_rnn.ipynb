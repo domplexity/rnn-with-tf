{
 "cells": [
  {
   "cell_type": "code",
   "execution_count": 1,
   "metadata": {
    "collapsed": true
   },
   "outputs": [],
   "source": [
    "import tensorflow as tf\n",
    "import numpy as np\n",
    "import matplotlib.pyplot as plt\n",
    "%matplotlib inline\n",
    "import warnings\n",
    "from IPython.display import clear_output"
   ]
  },
  {
   "cell_type": "code",
   "execution_count": 40,
   "metadata": {
    "collapsed": false
   },
   "outputs": [],
   "source": [
    "with open('tiny-shakespeare.txt') as file:\n",
    "    raw_lines = [line.replace('\\r',' ') for line in file.readlines()]\n",
    "raw_text = ' '.join(raw_lines[:])"
   ]
  },
  {
   "cell_type": "code",
   "execution_count": 41,
   "metadata": {
    "collapsed": true
   },
   "outputs": [],
   "source": [
    "vocab = list(set(raw_text))\n",
    "trans_dic = {vocab[i]: i for i in range(len(vocab))}\n",
    "rev_trans_dic = {i: vocab[i] for i in range(len(vocab))}\n",
    "raw_text_enc = [trans_dic[letter] for letter in raw_text]"
   ]
  },
  {
   "cell_type": "code",
   "execution_count": 120,
   "metadata": {
    "collapsed": true
   },
   "outputs": [],
   "source": [
    "text_size = len(raw_text_enc)\n",
    "vocab_size = len(vocab)\n",
    "num_neurons = 100\n",
    "num_steps = 25\n",
    "batch_size = 32*num_steps"
   ]
  },
  {
   "cell_type": "code",
   "execution_count": 121,
   "metadata": {
    "collapsed": true
   },
   "outputs": [],
   "source": [
    "def gen_batch(raw_x, batch_size, num_steps):\n",
    "\n",
    "    if batch_size % num_steps != 0:\n",
    "        warnings.warn(\"Warning: batch size is not a multiple of num_steps.\")\n",
    "    \n",
    "    raw_y = raw_x[1:] + [raw_x[0]]\n",
    "    \n",
    "    # partition raw data into batches and stack them vertically in a data matrix\n",
    "    num_batch = len(raw_x) // batch_size\n",
    "    data_x = np.zeros([num_batch, batch_size], dtype=np.int32)\n",
    "    data_y = np.zeros([num_batch, batch_size], dtype=np.int32)\n",
    "    \n",
    "    for i in range(num_batch):\n",
    "        data_x[i] = raw_x[batch_size * i:batch_size * (i + 1)]\n",
    "        data_y[i] = raw_y[batch_size * i:batch_size * (i + 1)]\n",
    "    \n",
    "    # further divide batch partitions into num_steps for truncated backprop\n",
    "    batch_lines = batch_size // num_steps\n",
    "\n",
    "    for i in range(num_batch):\n",
    "        x = np.zeros([batch_lines,num_steps],dtype=np.int32)\n",
    "        y = np.zeros([batch_lines,num_steps],dtype=np.int32)\n",
    "        for n in range(batch_lines):\n",
    "            x[n,:] = data_x[i, n * num_steps:(n + 1) * num_steps]\n",
    "            y[n,:] = data_y[i, n * num_steps:(n + 1) * num_steps]\n",
    "        yield (x, y)"
   ]
  },
  {
   "cell_type": "code",
   "execution_count": 122,
   "metadata": {
    "collapsed": true
   },
   "outputs": [],
   "source": [
    "def gen_epochs(raw_data, num_epochs, batch_size, num_steps):\n",
    "    for i in range(num_epochs):\n",
    "        yield gen_batch(raw_data,batch_size,num_steps)"
   ]
  },
  {
   "cell_type": "markdown",
   "metadata": {},
   "source": [
    "# Graph "
   ]
  },
  {
   "cell_type": "code",
   "execution_count": 123,
   "metadata": {
    "collapsed": true
   },
   "outputs": [],
   "source": [
    "tf.reset_default_graph()"
   ]
  },
  {
   "cell_type": "code",
   "execution_count": 124,
   "metadata": {
    "collapsed": false
   },
   "outputs": [],
   "source": [
    "#----------input layer-----------------------\n",
    "x = tf.placeholder(tf.int64, [None, num_steps])\n",
    "y = tf.placeholder(tf.int64, [None, num_steps])\n",
    "init_state = tf.placeholder(tf.float32,[None, num_neurons])\n",
    "learning_rate = tf.placeholder(tf.float32,[])\n",
    "\n",
    "embeddings = tf.get_variable('embedding_matrix', [vocab_size, num_neurons])\n",
    "\n",
    "# Tensor of dims batch_size //num_steps x num_steps x num_neurons\n",
    "x_transformed = tf.nn.embedding_lookup(embeddings, x)\n",
    "\n",
    "\n",
    "#----------hidden layer-----------------------\n",
    "cell = tf.nn.rnn_cell.BasicRNNCell(num_neurons)\n",
    "#init_state = cell.zero_state(batch_size//num_steps,tf.float32)\n",
    "rnn_output, final_state = tf.nn.dynamic_rnn(cell, x_transformed, initial_state=init_state, dtype=tf.float32)\n",
    "\n",
    "\n",
    "#----------output layer-----------------------\n",
    "weight = tf.Variable(tf.truncated_normal([num_neurons, vocab_size], stddev=0.1))\n",
    "bias = tf.Variable(tf.constant(0.0, shape=[vocab_size]))\n",
    "\n",
    "output = tf.reshape(rnn_output, [-1, num_neurons])\n",
    "logits = tf.matmul(output, weight) + bias\n",
    "prediction = tf.nn.softmax(logits)\n",
    "prediction = tf.reshape(prediction, [-1, num_steps, vocab_size])\n",
    "\n",
    "#----------loss and accuracy------------------\n",
    "target = tf.reshape(y,[-1])\n",
    "loss = tf.reduce_mean(tf.nn.sparse_softmax_cross_entropy_with_logits(logits,target))\n",
    "\n",
    "accuracy = tf.reduce_mean(tf.cast(tf.equal(tf.argmax(prediction, 2),y), tf.float32))\n",
    "\n",
    "#----------Trainer------------------\n",
    "trainOp = tf.train.AdamOptimizer(learning_rate=learning_rate).minimize(loss)\n",
    "init_vars = tf.initialize_all_variables()\n"
   ]
  },
  {
   "cell_type": "markdown",
   "metadata": {},
   "source": [
    "# Training"
   ]
  },
  {
   "cell_type": "code",
   "execution_count": 126,
   "metadata": {
    "collapsed": false
   },
   "outputs": [
    {
     "name": "stdout",
     "output_type": "stream",
     "text": [
      "(0, 210, 2.2375022172927856, 0.37562499940395355)\n"
     ]
    },
    {
     "ename": "KeyboardInterrupt",
     "evalue": "",
     "output_type": "error",
     "traceback": [
      "\u001b[0;31m\u001b[0m",
      "\u001b[0;31mKeyboardInterrupt\u001b[0mTraceback (most recent call last)",
      "\u001b[0;32m<ipython-input-126-bb08864e163a>\u001b[0m in \u001b[0;36m<module>\u001b[0;34m()\u001b[0m\n\u001b[1;32m     21\u001b[0m         \u001b[0mfeed_dict\u001b[0m \u001b[0;34m=\u001b[0m \u001b[0;34m{\u001b[0m\u001b[0mx\u001b[0m\u001b[0;34m:\u001b[0m \u001b[0mbatch\u001b[0m\u001b[0;34m[\u001b[0m\u001b[0;36m0\u001b[0m\u001b[0;34m]\u001b[0m\u001b[0;34m,\u001b[0m \u001b[0my\u001b[0m\u001b[0;34m:\u001b[0m \u001b[0mbatch\u001b[0m\u001b[0;34m[\u001b[0m\u001b[0;36m1\u001b[0m\u001b[0;34m]\u001b[0m\u001b[0;34m,\u001b[0m \u001b[0minit_state\u001b[0m\u001b[0;34m:\u001b[0m \u001b[0mtraining_state\u001b[0m\u001b[0;34m,\u001b[0m \u001b[0mlearning_rate\u001b[0m\u001b[0;34m:\u001b[0m \u001b[0madaptive_learning_rate\u001b[0m\u001b[0;34m}\u001b[0m\u001b[0;34m\u001b[0m\u001b[0m\n\u001b[1;32m     22\u001b[0m \u001b[0;34m\u001b[0m\u001b[0m\n\u001b[0;32m---> 23\u001b[0;31m         \u001b[0macc\u001b[0m\u001b[0;34m,\u001b[0m \u001b[0mlossVal\u001b[0m\u001b[0;34m,\u001b[0m \u001b[0mtraining_state\u001b[0m\u001b[0;34m,\u001b[0m \u001b[0m_\u001b[0m \u001b[0;34m=\u001b[0m \u001b[0msess\u001b[0m\u001b[0;34m.\u001b[0m\u001b[0mrun\u001b[0m\u001b[0;34m(\u001b[0m\u001b[0;34m[\u001b[0m\u001b[0maccuracy\u001b[0m\u001b[0;34m,\u001b[0m \u001b[0mloss\u001b[0m\u001b[0;34m,\u001b[0m \u001b[0mfinal_state\u001b[0m\u001b[0;34m,\u001b[0m \u001b[0mtrainOp\u001b[0m\u001b[0;34m]\u001b[0m\u001b[0;34m,\u001b[0m \u001b[0mfeed_dict\u001b[0m\u001b[0;34m=\u001b[0m\u001b[0mfeed_dict\u001b[0m\u001b[0;34m)\u001b[0m\u001b[0;34m\u001b[0m\u001b[0m\n\u001b[0m\u001b[1;32m     24\u001b[0m         \u001b[0mtrainHist\u001b[0m\u001b[0;34m.\u001b[0m\u001b[0mappend\u001b[0m\u001b[0;34m(\u001b[0m\u001b[0mlossVal\u001b[0m\u001b[0;34m)\u001b[0m\u001b[0;34m\u001b[0m\u001b[0m\n\u001b[1;32m     25\u001b[0m         \u001b[0maccHist\u001b[0m\u001b[0;34m.\u001b[0m\u001b[0mappend\u001b[0m\u001b[0;34m(\u001b[0m\u001b[0macc\u001b[0m\u001b[0;34m)\u001b[0m\u001b[0;34m\u001b[0m\u001b[0m\n",
      "\u001b[0;32m/usr/local/lib/python2.7/dist-packages/tensorflow/python/client/session.pyc\u001b[0m in \u001b[0;36mrun\u001b[0;34m(self, fetches, feed_dict, options, run_metadata)\u001b[0m\n\u001b[1;32m    708\u001b[0m     \u001b[0;32mtry\u001b[0m\u001b[0;34m:\u001b[0m\u001b[0;34m\u001b[0m\u001b[0m\n\u001b[1;32m    709\u001b[0m       result = self._run(None, fetches, feed_dict, options_ptr,\n\u001b[0;32m--> 710\u001b[0;31m                          run_metadata_ptr)\n\u001b[0m\u001b[1;32m    711\u001b[0m       \u001b[0;32mif\u001b[0m \u001b[0mrun_metadata\u001b[0m\u001b[0;34m:\u001b[0m\u001b[0;34m\u001b[0m\u001b[0m\n\u001b[1;32m    712\u001b[0m         \u001b[0mproto_data\u001b[0m \u001b[0;34m=\u001b[0m \u001b[0mtf_session\u001b[0m\u001b[0;34m.\u001b[0m\u001b[0mTF_GetBuffer\u001b[0m\u001b[0;34m(\u001b[0m\u001b[0mrun_metadata_ptr\u001b[0m\u001b[0;34m)\u001b[0m\u001b[0;34m\u001b[0m\u001b[0m\n",
      "\u001b[0;32m/usr/local/lib/python2.7/dist-packages/tensorflow/python/client/session.pyc\u001b[0m in \u001b[0;36m_run\u001b[0;34m(self, handle, fetches, feed_dict, options, run_metadata)\u001b[0m\n\u001b[1;32m    906\u001b[0m     \u001b[0;32mif\u001b[0m \u001b[0mfinal_fetches\u001b[0m \u001b[0;32mor\u001b[0m \u001b[0mfinal_targets\u001b[0m\u001b[0;34m:\u001b[0m\u001b[0;34m\u001b[0m\u001b[0m\n\u001b[1;32m    907\u001b[0m       results = self._do_run(handle, final_targets, final_fetches,\n\u001b[0;32m--> 908\u001b[0;31m                              feed_dict_string, options, run_metadata)\n\u001b[0m\u001b[1;32m    909\u001b[0m     \u001b[0;32melse\u001b[0m\u001b[0;34m:\u001b[0m\u001b[0;34m\u001b[0m\u001b[0m\n\u001b[1;32m    910\u001b[0m       \u001b[0mresults\u001b[0m \u001b[0;34m=\u001b[0m \u001b[0;34m[\u001b[0m\u001b[0;34m]\u001b[0m\u001b[0;34m\u001b[0m\u001b[0m\n",
      "\u001b[0;32m/usr/local/lib/python2.7/dist-packages/tensorflow/python/client/session.pyc\u001b[0m in \u001b[0;36m_do_run\u001b[0;34m(self, handle, target_list, fetch_list, feed_dict, options, run_metadata)\u001b[0m\n\u001b[1;32m    956\u001b[0m     \u001b[0;32mif\u001b[0m \u001b[0mhandle\u001b[0m \u001b[0;32mis\u001b[0m \u001b[0mNone\u001b[0m\u001b[0;34m:\u001b[0m\u001b[0;34m\u001b[0m\u001b[0m\n\u001b[1;32m    957\u001b[0m       return self._do_call(_run_fn, self._session, feed_dict, fetch_list,\n\u001b[0;32m--> 958\u001b[0;31m                            target_list, options, run_metadata)\n\u001b[0m\u001b[1;32m    959\u001b[0m     \u001b[0;32melse\u001b[0m\u001b[0;34m:\u001b[0m\u001b[0;34m\u001b[0m\u001b[0m\n\u001b[1;32m    960\u001b[0m       return self._do_call(_prun_fn, self._session, handle, feed_dict,\n",
      "\u001b[0;32m/usr/local/lib/python2.7/dist-packages/tensorflow/python/client/session.pyc\u001b[0m in \u001b[0;36m_do_call\u001b[0;34m(self, fn, *args)\u001b[0m\n\u001b[1;32m    963\u001b[0m   \u001b[0;32mdef\u001b[0m \u001b[0m_do_call\u001b[0m\u001b[0;34m(\u001b[0m\u001b[0mself\u001b[0m\u001b[0;34m,\u001b[0m \u001b[0mfn\u001b[0m\u001b[0;34m,\u001b[0m \u001b[0;34m*\u001b[0m\u001b[0margs\u001b[0m\u001b[0;34m)\u001b[0m\u001b[0;34m:\u001b[0m\u001b[0;34m\u001b[0m\u001b[0m\n\u001b[1;32m    964\u001b[0m     \u001b[0;32mtry\u001b[0m\u001b[0;34m:\u001b[0m\u001b[0;34m\u001b[0m\u001b[0m\n\u001b[0;32m--> 965\u001b[0;31m       \u001b[0;32mreturn\u001b[0m \u001b[0mfn\u001b[0m\u001b[0;34m(\u001b[0m\u001b[0;34m*\u001b[0m\u001b[0margs\u001b[0m\u001b[0;34m)\u001b[0m\u001b[0;34m\u001b[0m\u001b[0m\n\u001b[0m\u001b[1;32m    966\u001b[0m     \u001b[0;32mexcept\u001b[0m \u001b[0merrors\u001b[0m\u001b[0;34m.\u001b[0m\u001b[0mOpError\u001b[0m \u001b[0;32mas\u001b[0m \u001b[0me\u001b[0m\u001b[0;34m:\u001b[0m\u001b[0;34m\u001b[0m\u001b[0m\n\u001b[1;32m    967\u001b[0m       \u001b[0mmessage\u001b[0m \u001b[0;34m=\u001b[0m \u001b[0mcompat\u001b[0m\u001b[0;34m.\u001b[0m\u001b[0mas_text\u001b[0m\u001b[0;34m(\u001b[0m\u001b[0me\u001b[0m\u001b[0;34m.\u001b[0m\u001b[0mmessage\u001b[0m\u001b[0;34m)\u001b[0m\u001b[0;34m\u001b[0m\u001b[0m\n",
      "\u001b[0;32m/usr/local/lib/python2.7/dist-packages/tensorflow/python/client/session.pyc\u001b[0m in \u001b[0;36m_run_fn\u001b[0;34m(session, feed_dict, fetch_list, target_list, options, run_metadata)\u001b[0m\n\u001b[1;32m    945\u001b[0m         return tf_session.TF_Run(session, options,\n\u001b[1;32m    946\u001b[0m                                  \u001b[0mfeed_dict\u001b[0m\u001b[0;34m,\u001b[0m \u001b[0mfetch_list\u001b[0m\u001b[0;34m,\u001b[0m \u001b[0mtarget_list\u001b[0m\u001b[0;34m,\u001b[0m\u001b[0;34m\u001b[0m\u001b[0m\n\u001b[0;32m--> 947\u001b[0;31m                                  status, run_metadata)\n\u001b[0m\u001b[1;32m    948\u001b[0m \u001b[0;34m\u001b[0m\u001b[0m\n\u001b[1;32m    949\u001b[0m     \u001b[0;32mdef\u001b[0m \u001b[0m_prun_fn\u001b[0m\u001b[0;34m(\u001b[0m\u001b[0msession\u001b[0m\u001b[0;34m,\u001b[0m \u001b[0mhandle\u001b[0m\u001b[0;34m,\u001b[0m \u001b[0mfeed_dict\u001b[0m\u001b[0;34m,\u001b[0m \u001b[0mfetch_list\u001b[0m\u001b[0;34m)\u001b[0m\u001b[0;34m:\u001b[0m\u001b[0;34m\u001b[0m\u001b[0m\n",
      "\u001b[0;31mKeyboardInterrupt\u001b[0m: "
     ]
    }
   ],
   "source": [
    "print_after_num_steps = 10\n",
    "adaptive_learning_rate = 0.005\n",
    "restart_training = True\n",
    "\n",
    "if restart_training:\n",
    "    training_state = np.zeros((batch_size//num_steps,num_neurons),dtype=np.float32)\n",
    "\n",
    "    trainHist = []\n",
    "    accHist = []\n",
    "\n",
    "    sess = tf.Session()\n",
    "    sess.run(init_vars)\n",
    "\n",
    "for num_epoch, epoch in enumerate(gen_epochs(raw_text_enc[:1000*batch_size],10,batch_size,num_steps)):\n",
    "    \n",
    "    #if num_epoch > 10:\n",
    "    #   adaptive_learning_rate = 0.001\n",
    "    \n",
    "    for i, batch in enumerate(epoch):\n",
    "        \n",
    "        feed_dict = {x: batch[0], y: batch[1], init_state: training_state, learning_rate: adaptive_learning_rate}\n",
    "        \n",
    "        acc, lossVal, training_state, _ = sess.run([accuracy, loss, final_state, trainOp], feed_dict=feed_dict)\n",
    "        trainHist.append(lossVal)\n",
    "        accHist.append(acc)\n",
    "        \n",
    "        if i % print_after_num_steps == 0:\n",
    "            clear_output()\n",
    "            avg_loss = sum(trainHist[-print_after_num_steps:])/print_after_num_steps\n",
    "            avg_acc = sum(accHist[-print_after_num_steps:])/print_after_num_steps\n",
    "            \n",
    "            print(num_epoch, i, avg_loss, avg_acc)\n",
    "            "
   ]
  },
  {
   "cell_type": "code",
   "execution_count": 111,
   "metadata": {
    "collapsed": false
   },
   "outputs": [
    {
     "data": {
      "text/plain": [
       "[<matplotlib.lines.Line2D at 0x7f68fd45a990>]"
      ]
     },
     "execution_count": 111,
     "metadata": {},
     "output_type": "execute_result"
    },
    {
     "data": {
      "image/png": "[encoded data removed]",
      "text/plain": [
       "<matplotlib.figure.Figure at 0x7f6900d51a90>"
      ]
     },
     "metadata": {},
     "output_type": "display_data"
    }
   ],
   "source": [
    "plt.plot(trainHist[:])"
   ]
  },
  {
   "cell_type": "markdown",
   "metadata": {},
   "source": [
    "# Prediction"
   ]
  },
  {
   "cell_type": "code",
   "execution_count": 116,
   "metadata": {
    "collapsed": false
   },
   "outputs": [],
   "source": [
    "pred_batch=1\n",
    "\n",
    "last_state = np.zeros((pred_batch,num_neurons),dtype=np.float32)\n",
    "prev = np.random.choice(vocab_size,num_steps).astype(np.float32).reshape(1,num_steps)\n",
    "\n",
    "digital_shakespeare = []\n",
    "\n",
    "for i in range(10):\n",
    "   \n",
    "    pred, last_state = sess.run([prediction,final_state],feed_dict={x: prev, init_state: last_state})\n",
    "    prev = np.argmax(pred,axis=2)\n",
    "    \n",
    "    \n",
    "    \n",
    "    digital_shakespeare +=  prev.reshape(-1).tolist()"
   ]
  },
  {
   "cell_type": "code",
   "execution_count": 107,
   "metadata": {
    "collapsed": false
   },
   "outputs": [
    {
     "name": "stdout",
     "output_type": "stream",
     "text": [
      "NEIiU\n",
      "IeUuh UG:,IUIo \n",
      "lS INLnS OrSs tp \n",
      " USNfs l:h IAo:tf I ahot SS:UIiti\n",
      "et Lf\n",
      "het cneuhtee\n",
      "SUn n  htao a  tousre rd :S:sobte ilsnpth ntisaesh\n",
      "o\n",
      " neinhn   e eoo t nn   f To ng  httatnpdthCoohttoth soette eneoee eI ue erh th  h rhnd r dhnLts sneithetheteee tecoeeeh thoanh r er rn thltmd dstheuleetecnehedtheeheito  e r ss rt st  eerdern rstvtece te thaCtap es ehet eirt thlthetOiyitsttve htnr htheeher Rn ni  eedha oeha er e  hoetovhtvpsenmu atpnetntten  rei ee nt esn edm e ertttecnsapho yntotvsetntne eert  leeuhoo  he l e estnn ettatsteudtte hitntnt ettnhene  rr eertashe o tn eoe   tteatnp ele rhfshohnr ttthanr eetnecteei eue ethaeetkehnp emt d ntar tnset    d   tvpetoto ndhho l ttttebttheeeirhrao e rhothaeerl  erddn  evnsnteenhet d yttveieehtveoeo rd e  tetou e ndds e p npestntthltrnhnto   tntetooat eieee id   rhtthoin rndhtnrsd tn tateeieeusgted e  e  thothke snrds  er tnttattheuh  dteoes twvethoieneeerr tao rn  theenheundtsdd ebhknsedtthe   e r s  ietnoieo l eeerhttvtecetat heunrnsetnpd e  e rt hleti r i e  oe tnttateohioc sletnsattf thoien  nennethas o leeetheudddaaor om et tfsetsd err   ntn hfetnwthoe   itneettto ohioe ee eu tttt esd eenhfenl tnnhnrhhaeetnt tnp e rtethoeeeeeil d e thoetvteon enr  sdnltebntheu hehrn tvcihtoioe ruo errhaaeechhehui unn tesupneeelt  t as ncsp ohhltlsdddd  tthtn toe etfeee e  e  tahae  hh dtnhinddhnttatthren hteaye  eng  e  eieeeestta rr shtvclttattat d d  enpeethahehi eneetetotostvdlap ete  nhad d r rhre eien tshrttoet toteteeeetns dsh ee ers th h  rn d e to eynnhneethetithedtobnth sa oee  d er ni r ene' eteypu dhtobnehothetnd stnwn ersoeirl serher e toaoe hveerrneetpnvi ehnth nn teerd edss ,oenaneeeetoohhld  tns et w dtts dd rne e taho tvwtiti e tostedetnshkeupheiituoanth e r r e e drle rnhsn t etntetetntnteoe tedee thtnhehrir e   rn thls dhheioe eioetntttedthee toeerru tnsl he eer e rdth d  estho etaasap pnteseetettvt euhawltenetro rt d r eehtnret ehrts euae totetnpa  es tneeh tnrtdhh h  oetwtatthoe ethoes e yithf heeieeeurtn eu ,tntou eedi nnsdds h tnrh h  rnhnpstaooeiy tithoeiyithedaee  nnl n,thmh u n,uier nn ttooemo  eeetsmo tns hoohha d  natvpd  anaho tende tmittoteee\n",
      "tardteushnt dthenien      nd err    te er tddtatttto sneetttthltnehhue nieeenheoa  eeeee essendtosdds   rnhtvpdddtntent  ne e twtedeiee i    rt ttorhnthe r dnsdtnsttteohha e   erheceoe h   eern  lpntttvei h n tithtvp ehtoooeeeednsatobhmh  eetne rdd d d e leree ettvp ertes tototntetanshnheeetveir th hrh  r ldeege  d e n bheoiaeytecisrnhrttobntobei pnnd ur\n"
     ]
    }
   ],
   "source": [
    "print(\"\".join([rev_trans_dic[d] for d in digital_shakespeare]))"
   ]
  },
  {
   "cell_type": "code",
   "execution_count": 109,
   "metadata": {
    "collapsed": false
   },
   "outputs": [
    {
     "data": {
      "text/plain": [
       "(1, 25, 65)"
      ]
     },
     "execution_count": 109,
     "metadata": {},
     "output_type": "execute_result"
    }
   ],
   "source": [
    "pred.shape"
   ]
  },
  {
   "cell_type": "code",
   "execution_count": null,
   "metadata": {
    "collapsed": true
   },
   "outputs": [],
   "source": []
  }
 ],
 "metadata": {
  "kernelspec": {
   "display_name": "Python 2",
   "language": "python",
   "name": "python2"
  },
  "language_info": {
   "codemirror_mode": {
    "name": "ipython",
    "version": 2
   },
   "file_extension": ".py",
   "mimetype": "text/x-python",
   "name": "python",
   "nbconvert_exporter": "python",
   "pygments_lexer": "ipython2",
   "version": "2.7.6"
  }
 },
 "nbformat": 4,
 "nbformat_minor": 1
}

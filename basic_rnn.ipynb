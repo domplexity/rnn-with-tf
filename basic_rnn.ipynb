{
 "cells": [
  {
   "cell_type": "code",
   "execution_count": 1,
   "metadata": {
    "collapsed": true
   },
   "outputs": [],
   "source": [
    "import tensorflow as tf\n",
    "import numpy as np\n",
    "import matplotlib.pyplot as plt\n",
    "%matplotlib inline\n",
    "import warnings\n",
    "from IPython.display import clear_output"
   ]
  },
  {
   "cell_type": "code",
   "execution_count": 2,
   "metadata": {
    "collapsed": true
   },
   "outputs": [],
   "source": [
    "with open('t8.shakespeare.txt') as file:\n",
    "    raw_lines = [line.replace('\\r',' ') for line in file.readlines()]\n",
    "raw_text = ' '.join(raw_lines[300:-300])"
   ]
  },
  {
   "cell_type": "code",
   "execution_count": 3,
   "metadata": {
    "collapsed": true
   },
   "outputs": [],
   "source": [
    "vocab = list(set(raw_text))\n",
    "trans_dic = {vocab[i]: i for i in range(len(vocab))}\n",
    "rev_trans_dic = {i: vocab[i] for i in range(len(vocab))}\n",
    "raw_text_enc = [trans_dic[letter] for letter in raw_text]"
   ]
  },
  {
   "cell_type": "code",
   "execution_count": 13,
   "metadata": {
    "collapsed": true
   },
   "outputs": [],
   "source": [
    "text_size = len(raw_text_enc)\n",
    "vocab_size = len(vocab)\n",
    "num_neurons = 100\n",
    "num_steps = 1\n",
    "batch_size = 1"
   ]
  },
  {
   "cell_type": "code",
   "execution_count": 5,
   "metadata": {
    "collapsed": true
   },
   "outputs": [],
   "source": [
    "def gen_batch(raw_x, batch_size, num_steps):\n",
    "\n",
    "    if batch_size % num_steps != 0:\n",
    "        warnings.warn(\"Warning: batch size is not a multiple of num_steps.\")\n",
    "    \n",
    "    raw_y = raw_x[1:] + [raw_x[0]]\n",
    "    \n",
    "    # partition raw data into batches and stack them vertically in a data matrix\n",
    "    num_batch = len(raw_x) // batch_size\n",
    "    data_x = np.zeros([num_batch, batch_size], dtype=np.int32)\n",
    "    data_y = np.zeros([num_batch, batch_size], dtype=np.int32)\n",
    "    \n",
    "    for i in range(num_batch):\n",
    "        data_x[i] = raw_x[batch_size * i:batch_size * (i + 1)]\n",
    "        data_y[i] = raw_y[batch_size * i:batch_size * (i + 1)]\n",
    "    \n",
    "    # further divide batch partitions into num_steps for truncated backprop\n",
    "    batch_lines = batch_size // num_steps\n",
    "\n",
    "    for i in range(num_batch):\n",
    "        x = np.zeros([batch_lines,num_steps],dtype=np.int32)\n",
    "        y = np.zeros([batch_lines,num_steps],dtype=np.int32)\n",
    "        for n in range(batch_lines):\n",
    "            x[n,:] = data_x[i, n * num_steps:(n + 1) * num_steps]\n",
    "            y[n,:] = data_y[i, n * num_steps:(n + 1) * num_steps]\n",
    "        yield (x, y)"
   ]
  },
  {
   "cell_type": "code",
   "execution_count": 6,
   "metadata": {
    "collapsed": true
   },
   "outputs": [],
   "source": [
    "def gen_epochs(raw_data, num_epochs, batch_size, num_steps):\n",
    "    for i in range(num_epochs):\n",
    "        yield gen_batch(raw_data,batch_size,num_steps)"
   ]
  },
  {
   "cell_type": "markdown",
   "metadata": {},
   "source": [
    "# Graph "
   ]
  },
  {
   "cell_type": "code",
   "execution_count": 14,
   "metadata": {
    "collapsed": true
   },
   "outputs": [],
   "source": [
    "tf.reset_default_graph()"
   ]
  },
  {
   "cell_type": "code",
   "execution_count": 15,
   "metadata": {
    "collapsed": false
   },
   "outputs": [],
   "source": [
    "#----------input layer-----------------------\n",
    "x = tf.placeholder(tf.int64, [None, num_steps])\n",
    "y = tf.placeholder(tf.int64, [None, num_steps])\n",
    "#init_state = tf.placeholder(tf.float32,[None, num_neurons])\n",
    "learning_rate = tf.placeholder(tf.float32,[])\n",
    "\n",
    "embeddings = tf.get_variable('embedding_matrix', [vocab_size, num_neurons])\n",
    "\n",
    "# Tensor of dims batch_size //num_steps x num_steps x num_neurons\n",
    "x_transformed = tf.nn.embedding_lookup(embeddings, x)\n",
    "\n",
    "\n",
    "#----------hidden layer-----------------------\n",
    "cell = tf.nn.rnn_cell.BasicRNNCell(num_neurons)\n",
    "init_state = cell.zero_state(batch_size//num_steps,tf.float32)\n",
    "rnn_output, final_state = tf.nn.dynamic_rnn(cell, x_transformed, initial_state=init_state, dtype=tf.float32)\n",
    "\n",
    "\n",
    "#----------output layer-----------------------\n",
    "weight = tf.Variable(tf.truncated_normal([num_neurons, vocab_size], stddev=0.1))\n",
    "bias = tf.Variable(tf.constant(0.0, shape=[vocab_size]))\n",
    "\n",
    "output = tf.reshape(rnn_output, [-1, num_neurons])\n",
    "logits = tf.matmul(output, weight) + bias\n",
    "prediction = tf.nn.softmax(logits)\n",
    "prediction = tf.reshape(prediction, [-1, num_steps, vocab_size])\n",
    "\n",
    "#----------loss and accuracy------------------\n",
    "target = tf.reshape(y,[-1])\n",
    "loss = tf.reduce_mean(tf.nn.sparse_softmax_cross_entropy_with_logits(logits,target))\n",
    "\n",
    "accuracy = tf.reduce_mean(tf.cast(tf.equal(tf.argmax(prediction, 2),y), tf.float32))\n",
    "\n",
    "#----------Trainer------------------\n",
    "trainOp = tf.train.AdamOptimizer(learning_rate=learning_rate).minimize(loss)\n",
    "init_vars = tf.initialize_all_variables()\n"
   ]
  },
  {
   "cell_type": "markdown",
   "metadata": {},
   "source": [
    "# Training"
   ]
  },
  {
   "cell_type": "code",
   "execution_count": 9,
   "metadata": {
    "collapsed": false
   },
   "outputs": [
    {
     "name": "stdout",
     "output_type": "stream",
     "text": [
      "(0, 210, 1.8538309335708618, 0.46717187464237214)\n"
     ]
    }
   ],
   "source": [
    "print_after_num_steps = 10\n",
    "adaptive_learning_rate = 0.01\n",
    "training_state = None\n",
    "\n",
    "trainHist = []\n",
    "accHist = []\n",
    "\n",
    "sess = tf.Session()\n",
    "sess.run(init_vars)\n",
    "\n",
    "for num_epoch, epoch in enumerate(gen_epochs(raw_text_enc,1,batch_size,num_steps)):\n",
    "    \n",
    "    #if num_epoch > 300:\n",
    "    #    adaptive_learning_rate = 0.001\n",
    "    \n",
    "    for i, batch in enumerate(epoch):\n",
    "        \n",
    "        feed_dic = {x: batch[0], y: batch[1], learning_rate: adaptive_learning_rate}\n",
    "        if training_state is not None:\n",
    "            feed_dict = {x: batch[0], y: batch[1],init_state: training_state,  learning_rate: adaptive_learning_rate}\n",
    "        \n",
    "        acc, lossVal, training_state, _ = sess.run([accuracy, loss, final_state, trainOp], feed_dict=feed_dic)\n",
    "        trainHist.append(lossVal)\n",
    "        accHist.append(acc)\n",
    "        \n",
    "        if i % print_after_num_steps == 0:\n",
    "            clear_output()\n",
    "            avg_loss = sum(trainHist[-print_after_num_steps:])/print_after_num_steps\n",
    "            avg_acc = sum(accHist[-print_after_num_steps:])/print_after_num_steps\n",
    "            \n",
    "            print(num_epoch, i, avg_loss, avg_acc)\n",
    "            "
   ]
  },
  {
   "cell_type": "code",
   "execution_count": 12,
   "metadata": {
    "collapsed": false
   },
   "outputs": [
    {
     "data": {
      "text/plain": [
       "'basic_rnn_save.tf_vars'"
      ]
     },
     "execution_count": 12,
     "metadata": {},
     "output_type": "execute_result"
    }
   ],
   "source": [
    "saver = tf.train.Saver()\n",
    "saver.save(sess, 'basic_rnn_save.tf_vars')"
   ]
  },
  {
   "cell_type": "code",
   "execution_count": 11,
   "metadata": {
    "collapsed": false
   },
   "outputs": [
    {
     "data": {
      "text/plain": [
       "[<matplotlib.lines.Line2D at 0x116282550>]"
      ]
     },
     "execution_count": 11,
     "metadata": {},
     "output_type": "execute_result"
    },
    {
     "data": {
      "image/png": "[encoded data removed]",
      "text/plain": [
       "<matplotlib.figure.Figure at 0x111f01d10>"
      ]
     },
     "metadata": {},
     "output_type": "display_data"
    }
   ],
   "source": [
    "plt.plot(trainHist[-100:])"
   ]
  },
  {
   "cell_type": "code",
   "execution_count": 47,
   "metadata": {
    "collapsed": false
   },
   "outputs": [],
   "source": [
    "#rebuild the graph before\n",
    "sess = tf.Session()\n",
    "sess.run(tf.initialize_all_variables())\n",
    "saver = tf.train.Saver()\n",
    "saver.restore(sess, 'basic_rnn_save.tf_vars')\n",
    "prev = np.array([[trans_dic['x']]])\n",
    "last_state = None\n",
    "digital_shakespeare = ''\n",
    "pred_hist = []\n",
    "\n",
    "for i in range(1000):\n",
    "    if i == 0:\n",
    "        pred, last_state = sess.run([prediction,final_state],feed_dict={x: prev})\n",
    "    else:\n",
    "        pred, last_state = sess.run([prediction,final_state],feed_dict={x: prev, init_state: last_state})\n",
    "    \n",
    "    pred_hist.append(pred)\n",
    "    prev = rev_trans_dic[np.random.choice(vocab_size,1,p=np.squeeze(pred)).flatten()[0]]\n",
    "    digital_shakespeare += prev\n",
    "    prev = np.array([[trans_dic[prev]]])"
   ]
  },
  {
   "cell_type": "code",
   "execution_count": 48,
   "metadata": {
    "collapsed": false
   },
   "outputs": [
    {
     "name": "stdout",
     "output_type": "stream",
     "text": [
      "erard tixe wifiettebender with rard.\n",
      "     I gay fair! to winlen\n",
      "     Thie;- therefering cree leve wither mess dide the hast; I bet him,\n",
      "     Withilf; untled arghing aresine collins me withight\n",
      "     To the mould hind of are graad a will and truck my\n",
      "     Begrane thundes wan perter to ment on be offer reen thee chy, uthingonew, learger. Bet to granat,     Fore hir.\n",
      "\n",
      "   Pave, thin soor his of the himint what they have breever.\n",
      "   A' word of goor my the with unclece.\n",
      "     The prom\n",
      "   ALOL TUTFAT DILITETEN.\n",
      "     I tour of sen  Peak with will tore bear to the grow there nedg.\n",
      "   A musogh the\n",
      "     EJIE. Here trupted you.\n",
      "     Tame's enende's out's nove, youch thery one pith wifa.\n",
      "     Cown'd.\n",
      "     will she hen\n",
      "   Duptane\n",
      "   Have your will groble she swever with not us a then whteed yoush are mosease thy will to apreers for tare sing what pedas'tt.\n",
      "   renter esa ener as ollar pabon, and or you, whis fas lostiren, be bus'd: to thy;\n",
      "   PLOBY. If For what and nome that as she these thee, grees fo\n"
     ]
    }
   ],
   "source": [
    "print(digital_shakespeare)"
   ]
  },
  {
   "cell_type": "code",
   "execution_count": 43,
   "metadata": {
    "collapsed": false
   },
   "outputs": [
    {
     "data": {
      "text/plain": [
       "array([63])"
      ]
     },
     "execution_count": 43,
     "metadata": {},
     "output_type": "execute_result"
    }
   ],
   "source": [
    "np.random.choice(vocab_size,1,p=np.squeeze(pred_hist[45]))"
   ]
  },
  {
   "cell_type": "code",
   "execution_count": null,
   "metadata": {
    "collapsed": true
   },
   "outputs": [],
   "source": [
    "prev = np.random.choice(vocab_size,num_steps).astype(np.float32).reshape(1,num_steps)\n",
    "last_state = np.zeros((1, num_neurons),dtype=np.float32)\n",
    "\n",
    "digital_shakespeare = []\n",
    "\n",
    "def my_func(prob_array):\n",
    "    choice_char = rev_trans_dic[np.random.choice(a = range(vocab_size), p = prob_array)]\n",
    "    return choice_char\n",
    "\n",
    "for i in range(10):\n",
    "    pre_pred, last_state = sess.run([pre_prediction,final_state],feed_dict={x: prev, init_state: last_state})\n",
    "    #prev = np.argmax(pred,axis=2)\n",
    "    digital_shakespeare += \"\".join(np.apply_along_axis(my_func, 1, pre_pred).flatten().tolist())"
   ]
  }
 ],
 "metadata": {
  "kernelspec": {
   "display_name": "Python 2",
   "language": "python",
   "name": "python2"
  },
  "language_info": {
   "codemirror_mode": {
    "name": "ipython",
    "version": 2
   },
   "file_extension": ".py",
   "mimetype": "text/x-python",
   "name": "python",
   "nbconvert_exporter": "python",
   "pygments_lexer": "ipython2",
   "version": "2.7.12"
  }
 },
 "nbformat": 4,
 "nbformat_minor": 1
}

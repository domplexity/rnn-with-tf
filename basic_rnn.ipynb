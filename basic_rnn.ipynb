{
 "cells": [
  {
   "cell_type": "code",
   "execution_count": 1,
   "metadata": {
    "collapsed": true
   },
   "outputs": [],
   "source": [
    "import tensorflow as tf\n",
    "import numpy as np\n",
    "import matplotlib.pyplot as plt\n",
    "%matplotlib inline\n",
    "import warnings\n",
    "from IPython.display import clear_output"
   ]
  },
  {
   "cell_type": "code",
   "execution_count": 2,
   "metadata": {
    "collapsed": true
   },
   "outputs": [],
   "source": [
    "with open('t8.shakespeare.txt') as file:\n",
    "    raw_lines = [line.replace('\\r',' ') for line in file.readlines()]\n",
    "raw_text = ' '.join(raw_lines[300:-300])"
   ]
  },
  {
   "cell_type": "code",
   "execution_count": 3,
   "metadata": {
    "collapsed": true
   },
   "outputs": [],
   "source": [
    "vocab = list(set(raw_text))\n",
    "trans_dic = {vocab[i]: i for i in range(len(vocab))}\n",
    "rev_trans_dic = {i: vocab[i] for i in range(len(vocab))}\n",
    "raw_text_enc = [trans_dic[letter] for letter in raw_text]"
   ]
  },
  {
   "cell_type": "code",
   "execution_count": 30,
   "metadata": {
    "collapsed": true
   },
   "outputs": [],
   "source": [
    "text_size = len(raw_text_enc)\n",
    "vocab_size = len(vocab)\n",
    "num_neurons = 100\n",
    "num_steps = 25\n",
    "batch_size = 64*num_steps"
   ]
  },
  {
   "cell_type": "code",
   "execution_count": 5,
   "metadata": {
    "collapsed": true
   },
   "outputs": [],
   "source": [
    "def gen_batch(raw_x, batch_size, num_steps):\n",
    "\n",
    "    if batch_size % num_steps != 0:\n",
    "        warnings.warn(\"Warning: batch size is not a multiple of num_steps.\")\n",
    "    \n",
    "    raw_y = raw_x[1:] + [raw_x[0]]\n",
    "    \n",
    "    # partition raw data into batches and stack them vertically in a data matrix\n",
    "    num_batch = len(raw_x) // batch_size\n",
    "    data_x = np.zeros([num_batch, batch_size], dtype=np.int32)\n",
    "    data_y = np.zeros([num_batch, batch_size], dtype=np.int32)\n",
    "    \n",
    "    for i in range(num_batch):\n",
    "        data_x[i] = raw_x[batch_size * i:batch_size * (i + 1)]\n",
    "        data_y[i] = raw_y[batch_size * i:batch_size * (i + 1)]\n",
    "    \n",
    "    # further divide batch partitions into num_steps for truncated backprop\n",
    "    batch_lines = batch_size // num_steps\n",
    "\n",
    "    for i in range(num_batch):\n",
    "        x = np.zeros([batch_lines,num_steps],dtype=np.int32)\n",
    "        y = np.zeros([batch_lines,num_steps],dtype=np.int32)\n",
    "        for n in range(batch_lines):\n",
    "            x[n,:] = data_x[i, n * num_steps:(n + 1) * num_steps]\n",
    "            y[n,:] = data_y[i, n * num_steps:(n + 1) * num_steps]\n",
    "        yield (x, y)"
   ]
  },
  {
   "cell_type": "code",
   "execution_count": 6,
   "metadata": {
    "collapsed": true
   },
   "outputs": [],
   "source": [
    "def gen_epochs(raw_data, num_epochs, batch_size, num_steps):\n",
    "    for i in range(num_epochs):\n",
    "        yield gen_batch(raw_data,batch_size,num_steps)"
   ]
  },
  {
   "cell_type": "markdown",
   "metadata": {},
   "source": [
    "# Graph "
   ]
  },
  {
   "cell_type": "code",
   "execution_count": 31,
   "metadata": {
    "collapsed": true
   },
   "outputs": [],
   "source": [
    "tf.reset_default_graph()"
   ]
  },
  {
   "cell_type": "code",
   "execution_count": 32,
   "metadata": {
    "collapsed": false
   },
   "outputs": [],
   "source": [
    "#----------input layer-----------------------\n",
    "x = tf.placeholder(tf.int64, [None, num_steps])\n",
    "y = tf.placeholder(tf.int64, [None, num_steps])\n",
    "#init_state = tf.placeholder(tf.float32,[None, num_neurons])\n",
    "learning_rate = tf.placeholder(tf.float32,[])\n",
    "\n",
    "embeddings = tf.get_variable('embedding_matrix', [vocab_size, num_neurons])\n",
    "\n",
    "# Tensor of dims batch_size //num_steps x num_steps x num_neurons\n",
    "x_transformed = tf.nn.embedding_lookup(embeddings, x)\n",
    "\n",
    "\n",
    "#----------hidden layer-----------------------\n",
    "cell = tf.nn.rnn_cell.BasicRNNCell(num_neurons)\n",
    "init_state = cell.zero_state(batch_size//num_steps,tf.float32)\n",
    "rnn_output, final_state = tf.nn.dynamic_rnn(cell, x_transformed, initial_state=init_state, dtype=tf.float32)\n",
    "\n",
    "\n",
    "#----------output layer-----------------------\n",
    "weight = tf.Variable(tf.truncated_normal([num_neurons, vocab_size], stddev=0.1))\n",
    "bias = tf.Variable(tf.constant(0.0, shape=[vocab_size]))\n",
    "\n",
    "output = tf.reshape(rnn_output, [-1, num_neurons])\n",
    "logits = tf.matmul(output, weight) + bias\n",
    "prediction = tf.nn.softmax(logits)\n",
    "prediction = tf.reshape(prediction, [-1, num_steps, vocab_size])\n",
    "\n",
    "#----------loss and accuracy------------------\n",
    "target = tf.reshape(y,[-1])\n",
    "loss = tf.reduce_mean(tf.nn.sparse_softmax_cross_entropy_with_logits(logits,target))\n",
    "\n",
    "accuracy = tf.reduce_mean(tf.cast(tf.equal(tf.argmax(prediction, 2),y), tf.float32))\n",
    "\n",
    "#----------Trainer------------------\n",
    "trainOp = tf.train.AdagradOptimizer(learning_rate=learning_rate).minimize(loss)\n",
    "init_vars = tf.initialize_all_variables()\n"
   ]
  },
  {
   "cell_type": "markdown",
   "metadata": {},
   "source": [
    "# Training"
   ]
  },
  {
   "cell_type": "code",
   "execution_count": 37,
   "metadata": {
    "collapsed": false
   },
   "outputs": [
    {
     "name": "stdout",
     "output_type": "stream",
     "text": [
      "(0, 900, 1.6429128825664521, 0.52332499653100972)\n"
     ]
    }
   ],
   "source": [
    "print_after_num_steps = 100\n",
    "adaptive_learning_rate = 0.1\n",
    "restart_training = False\n",
    "\n",
    "if restart_training:\n",
    "    training_state = None\n",
    "    trainHist = []\n",
    "    accHist = []\n",
    "    sess = tf.Session()\n",
    "    sess.run(init_vars)\n",
    "\n",
    "for num_epoch, epoch in enumerate(gen_epochs(raw_text_enc[:1000*batch_size],1,batch_size,num_steps)):\n",
    "    \n",
    "    if num_epoch > 50:\n",
    "        adaptive_learning_rate = 0.01\n",
    "    \n",
    "    for i, batch in enumerate(epoch):\n",
    "        \n",
    "        feed_dic = {x: batch[0], y: batch[1], learning_rate: adaptive_learning_rate}\n",
    "        if training_state is not None:\n",
    "            feed_dict = {x: batch[0], y: batch[1],init_state: training_state,  learning_rate: adaptive_learning_rate}\n",
    "        \n",
    "        acc, lossVal, training_state, pred, _ = sess.run([accuracy, loss, final_state, prediction, trainOp], feed_dict=feed_dic)\n",
    "        trainHist.append(lossVal)\n",
    "        accHist.append(acc)\n",
    "        \n",
    "        if i % print_after_num_steps == 0:\n",
    "            clear_output()\n",
    "            avg_loss = sum(trainHist[-print_after_num_steps:])/print_after_num_steps\n",
    "            avg_acc = sum(accHist[-print_after_num_steps:])/print_after_num_steps\n",
    "            \n",
    "            print(num_epoch, i, avg_loss, avg_acc)\n",
    "            "
   ]
  },
  {
   "cell_type": "code",
   "execution_count": 19,
   "metadata": {
    "collapsed": false
   },
   "outputs": [
    {
     "data": {
      "text/plain": [
       "[<matplotlib.lines.Line2D at 0x7fc7e72eb410>]"
      ]
     },
     "execution_count": 19,
     "metadata": {},
     "output_type": "execute_result"
    },
    {
     "data": {
      "image/png": "[encoded data removed]",
      "text/plain": [
       "<matplotlib.figure.Figure at 0x7fc7e8b38fd0>"
      ]
     },
     "metadata": {},
     "output_type": "display_data"
    }
   ],
   "source": [
    "plt.plot(trainHist[-200:])"
   ]
  },
  {
   "cell_type": "code",
   "execution_count": 50,
   "metadata": {
    "collapsed": false
   },
   "outputs": [
    {
     "data": {
      "text/plain": [
       "array([72, 32, 15, 23,  0, 59, 19, 18, 26, 11, 46, 30, 27, 28, 79, 25, 17,\n",
       "       24, 41, 58, 48, 62, 18,  3, 21])"
      ]
     },
     "execution_count": 50,
     "metadata": {},
     "output_type": "execute_result"
    }
   ],
   "source": [
    "np.random.choice(vocab_size,num_steps)"
   ]
  },
  {
   "cell_type": "code",
   "execution_count": 81,
   "metadata": {
    "collapsed": false
   },
   "outputs": [
    {
     "data": {
      "text/plain": [
       "\"eoa aaa'eaesa \\nyFO .I \\n ArMMhy AAIA  .Sae. ee \\nEiie\\nAaeea  I.... a .E   a\\nan ln\\n\\nrRieei  E r\\ns\\neuaa eh R.e\\n\\n\\naas.... oue\\nC...uiiNE\\nHea   Sah.  uTE\\n\\nNaled u\\naAl.iC\\n\\n.a\\nI Et anee\\nA\\n.E..  .ss yYaea'e\\n.\\n\\nnO Aia. eoa laEHaiys,S..\\neaN oeU rr.y. e.san IaS   \\n\\n\\n\\nei ,..aee\\nnu aMY\\nI\\n\\nasaily o\\nay.e\\nHAAE n..E   IYa\\n...a.. eieao\\neuea\\nS\\n\\nrAee . SEEEE E ..  \\n LR tiwIEEEOE YE  i.e..  \\n..\\ns \\n  E IC\\ns R.. Ue.i.eae  \\nCEES \\n\\n\\na\\nh\\nee\\nYESE Aa. irheTaaui\\n yy\\nrnF L\\n.  .\\n\\ns.IAOY\\nEEMD,. .Ma\\n  e.Y\\n\\n\\nn.aueiaea \\n.Ha .\\n\\n.n.eEEEEIY y\\ne\\n.\\ne. .R .\\nAa \\ne \\n eaa\\n  \\n A\\na.....\\nas   a\\n\\nNN .\\nSO . A.\\n\\n A\\n. Ans  Iaeaars Uss, uEaE \\n\\n Ae. aP\\nn\\n\\norFN a.e\\n...aacE.IAC... .N.naiOw..\\nSiS ute \\n\\nANSau. .he\\n \\nAa.eET\\nag \\n \\nHIa  a \\n9T ..NOO h .cooeihae\\nYE\\nod. \\nirOaP.,eeeuas.\\n \\n\\nr ,u\\naia..S  \\n.syaae..or  \\n\\n9\\n H\\nT AMS.yt\\neaeehsaaiEN i.y. A\\n h..s eeued aa c\\n,e\\nSN\\nyMaoaaeeo\\nPEs. \\n\\naaaas   s  CeosturaaaauaS .Na   .Ea Y\\nRIriiOaa..e\\ne\\nIiae aEEEEM\\nooani .\\n.Ia\\nIEEE.a naaa. IU A\\nA.se. rt rpiEnh oEOA, \\nii aS\\n.t. A.n.eU..... n e\\neiuI....ea \\n. .\\nu.eeoIrva,a\\n.r\\nIEREMEnn y  TiR\\namSOai\\neS.e..\\n .   e.E  sls\\n....Ai\\nS.. U\\n\\n...E .\\noee uiR..ioe ..yAMPHa\\naaEo tu\\nec\\n\\nAaRr\\n.\\nI\\naa\\niaSaRInR Ei\\niey. E.EEIE .eoas, resaahie oe a\\nSEn.RE  y\\nu.\\n.. \\ne\\na OEEEn. .SReiP ee\\nES.EauSE   y.aiyE...Eaiueoi\\nyE  .\\nN a...a...  i a\\nenns.. AEH EEEEs\\n..  \\nau. ..\\n \\n. ae..yaaay.. ah\\n eeaaae.\\naea. e\\ne.a.aEau\\neaai a \\n\\nna eAc.aaEOOHy uREn\\nese\\nA\\nAEEIaneeeoaKe\\na\\ne\\nS.\\n..Ua.u..\\nIESl..i\\neauOO Aoa\\n n.I,u..  sc aihe nut  aa aae\\n\\n\\ns..rEEOee\\naa\\n\\naeaa  A oeH.aEN eYCuA\\ns \\n\\n\\n\\neas r..ssee.n\\no.eea.eaaaEaeaaaaE a\\n.aaea.raE\\nS. .\\nr es s \\nee.aa\\nc  n\\nE\\n.sn'o\\neIArtaS. rsEE.w  r\\naaiea N. aa..Ea.e\\ne\\n\""
      ]
     },
     "execution_count": 81,
     "metadata": {},
     "output_type": "execute_result"
    }
   ],
   "source": [
    "\n",
    "#prev.tolist()"
   ]
  },
  {
   "cell_type": "code",
   "execution_count": 88,
   "metadata": {
    "collapsed": false
   },
   "outputs": [
    {
     "ename": "ValueError",
     "evalue": "Cannot feed value of shape (1, 1, 1) for Tensor u'Placeholder:0', which has shape '(?, 25)'",
     "output_type": "error",
     "traceback": [
      "\u001b[0;31m---------------------------------------------------------------------------\u001b[0m",
      "\u001b[0;31mValueError\u001b[0m                                Traceback (most recent call last)",
      "\u001b[0;32m<ipython-input-88-c39a2f358ada>\u001b[0m in \u001b[0;36m<module>\u001b[0;34m()\u001b[0m\n\u001b[1;32m      8\u001b[0m \u001b[0;32mfor\u001b[0m \u001b[0mi\u001b[0m \u001b[0;32min\u001b[0m \u001b[0mrange\u001b[0m\u001b[0;34m(\u001b[0m\u001b[0;36m10\u001b[0m\u001b[0;34m)\u001b[0m\u001b[0;34m:\u001b[0m\u001b[0;34m\u001b[0m\u001b[0m\n\u001b[1;32m      9\u001b[0m     \u001b[0;32mif\u001b[0m \u001b[0mlast_state\u001b[0m \u001b[0;34m==\u001b[0m \u001b[0mNone\u001b[0m\u001b[0;34m:\u001b[0m\u001b[0;34m\u001b[0m\u001b[0m\n\u001b[0;32m---> 10\u001b[0;31m         \u001b[0mpred\u001b[0m\u001b[0;34m,\u001b[0m \u001b[0mlast_state\u001b[0m \u001b[0;34m=\u001b[0m \u001b[0msess\u001b[0m\u001b[0;34m.\u001b[0m\u001b[0mrun\u001b[0m\u001b[0;34m(\u001b[0m\u001b[0;34m[\u001b[0m\u001b[0mprediction\u001b[0m\u001b[0;34m,\u001b[0m \u001b[0mfinal_state\u001b[0m\u001b[0;34m]\u001b[0m\u001b[0;34m,\u001b[0m\u001b[0mfeed_dict\u001b[0m\u001b[0;34m=\u001b[0m\u001b[0;34m{\u001b[0m\u001b[0mx\u001b[0m\u001b[0;34m:\u001b[0m \u001b[0;34m[\u001b[0m\u001b[0;34m[\u001b[0m\u001b[0mprev\u001b[0m\u001b[0;34m]\u001b[0m\u001b[0;34m]\u001b[0m\u001b[0;34m,\u001b[0m \u001b[0minit_state\u001b[0m\u001b[0;34m:\u001b[0m \u001b[0mtraining_state\u001b[0m\u001b[0;34m}\u001b[0m\u001b[0;34m)\u001b[0m\u001b[0;34m\u001b[0m\u001b[0m\n\u001b[0m\u001b[1;32m     11\u001b[0m     \u001b[0;32melse\u001b[0m\u001b[0;34m:\u001b[0m\u001b[0;34m\u001b[0m\u001b[0m\n\u001b[1;32m     12\u001b[0m         \u001b[0mpred\u001b[0m\u001b[0;34m,\u001b[0m \u001b[0mlast_state\u001b[0m \u001b[0;34m=\u001b[0m \u001b[0msess\u001b[0m\u001b[0;34m.\u001b[0m\u001b[0mrun\u001b[0m\u001b[0;34m(\u001b[0m\u001b[0;34m[\u001b[0m\u001b[0mprediction\u001b[0m\u001b[0;34m,\u001b[0m \u001b[0mfinal_state\u001b[0m\u001b[0;34m]\u001b[0m\u001b[0;34m,\u001b[0m\u001b[0mfeed_dict\u001b[0m\u001b[0;34m=\u001b[0m\u001b[0;34m{\u001b[0m\u001b[0mx\u001b[0m\u001b[0;34m:\u001b[0m \u001b[0;34m[\u001b[0m\u001b[0;34m[\u001b[0m\u001b[0mprev\u001b[0m\u001b[0;34m]\u001b[0m\u001b[0;34m]\u001b[0m\u001b[0;34m,\u001b[0m \u001b[0minit_state\u001b[0m\u001b[0;34m:\u001b[0m \u001b[0mlast_state\u001b[0m\u001b[0;34m}\u001b[0m\u001b[0;34m)\u001b[0m\u001b[0;34m\u001b[0m\u001b[0m\n",
      "\u001b[0;32m/usr/local/lib/python2.7/dist-packages/tensorflow/python/client/session.pyc\u001b[0m in \u001b[0;36mrun\u001b[0;34m(self, fetches, feed_dict, options, run_metadata)\u001b[0m\n\u001b[1;32m    715\u001b[0m     \u001b[0;32mtry\u001b[0m\u001b[0;34m:\u001b[0m\u001b[0;34m\u001b[0m\u001b[0m\n\u001b[1;32m    716\u001b[0m       result = self._run(None, fetches, feed_dict, options_ptr,\n\u001b[0;32m--> 717\u001b[0;31m                          run_metadata_ptr)\n\u001b[0m\u001b[1;32m    718\u001b[0m       \u001b[0;32mif\u001b[0m \u001b[0mrun_metadata\u001b[0m\u001b[0;34m:\u001b[0m\u001b[0;34m\u001b[0m\u001b[0m\n\u001b[1;32m    719\u001b[0m         \u001b[0mproto_data\u001b[0m \u001b[0;34m=\u001b[0m \u001b[0mtf_session\u001b[0m\u001b[0;34m.\u001b[0m\u001b[0mTF_GetBuffer\u001b[0m\u001b[0;34m(\u001b[0m\u001b[0mrun_metadata_ptr\u001b[0m\u001b[0;34m)\u001b[0m\u001b[0;34m\u001b[0m\u001b[0m\n",
      "\u001b[0;32m/usr/local/lib/python2.7/dist-packages/tensorflow/python/client/session.pyc\u001b[0m in \u001b[0;36m_run\u001b[0;34m(self, handle, fetches, feed_dict, options, run_metadata)\u001b[0m\n\u001b[1;32m    892\u001b[0m                 \u001b[0;34m'Cannot feed value of shape %r for Tensor %r, '\u001b[0m\u001b[0;34m\u001b[0m\u001b[0m\n\u001b[1;32m    893\u001b[0m                 \u001b[0;34m'which has shape %r'\u001b[0m\u001b[0;34m\u001b[0m\u001b[0m\n\u001b[0;32m--> 894\u001b[0;31m                 % (np_val.shape, subfeed_t.name, str(subfeed_t.get_shape())))\n\u001b[0m\u001b[1;32m    895\u001b[0m           \u001b[0;32mif\u001b[0m \u001b[0;32mnot\u001b[0m \u001b[0mself\u001b[0m\u001b[0;34m.\u001b[0m\u001b[0mgraph\u001b[0m\u001b[0;34m.\u001b[0m\u001b[0mis_feedable\u001b[0m\u001b[0;34m(\u001b[0m\u001b[0msubfeed_t\u001b[0m\u001b[0;34m)\u001b[0m\u001b[0;34m:\u001b[0m\u001b[0;34m\u001b[0m\u001b[0m\n\u001b[1;32m    896\u001b[0m             \u001b[0;32mraise\u001b[0m \u001b[0mValueError\u001b[0m\u001b[0;34m(\u001b[0m\u001b[0;34m'Tensor %s may not be fed.'\u001b[0m \u001b[0;34m%\u001b[0m \u001b[0msubfeed_t\u001b[0m\u001b[0;34m)\u001b[0m\u001b[0;34m\u001b[0m\u001b[0m\n",
      "\u001b[0;31mValueError\u001b[0m: Cannot feed value of shape (1, 1, 1) for Tensor u'Placeholder:0', which has shape '(?, 25)'"
     ]
    }
   ],
   "source": [
    "digital_shakespeare = []\n",
    "last_state = None\n",
    "#prev = np.random.choice(vocab_size,(batch_size//num_steps,num_steps)).astype(np.float64)\n",
    "#batch_generator = gen_batch(raw_text_enc,batch_size,num_steps)\n",
    "#prev, _ = batch_generator.next()\n",
    "prev = [25]\n",
    "    \n",
    "for i in range(10):\n",
    "    if last_state == None:\n",
    "        pred, last_state = sess.run([prediction, final_state],feed_dict={x: [[prev]], init_state: training_state})\n",
    "    else:\n",
    "        pred, last_state = sess.run([prediction, final_state],feed_dict={x: [[prev]], init_state: last_state})\n",
    "    \n",
    "    #prev = np.apply_along_axis(get_num, , pred)\n",
    "    print(pred)\n",
    "    #prev = np.argmax(pred,axis=2)\n",
    "    #digital_shakespeare += \"\".join([rev_trans_dic[i] for i in prev.flatten().tolist()])\n",
    "    #choice_char = rev_trans_dic[np.random.choice(a = range(vocab_size), p = prob_array)]\n",
    "    \n",
    "    #digital_shakespeare += \"\".join(np.apply_along_axis(my_func, 1, pred).flatten().tolist())\n",
    "\n",
    "        \n",
    "        \n",
    "#print(np.argmax(pred,axis=2))\n",
    "#print(pred.shape)\n",
    "#\n",
    "#digital_shakespeare += \"\".join(np.apply_along_axis(my_func, 1, pred).flatten().tolist())"
   ]
  },
  {
   "cell_type": "code",
   "execution_count": 87,
   "metadata": {
    "collapsed": false
   },
   "outputs": [
    {
     "name": "stdout",
     "output_type": "stream",
     "text": [
      "s   id ahnc e tnd thesk tn ne tod  tith the  \n",
      "         T                 U    Ide yne  oire yng   tie oett oheu hheat      Iofethe shef the srarth s tyshre \n",
      "    Alhse s te ues  tove  tot  ng tet te h  otde     Rdote ng toomt yoo sitd  th theue tne toeas     Ie  te rt  ns togrrl  tia hout oheu hrls       He setnd dns tinge  htove  the  th tove \n",
      "    Riteleys  op ne etii houtetheu hn      Humreat tnm.rptf thcbeaot ton tetot tike \n",
      "    Ar Civeng thuce.ctseth the shef tnlne   o\n",
      " heu hn the shef the sh lththef to t oeakive    l ha  tau tien tomure ton y the  oh te troe,     I n tnceso ile tntsoston tetheu hotve \n",
      " \n",
      "     The s gm   te rth oast te th eer tith the        Thich as   tike  the aaertl ryth ae \n",
      "     \n",
      "             t       U    heut tenr  teen tith trntle airdntos troie     he cire y trre hiine tner  tnesto h aeaaey    hsliteac the choegg  th the siry thye      Reowhet tndeinsaiach toir iolouh ancerl     Ir tovexe\n",
      "epsilg ohme tiav  thcb nstf     humise ns titd s tnd tomserrd  aes the es\n",
      "    Hrphoaak r tith trort tnd tirt  aitve  tuiehntooe,     Enrs  afsr  eotsr tnd tere tss tner  tie e \n",
      "    Ie cti e tot thcesnas tostrll neon titt  t\n",
      " nsovuilsoroniner tart mn tisl  tf trect,     Ennd  s tafectrtith te rth \n",
      "e e te eat      Outtn torrtotmeaesbeante tiat tn Sos \n",
      "     Tut toew rs todhall s theu htthe  silh titdur ty t       Tetn  tes the r soau  ahe r socstegde thall tike  theet \n",
      " s                        wa      He  tia tot titdes d teneer tivd toaone   t    the  the shcbir tne hheu he wistrtl s \n",
      "    Esnewhoet th e tilnl ahuasete theu hh e traye      Ishete rth s thuasere tne ht  n tnaortnhheeIhe e oheBovdh et\n",
      "hme ahe s          Th                 nto    nhog t nteetoget  hmnsfr etf  rtaanrht\n",
      "    floatiraha ethe cteve  thth  aeaw     nloolohthndsrua\n",
      "h ert h  m orthl thldaotfhedt\n",
      "   eiwhrtooth   eoomrthrheo\n",
      "hethe r ihe th  ltt\n",
      "     a\n",
      "hadeah o th eeyeo hmltenrhtf  rtaoaet\n",
      "t\n",
      "   e soa eetoowshme ra\n",
      "ao ert\n",
      "he K hath ert      g d s  t\n",
      "netowdahrnhaurhxterrtaom     aspsttethee\n",
      ".aaoaheooaru th gthl rht ne t     neaOres ythesh  Heer ethe ctaeetheie t\n",
      " n  i rtaomhe staeethe cta ite ertth thyf t ne t\n",
      "  ltevm hkghhmndth era th eIothe c nethldhuu  a\n",
      "    toihoe  ltnl theeers r thvterrtalhent        he wthooa  hadeaotfrt thldhetnrsthmh ahe s       hesk tn t  hme t he srts hete oemt t                    h       nt   ear thldet\n",
      "hrd thm  ahueeyaanr ee reahyunsi\n",
      "   e wote tothueawenntsahe et\n",
      "hyet raemn tts t\n",
      "  e eghdrethe coardhes hethe stn, the es     edn ,rhtheertg nnle th n olnaus andes at\n",
      "     th erer re oi tf  nthmlet\n",
      "heootoweut\n",
      "   emplh to thmeeoeaheeIh e lfaet\n",
      "n ethe cnt     eaoiutt oehhme ahuueetheeahmlht\n",
      "nrhert\n",
      "hrls,o rk  a\n",
      "   nteua nfhoa\n",
      "npohewhoeIhaeaahoecho et\n",
      "hm tnh     s houranhh emheortem th e eiitovt thm et\n",
      "e  o nernd mslengs thkehteeahmheo\n",
      "hothunki a\n",
      "   nte t\n",
      "ethkt tleao ,ahldeaem rmnhhldarht\n",
      "    ft eeth eearhent  ear  rthmlhthethrea      hr th n tehth eivl hhthe raaaeera hrl ohdhersahotho      ha et\n",
      "haeohe cett rlt\n",
      "nt aewt k   eorahetl thme t he  ht  ht                       ert\n",
      "    a s hmlth hmhmher totha sd thmeeth tu  t\n",
      " et\n",
      "  he l ha ctaoedethe t. rstaawalh eietht     n  s elrhthetnhhml ymntslt irwha rhaawxhhun,st     ft rhnteieththeske e the te s oioott eeyes s,ranhfnnrle eaae yentnt aht         het                owna   oiugohooernh etht\n",
      "aooueiantet\n",
      "eiyddeee     ea thneteltveeraoerero heiet\n",
      "n rst\n",
      "   oirdau   e  oet amneetim yyfnheeohei yuhoer e    xtneeirnh t\n",
      " np   eieiat  r  roetn rahettioe     Tn ad  r,tfhhetnnesntaoeh tyeaet\n",
      "eiyut,  h    xhtmrtvn nr  ierten nfmvee  rhimanh aneot    tooottt h  e nnereeeyll ,eir y.ln t    n ei er  r  \n",
      "  ut  tntssthetrhe oeaooowdhy    ovru d toheee a e r tnerraoeydnh rtsth  os nheayu  rthrndnh raoer n roneoiithe eah ovdh   yedeaaiieeoaeei anetthetn la rootoveeyeemrt\n",
      "n     a n u t\n",
      "aeeythe     aehheair ael ,st t\n",
      "      erwaoerrtn\n",
      "at  tn eiithei ea eeieee ora tht      ereitheth  eosthoaawoaaete  rtfnpeaho                   et      owt  nrtthei dt reothe s nts d lrsyanrteadaosg o    xhirhrth h rsn stee ne tne ysd tendaetha ah   xtnuieas iraomrs er taa ermhro ahe cxha    nooy\n",
      "eiae   eetoolashetetnl ms and rttn      Thetvedtteaiunhhom\n",
      "ooeoet  rrlnh nrt     xpteioh the rtnrr, ,s anhoovsh eonerraooht\n",
      "   nrlns etf  oentntsrr h r r,eei  eeea h  eye lteit n    oertlnooeut een   eu ,ansrr,l t rtnt yeoooia    htenr ndeeaaperteilphhetntntt re the snt nm nfovei te ead  ahe eeh nr,eert  uherc nin    oevsh  eee thanvnt\n",
      "uriedt, teyeeeeeis,e     eatnreetnnr ,rc t\n",
      "nret eieaei  r  east     eowhetethre eaameeteaoertendt,d lteoawf  ir  yeuh ut     evmvt ytrn, oorteteoe eetn letna  xttt,shethe rthoaaw aom eoh\n",
      "                       h     smhteoeheaioeeers h   nthoahe rth thrt h  nt   e haSevmoeyf  rt rah Ie ekr r ,oat h et    oithtneeeaer eyeeetoa e e tt eelmeatts aelt i t    ohoaieydns  eer irtnhhe chrottfnunhetnt s th\n",
      "eit oeoeacsnrrstot eeetna t    t   e  t               feeim\n",
      " ftthn ln s yoneee  uwrnnn sr  rr,eerd t\n",
      "   nrtheie r eers rn  d nte r   eaeie    us enrt  nh n  tn erdsneaooueordl, nioe un tnh   eieedne yoh  oe   nt nl t\n",
      "et esd etene hstn t\n",
      "   hoy  a e\n",
      "eoe rteees  ln ,ahoassh rt,n \n",
      "a\n",
      "im   eooeoheitoey n eed tooeernt\n",
      "ein tt,and nht\n",
      "  enn,heiteo vtoo e nd eyo\n",
      " neao\n",
      "aatho   ohnghnet etm   s t\n",
      "hyeh aer eeltfrllfr ei o\n",
      "  feestoth nrndon xtasho  ynu  seyoeih et fetoorr rs eheegeiyaett s oieng nnn ,ranrthfeeea  es rtrnns nn, nind  eerheaenmuud ners s  oe at    tmoinhh      era\n",
      "   n t rtn an lt\n",
      "hrth       neartssa e   o hyyntt ,rtanrtvln   tf tthe s     ne n    et\n",
      "npt ,utt ntt hnt eieoolk lt\n",
      "                 rht\n",
      "    feet oeiyertaoayesnherahtoohtetiot rdsh r rn etfh   eosetooetemaeetearntovdho houeohlderdh nanaa  iieennr onvtleeeavethkrtveeeawmnt toeatm\n",
      "  o d  rrnso\n",
      " nr rr rterhn eate and teiiet\n",
      "    ha her eerrnst el  ru n ht\n",
      "eeoe toeet    oeaanu the cehoyy\n",
      "a\n",
      "ht diude atar r oiunn     oeoieaveet\n",
      "nrt e  yaaimaoa\n",
      "adnt an rtea veste rn toi   n  ye wn s tnn t\n",
      " ntt\n",
      "nt ya yohoaheetotnnnnnn   eordeaooetrt. sertd eas e ey teaihe stooteeaoorernahldarst nt anr toe ad ht nnseeiogct\n",
      "  f e et\n",
      "nrnthet eiy rrns e ahl r    n  sa    nrheyss eeyo\n",
      "eith  e  mnt r,ni ethnrt t\n",
      "   ntserhnh eawnrr nd drn  ar ,e aaioent etmnet ott hn t\n",
      "   neieitoheo afreh  rn tvr eait ent iieh\n",
      "hoa  raeheutt tnpetnp      T                t\n",
      "am    hoeirl  rrnn d    eS  ooeut  tehetheoiwam oes  nhavk eirr ea\n",
      "ettene   hneeoeh\n",
      "wrhtionhm   ftheiess n, tnes dsnnnvhnhhatnrlennee tn letnshy   fiutns se a\n",
      "nr tnvoeyesooaywheuimcirhe ththe rthtf f lh oyoe r tnr hemtho   et  nh hy              oa ne  oieeesiothtoue sdt\n",
      "nsyiyetheo\n",
      "ee ad ,th    oeh rtsteonn ,teom etoertett\n",
      "nrsnsa\n",
      "  n tateht oiooihhoyneoiosrnnssn ee aogl tpdthyi   nttn  saou,m u t\n",
      " ootooth   hnpetner rae aeth    am t\n",
      "nsa rl tehanrea\n",
      "aom\n",
      "ueurt aaei ia   npt  npn n rn r  toinn ohft d i  rrgtha nt tooo   ade e n dnaiardtnhoowneu  ovdu  rheut  neoreesstneet  oth a d on  tnrleuiyeteynthn   oatt r etoeoetg iiyeert oess he n neaaemuctrr eoeitae nh n l,heth fttcstooet\n",
      "eycyi ors rn ssteieie too iogc t nr ern iynrstoweetht n tn t   t nnt  o     net    oth a  tndaio yehit      ovrshhontvw  nteo,eeet\n",
      "etydseeiea\n",
      " homhoirctt    ovdoi m\n",
      "ne eeet\n",
      "r etooetioetnt fda aio     T            eoa     oalhtf n   hnnt,d  a sl, nn, r nnhteoeiteteomneeit  npt  nr hren,dhsr , reeilaaurdn  ed eeaotdrtn nt d eyaf eees drenweeehersdr,ee th nnhe   utot eitin  oeyeoweid aeonredtnd thlnls      etmiaetnr oi  tnpt echoteo rrl th nnht\n",
      "  f lrdsahe corel     aehesg rtn idtetfnetit\n",
      "   n unsre    eeytnh onrr lnt  eeytndaeyartirti teomh nn  og otsiemhtheish  oei aetoutou,ut  dhnheeeeeet\n",
      " np edrnn heh\n",
      " eeeietnretahnethlrny thrrd rrtnne  in,ieis  tootndot rntnmtiohoowl nn e    oinhnh eeiy r tnt,teoeitvhn eoeh   oh hym   oeoa   onn u rrhet\n",
      "nh asete enhnet e th    o  l  eaanrs yo\n",
      "oowoatt nea\n",
      "ahnrru t tneeer tfhetaomh    ovnsnhn,vrmnteset eoyhaiCnrn tndo nt t rurh emde s etheertoot     h                i   a\n",
      "  ew nseo eeoytot   nea\n",
      "nt n t\n",
      "haer eruner,tl  t\n",
      "oite tntseonr r erdrt  eordn    eeirns aa  oae r   oo lhy ttoayeey,e etheyyster,oheyia e e s\n",
      " olg e therl oewheers d rrn aertneeoe rtheierteioietitiomf unwehhoeIaapeeua  n t\n",
      "oioael             fthovw ntn   nnhe rn thoh ewoe,   rt rnw ei\n",
      "hyt   f ameht rl,et\n",
      "hrt tnern ed h  eeo r   eihkhr eafnunn au esnnneoee  oaantnpeeteriai ra  ooeet\n",
      "hyts eanho  n e rh t\n",
      " aoorterstendmsthet\n",
      "  npth   imeowhneleedt  re rrnsetnrsntn t  eeet oreyoieomey h lgetf oitetns eeeaeltooth  la\n",
      "   stnhotooynts eiyud  rstmfeera\n",
      "eiarht\n",
      "omt      essst\n",
      "nhetnmrofet\n",
      "heeymll,  d s eeo\n",
      " fthetehntmnu hr ng,n  stf t aaawotovdrsechleyanp n ndtootoio\n",
      "elee oaeh arn h r e naf eaeom   rnsnsth  tnn eahooetneohn oy ar rs  etoihothS  hhoowt nf    ov t   fhetnt\n",
      "hyern,tot lea\n",
      "    feeei u ee a\n",
      "owln rd h rh r lrn r  ere rneh et\n",
      "  feerlte ertnn h ronerr hnn heetoortnrut\n",
      "   h             ntn    nt yeetoi  eoee a  nmte aoo aehooeurn nydhrn  r n t\n",
      "oiet oeyao c aawey\n",
      "aaa n nlsseet\n",
      "netnrruheaaetoototnelttnnn toeagerdn,re oa\n",
      "adthetet  w  serhtnthogt\n",
      "n osusrn an tees yietheiey t\n",
      "    ntenns eyafnt hyeatne lh naeeomhetooau   oiioeene tomr lt\n",
      "   n tr eteyetn entuessgh    oindteaa   nr eeeafeyitaoyt nn ee ls ld oeanthll  ooom netfhenseeeern  t\n",
      "n nanterrhns s t\n",
      "eaia      h  oetneeietia   nt ns eydsie ss yoe theoeiteoteest\n",
      "n  lsn a\n",
      "h k e rh eyoeieon,un ytootnh   ntd e antn,tethoe\n",
      "hrl nye e\n",
      "np  h  netioea  feurn\n",
      " neotnheoaa  eean  trondiedatnhhet   ff om arrdy aou  d nr etovr  e eoshhoho  s thoerhrn ,o   fee oee eiee r  htnf tnnh yiaheeutoethoast yvperahtyeerd sftet    em               na  n   yetooetmnnl hnht\n",
      "\n",
      "omr aetoih et  tvetd s eeo\n",
      "h  n rtheehrpsytehneeeet np eet\n",
      "  nrne  tnrt\n",
      "ntsteh  rttioehha d d   ranaer    r  r r,nntvhnht  n eonhhe eihf  err ,toteoe\n",
      "n thesdn oehemr sednnns n sn etpdele u slre dnln tth  nutsyt\n",
      "           aaeueeoooey  ooeaheomheuetvlrd a\n",
      " ehteoetnt rehh  otne , teo a  rehthe eitnet'o\n",
      "nrlaet  nte eeanrfemce nttnheeesn dt\n",
      "nttdserrd netnntent nt dh rsh tnrd nt oinheawh   tmted  er  e eir    eeaaa  nprnseesfnt et\n",
      "eaheoeen ey o eth    dhtf   untn   teoort etnthree ann r,y nnh t\n",
      "at  \n",
      " oaoer  n e  tnt,n t\n",
      "eeeeers l rrns e  eht\n",
      "    ne    ee heyatu h rr  eee atetttyrl  oieehreeeiemtaotoo ea hrotho rrsnhreea le es ld aoiooerdh nn r  d ntsitne tematnhotftnrsn t  eowouaea hyitnrtun herreoaf tneaeit ntrleuhe.a\n",
      "t rd  tooi   fethS  oan e   sdei yrhtiav     oll ntnhnntn reeoteiwaoeimeyoooheo se teoaetve   rlr e nhneoeitamaue  aoaoetaarufteeeyst    eS           aooey   owtot  nnt ap dtnt\n",
      "ooeronpntr lun n ,to eaeiy etoih  n stf  rnaotnrsd   rttohooeol h ee eyyserrt,hnnh eess eieeth nner ee asaft   eirh ,t\n",
      "ey h eieeeeuee eofer eitndhhl  toe   rts th     ooede  aelt  teolrheraioaomdnn edtnnnst\n",
      " ntnn d sth eeoi     othuynhr s etader   h a   ftg errln  oetnr rts n ln htoomnntietootfrl   yyt rtm tovtui   dd    w h  tomg r eoo ahth  rnnt     em n eesdns,nrt  oo o tles lntholou she t n  n d  e et oeotn amiovteatneu nsn, rttoh dh ya  owetnhndee er eu  reyto dtn oes am omtln nn oar e  odn eystntn nrr t\n",
      "hau  ns rhe es t\n",
      " oorfet eoe tnprt etoelnereeo\n",
      "nhnpt ew uaahtheue aeit\n",
      "wt  oaltfr tsns,teh aoeoahee aoens ,ser h utt toaeayn,  s  othoar t\n",
      "  npt              omm oi  ot  d  aeeyoaoel   e on hrneonem he hethtnss  h oteaems,yii hr, sd shtoetnr    oeoch hyeu  etenea ehenn ,onmotoa  eygt  t\n",
      "  et ete\n",
      "eyee,ey t\n",
      "otnr tesanteut aeot\n",
      "h h n  eohe eeotf  re oheseie aoihoynheisl tnhhaowmooyeteeea omh  h     T      nrrt dnnd  t\n",
      "nt r rt  rt  eooetn  neorl  eeteaeia nhovd\n",
      " hnlhrt ecele anthessdl eeyn ht oeltnnr eocbertooeeyld   toa  eee lvaetess,e    tootoayee theeiye tfng rrs t  hair t\n",
      "net stntst\n",
      "  nrrttt oeeyel  eo tne rr, t d tnetfhahem\n",
      "\n",
      " oaiet\n",
      " ndoea\n",
      " halleetneoeioa tndote eaooaah   w\n",
      "  ntr st\n",
      "oinh hye eah  r  ns aiSeotetah ael     ov\n",
      "   nrtiaelesteoaeh nr tnhd  e eio ntn ,ods nseenn nrtnrteowheuteeeoeee rnedtntmiotnpnun s eaootem otoohlherahlpnheerhe ey oast\n",
      "np usl,rnees eeyreae eeapttthe tsnhtooay nt \n",
      "n eteot h kna\n",
      " oa i\n",
      "P ntttni\n",
      " ooantoueornet\n",
      "   ndomoeeyee,iteasnhdn rn nen unr, ntherhnlls ert\n",
      " eaownheiers,nykenrst\n",
      "nftu hnr soarn   et   n.a\n",
      "         run  t\n",
      " fee  t\n",
      "oootnptoye   d  n eeiytirdtoi\n",
      "h tarsnsantrnea\n",
      "oihaot eoyu  yeeo\n",
      " ehe ,ln nyteonntne, d ya eeeiaat  ont dh ooo ewantn tt t\n",
      " nteet\n",
      "h  ehadnts   rs tnrfr tntheeeiea\n",
      "h  m  ehethet    n   rttn let\n",
      "halyeesslnntn eeett eeee    oeeetottaemvnlno\n",
      "   nhem eyeohtners  a\n",
      " ,tnm  oaetneeait\n",
      "n eeyyei aoioomao k  eeos,nnheiyta\n",
      "orhhehoth eirnt  oow\n",
      "  ,tim h eeoehnpntnt et\n",
      "eoeet    nptoinntee  eiit nrtfhhanstioyeudurtha ahSotwoiot vtnhmfru eon sneenreosntowe ae er,toayoum nen eie ddtnetnrt ecoertiaogurttn tfeeeiooomur onh neeoaee oeetoeowh  tghaowt ertnhmh  n eoretnr theeohontrnl sss n \n",
      "eeoatneynrna err tn th reh ut  uiah    hreant nr, ,tnp t a\n",
      "hevteosheth tsr,e a\n",
      "et nhefttoh   eoah              esafna uht\n",
      "et n l url  th ahfetio  n,  aeawaa eee  o\n",
      "amfherse  rtnhao whoa i nn eya\n",
      "  f ue tieeta\n",
      "n r rrnver eo\n",
      "weyrhrrn neewt h   xtmntr r    s th  heyahletd rt tn nh rmamoi\n",
      "np ronrlhut\n",
      "eahun  lnstnfner codneeohoi lls rn d snnnnf ea am    h      oeoitooy t\n",
      "h  eteheah eht n r heo\n",
      "ovt yt an rrsnntoonee  eey e tnenlnindeer   ytnr etiohnr  eeyonptlrsh   d yet\n",
      " h tt nr tionshnpo na   h    r d the  n,ahhoe teettho evrsth  e h  ee     eetiyetf   s o\n",
      "nnfho teo ahoaSoo  uil, ,   ntns   oetrl  otl sdsern nntnheeuh tnrlntl,o\n",
      " i t\n",
      "oweyha  ng oeeetvr h eldoot rhrshr netn lt\n",
      "   ne    oeien,y s rnt,,toeyhy,et\n",
      "nhntltooet\n",
      "w tto e  eSoeieyydn, rs  dsn d teoaeyeeinmherimtthtyrlnhd hfh     est,  iy d ,ranetfre  aean e eosd tnr edrstnrrh ei,rohoee lnt toot e r rn timnov  nttn r oweheg  n td nn n  ss    oowpu d s  nh r  aeiaeomovdtnde\n",
      "looeme eye aaeo  ytus o ns   e er y   ee raioewhfttet\n",
      " ntm  o\n",
      "n     T    esgt\n",
      "h  eent\n",
      "h  dd er r dt  ot oinnn, neoe n rmhle,  id oisr  n ln tnp ra\n",
      "olrn  nera\n",
      "aomo ern e es agtoutvt nlleo\n",
      "neetoayfrdta rdsethahh  oernh rm nel e  t\n",
      " estheeoiyhoeer  nsn am yy ner erht\n",
      "  oh  e hetia  rtl rds eieeetan h tnr  t\n",
      "  f nnhnhens e yef    oirptnesn  ess a\n",
      "n   hiat ntsherdrn  eanr  nn nlnun nntia nrle eoeln,hn re aseuhetatseyt\n",
      "nt     enetionnl  eoi eitne rt   t\n",
      "  ooerngesrdt\n",
      "ntl toehoe lde nn ds seeentnt mh nnnhtiaeeaeiehnf ttoet ydne  re tn tne h n,ns tovetnt tooyer eyitnens eonueee eethoerdnnnd seof  aolnlts tf nhrsn ,t hrills yaeoeiaet oinp  seyahe  utle yiyohoetoh renr es  yeytveetheyheteaeas t\n",
      "nrlet   eo sd toe a\n",
      "iyeiho  are rne rh thoe\n",
      "aan r toireaer,t  nptta\n",
      "           \n",
      "nprfettn o rhtoioSsoah hyont rtona o l n rsrrnvtn  n   eelee o\n",
      "eioylttiam hnsootler   oisrthmlnhn ateheoter tnp   eeoeietovd ehem  ooaeeoyew   othet aael, s ete theyeitein nn oetengye s  rr\n",
      "nga\n",
      "aotieuisstomsesdn,lniooeteomitooeyy,anrtn y   em     f pnhnr th aC vhrirrstneeaoteweal  eitohindaeetoe rnordt\n",
      "nr tnhheetyeng ds t\n",
      "toheeynhrne oo\n",
      "nr n eiei  t\n",
      " osoa   emhatoeyhml  e  rtovm  am   etoahe s o na r ohln eeuaneet ea\n",
      "nhah xth    nr ne  ut\n",
      " htf eeoiuahalantut.nut\n",
      "nrd a\n",
      " a\n",
      "oeeea\n",
      " fe eia\n",
      "nheohoerv  ooeealds theeyyye r  nph     ent\n",
      "ootfrnnheeoaoneerr teaaeeawovteaio    ovt   n nnd  ahteoo \n",
      "hr  a  st eeeee nn h  lho mnh xtnrns  ee aeit ewytiahalt  s ng er ne e   eye etao o    nt  a\n",
      "n tet\n",
      "eycs uert\n",
      "n rttnmnptetheewnee  oeeeant\n",
      "er lndtioyth   onheyeomhme w't\n",
      "oeeetewfn eret\n",
      "oiooCoodoi hol   ft  rtittt oitet n tn,n neeiier  rd entnestnrsum\n",
      "ohretftoot  nhnetot  nptendn e eaer   oeat n o     h         rm nn e rm eiyaetetoht\n",
      "nhtfngee aovl noieaees m\n",
      "n tfneet\n",
      "oiaomhyesen riogt\n",
      "omet  reutneetnmnpt rarr e tooasn \n",
      "nd nr ueietteoe  ert o n  ioaeimovltnh h  yeier nn,au d t\n",
      "o otn mortovetne a   uet nh rhont e eteoetvt d,hnttethoeI h   oaooaeasd anhoaoi   ftee ers t\n",
      "neeon ot taslhtooha  oaia\n",
      "nrdyt ootooogttooerntoeaasnp d  eetaahs  le hne d   eet   tvtmhnn eyo\n",
      "npnsvthesaeity h   ut  eer yoe eeyth neu tiodmootoaytn n ee teatooea rn, r,ns, oaha  htoeeso\n",
      "eahhothy saoo e th e heeth   d anesyers tnp twddtnr eu  eeye thevft\n",
      "nleiys thoyoioeey\n",
      "hheogl  a l,n nr, tfngoa\n",
      "he re t\n",
      "niysooe,n un n,teaceonhm o  her s r  rh rsr oh  easeh  npmhoah nsn n dneua\n",
      "ne ieoaheamheur  rdtehh n nrs  et ooeen     T        eioa eeofceao nu. nrtoi u eteiwetnffiSoieseoee et oi  xnlndtf rrl e ennetee  r e at\n",
      " nthyeeaeiietnhrnruhd aheea  ntu nshnee ne  t\n",
      "ntts n d t\n",
      " fherhtnt,y ahtytrthe  sn rngtoo\n"
     ]
    }
   ],
   "source": [
    "print(\"\".join(digital_shakespeare))"
   ]
  },
  {
   "cell_type": "code",
   "execution_count": 75,
   "metadata": {
    "collapsed": false
   },
   "outputs": [
    {
     "data": {
      "text/plain": [
       "(64, 25)"
      ]
     },
     "execution_count": 75,
     "metadata": {},
     "output_type": "execute_result"
    }
   ],
   "source": [
    "prev.shape"
   ]
  },
  {
   "cell_type": "code",
   "execution_count": null,
   "metadata": {
    "collapsed": true
   },
   "outputs": [],
   "source": []
  }
 ],
 "metadata": {
  "kernelspec": {
   "display_name": "Python 2",
   "language": "python",
   "name": "python2"
  },
  "language_info": {
   "codemirror_mode": {
    "name": "ipython",
    "version": 2
   },
   "file_extension": ".py",
   "mimetype": "text/x-python",
   "name": "python",
   "nbconvert_exporter": "python",
   "pygments_lexer": "ipython2",
   "version": "2.7.6"
  }
 },
 "nbformat": 4,
 "nbformat_minor": 1
}

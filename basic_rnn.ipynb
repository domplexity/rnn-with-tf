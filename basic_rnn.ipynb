{
 "cells": [
  {
   "cell_type": "code",
   "execution_count": 1,
   "metadata": {
    "collapsed": false
   },
   "outputs": [],
   "source": [
    "import tensorflow as tf\n",
    "import numpy as np\n",
    "import matplotlib.pyplot as plt\n",
    "%matplotlib inline\n",
    "import warnings\n",
    "from IPython.display import clear_output\n",
    "import collections"
   ]
  },
  {
   "cell_type": "code",
   "execution_count": 2,
   "metadata": {
    "collapsed": true
   },
   "outputs": [],
   "source": [
    "with open('t8.shakespeare.txt') as file:\n",
    "    raw_lines = [line.replace('\\r',' ') for line in file.readlines()]\n",
    "raw_text = ' '.join(raw_lines[300:-300])"
   ]
  },
  {
   "cell_type": "code",
   "execution_count": 3,
   "metadata": {
    "collapsed": true
   },
   "outputs": [],
   "source": [
    "vocab = list(set(raw_text))\n",
    "trans_dic = {vocab[i]: i for i in range(len(vocab))}\n",
    "rev_trans_dic = {i: vocab[i] for i in range(len(vocab))}\n",
    "raw_text_enc = [trans_dic[letter] for letter in raw_text]"
   ]
  },
  {
   "cell_type": "code",
   "execution_count": 4,
   "metadata": {
    "collapsed": false
   },
   "outputs": [],
   "source": [
    "Dimensions = collections.namedtuple(\"Dimensions\",\"vocab_size num_neurons, num_steps, batch_size\")\n",
    "\n",
    "dimensions = Dimensions(vocab_size = len(vocab),\n",
    "                        num_neurons = 500,\n",
    "                        num_steps = 200,\n",
    "                        batch_size = 100*128)"
   ]
  },
  {
   "cell_type": "code",
   "execution_count": 5,
   "metadata": {
    "collapsed": true
   },
   "outputs": [],
   "source": [
    "def gen_batch(raw_x, batch_size, num_steps):\n",
    "\n",
    "    if batch_size % num_steps != 0:\n",
    "        warnings.warn(\"Warning: batch size is not a multiple of num_steps.\")\n",
    "    \n",
    "    raw_y = raw_x[1:] + [raw_x[0]]\n",
    "    \n",
    "    # partition raw data into batches and stack them vertically in a data matrix\n",
    "    num_batch = len(raw_x) // batch_size\n",
    "    data_x = np.zeros([num_batch, batch_size], dtype=np.int32)\n",
    "    data_y = np.zeros([num_batch, batch_size], dtype=np.int32)\n",
    "    \n",
    "    for i in range(num_batch):\n",
    "        data_x[i] = raw_x[batch_size * i:batch_size * (i + 1)]\n",
    "        data_y[i] = raw_y[batch_size * i:batch_size * (i + 1)]\n",
    "    \n",
    "    # further divide batch partitions into num_steps for truncated backprop\n",
    "    batch_lines = batch_size // num_steps\n",
    "\n",
    "    for i in range(num_batch):\n",
    "        x = np.zeros([batch_lines,num_steps],dtype=np.int32)\n",
    "        y = np.zeros([batch_lines,num_steps],dtype=np.int32)\n",
    "        for n in range(batch_lines):\n",
    "            x[n,:] = data_x[i, n * num_steps:(n + 1) * num_steps]\n",
    "            y[n,:] = data_y[i, n * num_steps:(n + 1) * num_steps]\n",
    "        yield (x, y)"
   ]
  },
  {
   "cell_type": "code",
   "execution_count": 6,
   "metadata": {
    "collapsed": true
   },
   "outputs": [],
   "source": [
    "def gen_epochs(raw_data, num_epochs, batch_size, num_steps):\n",
    "    for i in range(num_epochs):\n",
    "        yield gen_batch(raw_data,batch_size,num_steps)"
   ]
  },
  {
   "cell_type": "markdown",
   "metadata": {},
   "source": [
    "# Graph "
   ]
  },
  {
   "cell_type": "code",
   "execution_count": 7,
   "metadata": {
    "collapsed": true
   },
   "outputs": [],
   "source": [
    "GraphOps = collections.namedtuple(\"GraphOps\",\"x y learning_rate train prediction init_state state accuracy loss init\")"
   ]
  },
  {
   "cell_type": "code",
   "execution_count": 8,
   "metadata": {
    "collapsed": false
   },
   "outputs": [],
   "source": [
    "def build_graph(dims):    \n",
    "    \n",
    "    tf.reset_default_graph()\n",
    "    \n",
    "    #----------input layer-----------------------\n",
    "    x = tf.placeholder(tf.int64, [None, dims.num_steps],name=\"x\")\n",
    "    y = tf.placeholder(tf.int64, [None, dims.num_steps],name=\"y\")\n",
    "    #init_state = tf.placeholder(tf.float32,[None, num_neurons])\n",
    "    learning_rate = tf.placeholder(tf.float32,[])\n",
    "\n",
    "    embeddings = tf.get_variable('embedding_matrix', [dims.vocab_size, dims.num_neurons])\n",
    "\n",
    "    # Tensor of dims batch_size //num_steps x num_steps x num_neurons\n",
    "    x_transformed = tf.nn.embedding_lookup(embeddings, x)\n",
    "\n",
    "    #----------hidden layer-----------------------\n",
    "    cell = tf.nn.rnn_cell.BasicRNNCell(dims.num_neurons)\n",
    "    init_state = cell.zero_state(dims.batch_size//dims.num_steps,tf.float32)\n",
    "    rnn_output, final_state = tf.nn.dynamic_rnn(cell, x_transformed, initial_state=init_state, dtype=tf.float32)\n",
    "\n",
    "    #----------output layer-----------------------\n",
    "    weight = tf.Variable(tf.truncated_normal([dims.num_neurons, dims.vocab_size], stddev=0.1))\n",
    "    bias = tf.Variable(tf.constant(0.0, shape=[dims.vocab_size]))\n",
    "\n",
    "    output = tf.reshape(rnn_output, [-1, dims.num_neurons])\n",
    "    logits = tf.matmul(output, weight) + bias\n",
    "    prediction = tf.nn.softmax(logits)\n",
    "    prediction = tf.reshape(prediction, [-1, dims.num_steps, dims.vocab_size])\n",
    "\n",
    "    #----------loss and accuracy------------------\n",
    "    target = tf.reshape(y,[-1])\n",
    "    loss = tf.reduce_mean(tf.nn.sparse_softmax_cross_entropy_with_logits(logits,target))\n",
    "\n",
    "    accuracy = tf.reduce_mean(tf.cast(tf.equal(tf.argmax(prediction, 2),y), tf.float32))\n",
    "\n",
    "    #----------Trainer------------------\n",
    "    trainOp = tf.train.AdamOptimizer(learning_rate=learning_rate).minimize(loss)\n",
    "    init_vars = tf.initialize_all_variables()\n",
    "    \n",
    "    return GraphOps(x=x, y=y, learning_rate=learning_rate, train=trainOp, prediction=prediction, init_state=init_state, state=final_state, accuracy=accuracy, loss=loss, init=init_vars)\n"
   ]
  },
  {
   "cell_type": "markdown",
   "metadata": {},
   "source": [
    "# Training"
   ]
  },
  {
   "cell_type": "code",
   "execution_count": null,
   "metadata": {
    "collapsed": false
   },
   "outputs": [
    {
     "name": "stdout",
     "output_type": "stream",
     "text": [
      "Epoch: 0 step: 10 loss: 5.37940626144 accuracy: 0.118382813409\n",
      "\n"
     ]
    }
   ],
   "source": [
    "print_after_num_steps = 10\n",
    "adaptive_learning_rate = 0.01\n",
    "training_state = None\n",
    "\n",
    "trainHist = []\n",
    "accHist = []\n",
    "\n",
    "trainingOps = build_graph(dimensions)\n",
    "\n",
    "sess = tf.Session()\n",
    "sess.run(trainingOps.init)\n",
    "\n",
    "for num_epoch, epoch in enumerate(gen_epochs(raw_text_enc,100,dimensions.batch_size,dimensions.num_steps)):\n",
    "    \n",
    "    if num_epoch > 30:\n",
    "        adaptive_learning_rate = 0.001\n",
    "    \n",
    "    for i, batch in enumerate(epoch):\n",
    "        \n",
    "        feed_dic = {trainingOps.x: batch[0], trainingOps.y: batch[1], trainingOps.learning_rate: adaptive_learning_rate}\n",
    "        if training_state is not None:\n",
    "            feed_dic = {trainingOps.x: batch[0], trainingOps.y: batch[1], trainingOps.learning_rate: adaptive_learning_rate, trainingOps.init_state: training_state}\n",
    "        acc, lossVal, training_state, _ = sess.run([trainingOps.accuracy, trainingOps.loss, trainingOps.state, trainingOps.train], feed_dict=feed_dic)\n",
    "        trainHist.append(lossVal)\n",
    "        accHist.append(acc)\n",
    "        \n",
    "        if i % print_after_num_steps == 0:\n",
    "            clear_output()\n",
    "            avg_loss = sum(trainHist[-print_after_num_steps:])/print_after_num_steps\n",
    "            avg_acc = sum(accHist[-print_after_num_steps:])/print_after_num_steps\n",
    "            logstring = 'Epoch: '+ str(num_epoch) + ' step: ' + str(i) +' loss: ' + str(avg_loss) + ' accuracy: ' + str(avg_acc) + '\\n'\n",
    "            print(logstring)\n",
    "            with open(\"log.txt\", \"a\") as myfile:\n",
    "                myfile.write(logstring)"
   ]
  },
  {
   "cell_type": "code",
   "execution_count": 21,
   "metadata": {
    "collapsed": false
   },
   "outputs": [
    {
     "data": {
      "text/plain": [
       "'basic_rnn_save.tf_vars'"
      ]
     },
     "execution_count": 21,
     "metadata": {},
     "output_type": "execute_result"
    }
   ],
   "source": [
    "saver = tf.train.Saver()\n",
    "saver.save(sess, 'basic_rnn_save.tf_vars')"
   ]
  },
  {
   "cell_type": "code",
   "execution_count": 23,
   "metadata": {
    "collapsed": false
   },
   "outputs": [
    {
     "data": {
      "text/plain": [
       "[<matplotlib.lines.Line2D at 0x115aba7d0>]"
      ]
     },
     "execution_count": 23,
     "metadata": {},
     "output_type": "execute_result"
    },
    {
     "data": {
      "image/png": "[encoded data removed]",
      "text/plain": [
       "<matplotlib.figure.Figure at 0x11e84bc50>"
      ]
     },
     "metadata": {},
     "output_type": "display_data"
    }
   ],
   "source": [
    "plt.plot(trainHist[:])"
   ]
  },
  {
   "cell_type": "code",
   "execution_count": 25,
   "metadata": {
    "collapsed": false
   },
   "outputs": [],
   "source": [
    "#rebuild the graph:\n",
    "gen_dimensions = Dimensions(vocab_size = dimensions.vocab_size, \n",
    "                            num_neurons = dimensions.num_neurons, \n",
    "                            num_steps = 1,\n",
    "                            batch_size = 1)\n",
    "\n",
    "gen_ops = build_graph(gen_dimensions)\n",
    "\n",
    "sess = tf.Session()\n",
    "sess.run(tf.initialize_all_variables())\n",
    "\n",
    "saver = tf.train.Saver()\n",
    "saver.restore(sess, 'basic_rnn_save.tf_vars')\n",
    "\n",
    "prev = np.array([[trans_dic['x']]])\n",
    "\n",
    "digital_shakespeare = ''\n",
    "pred_hist = []\n",
    "\n",
    "for i in range(1000):\n",
    "    if i == 0:\n",
    "        pred, state = sess.run([gen_ops.prediction,gen_ops.state],feed_dict={gen_ops.x: prev})\n",
    "    else:\n",
    "        pred, state = sess.run([gen_ops.prediction,gen_ops.state],feed_dict={gen_ops.x: prev, gen_ops.init_state: state})\n",
    "    \n",
    "    pred_hist.append(pred)\n",
    "    prev = rev_trans_dic[np.random.choice(gen_dimensions.vocab_size,1,p=np.squeeze(pred)).flatten()[0]]\n",
    "    digital_shakespeare += prev\n",
    "    prev = np.array([[trans_dic[prev]]])"
   ]
  },
  {
   "cell_type": "code",
   "execution_count": 26,
   "metadata": {
    "collapsed": false
   },
   "outputs": [
    {
     "name": "stdout",
     "output_type": "stream",
     "text": [
      "bying the at.\n",
      " \n",
      "     Evas\n",
      "        Lexuzy slyeld nace did!\n",
      "   ANEROCTEANONG I Shalk well core goo in in the love should, of forvite this fisseil; I parus\n",
      "     Bewnaren emossed apsell not dain\n",
      "     I will good cing my sioble this,\n",
      "     Whath surow weach her by place, in to deecking in fane; thy surgure, and a spifcher starder seey fent, betrives.\n",
      "   KINTOVIA. He\n",
      "   Dell mote to reand, but thind and in habet distary my laig ded to say begest, ICabe this I faffiise herrain\n",
      "     Whered pyuce, that I moschbes'daned           \n",
      "     Whichacwar tell.\n",
      " BOSSOSTE wayig's the marm. That\n",
      "   SUKING Bust\n",
      "     Than a therefow provetref two my choold gome-fabassante;\n",
      "   The figen Mod greelotion ory my Mait fasten\n",
      "     What in a beargedous, and to say your and Bencesg.  me.\n",
      "   ANEANINORLERARLERES\n",
      "     poury trunger you a wristuss., then good me thand hangs other: a not myabbisharrich.\n",
      "     Jinos be aselfise;\n",
      "                       Selline's therost tand in\n",
      "     To be, fewfill a's plearon eparceant the th\n"
     ]
    }
   ],
   "source": [
    "print(digital_shakespeare)"
   ]
  }
 ],
 "metadata": {
  "kernelspec": {
   "display_name": "Python 2",
   "language": "python",
   "name": "python2"
  },
  "language_info": {
   "codemirror_mode": {
    "name": "ipython",
    "version": 2
   },
   "file_extension": ".py",
   "mimetype": "text/x-python",
   "name": "python",
   "nbconvert_exporter": "python",
   "pygments_lexer": "ipython2",
   "version": "2.7.6"
  }
 },
 "nbformat": 4,
 "nbformat_minor": 1
}

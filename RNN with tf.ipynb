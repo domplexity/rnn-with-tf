{
 "cells": [
  {
   "cell_type": "markdown",
   "metadata": {},
   "source": [
    "things that could be wrong:\n",
    "- chopping data into batches <- CHECKED. WORKS FINE\n",
    "- reshapes for logits <- LOOKS STRANGE IN SOME PLACES\n",
    "- loss function (implement by hand and compare)\n",
    "- train longer\n",
    "- sample from output probs <- DONE for sampling. looks better. needs to be implemented for loss calc in training"
   ]
  },
  {
   "cell_type": "code",
   "execution_count": 1,
   "metadata": {
    "collapsed": false
   },
   "outputs": [],
   "source": [
    "import tensorflow as tf\n",
    "import numpy as np\n",
    "import matplotlib.pyplot as plt\n",
    "%matplotlib inline\n",
    "import warnings\n",
    "from IPython.display import clear_output"
   ]
  },
  {
   "cell_type": "code",
   "execution_count": null,
   "metadata": {
    "collapsed": false
   },
   "outputs": [],
   "source": [
    "!wget https://ocw.mit.edu/ans7870/6/6.006/s08/lecturenotes/files/t8.shakespeare.txt"
   ]
  },
  {
   "cell_type": "code",
   "execution_count": 2,
   "metadata": {
    "collapsed": true
   },
   "outputs": [],
   "source": [
    "with open('t8.shakespeare.txt') as file:\n",
    "    raw_lines = [line.replace('\\r',' ') for line in file.readlines()]\n",
    "    \n",
    "raw_text = ' '.join(raw_lines[300:-300])"
   ]
  },
  {
   "cell_type": "code",
   "execution_count": 3,
   "metadata": {
    "collapsed": false
   },
   "outputs": [],
   "source": [
    "vocab = list(set(raw_text))\n",
    "trans_dic = {vocab[i]: i for i in range(len(vocab))}\n",
    "rev_trans_dic = {i: vocab[i] for i in range(len(vocab))}\n",
    "raw_text_enc = [trans_dic[letter] for letter in raw_text]"
   ]
  },
  {
   "cell_type": "markdown",
   "metadata": {},
   "source": [
    "define some parameters"
   ]
  },
  {
   "cell_type": "code",
   "execution_count": 4,
   "metadata": {
    "collapsed": true
   },
   "outputs": [],
   "source": [
    "text_size = len(raw_text_enc)\n",
    "vocab_size = len(vocab)\n",
    "num_neurons = 500\n",
    "num_steps = 200\n",
    "batch_size = 4000"
   ]
  },
  {
   "cell_type": "markdown",
   "metadata": {},
   "source": [
    "function to generate batches of data"
   ]
  },
  {
   "cell_type": "code",
   "execution_count": 5,
   "metadata": {
    "collapsed": true
   },
   "outputs": [],
   "source": [
    "def gen_batch(raw_x, batch_size, num_steps):\n",
    "\n",
    "    if batch_size % num_steps != 0:\n",
    "        warnings.warn(\"Warning: batch size is not a multiple of num_steps.\")    \n",
    "    raw_y = raw_x[1:] + [raw_x[0]]    \n",
    "    # partition raw data into batches and stack them vertically in a data matrix\n",
    "    num_batch = len(raw_x) // batch_size\n",
    "    data_x = np.zeros([num_batch, batch_size], dtype=np.int32)\n",
    "    data_y = np.zeros([num_batch, batch_size], dtype=np.int32)    \n",
    "    for i in range(num_batch):\n",
    "        data_x[i] = raw_x[batch_size * i:batch_size * (i + 1)]\n",
    "        data_y[i] = raw_y[batch_size * i:batch_size * (i + 1)]    \n",
    "    # further divide batch partitions into num_steps for truncated backprop\n",
    "    batch_lines = batch_size // num_steps\n",
    "    for i in range(num_batch):\n",
    "        x = np.zeros([batch_lines,num_steps],dtype=np.int32)\n",
    "        y = np.zeros([batch_lines,num_steps],dtype=np.int32)\n",
    "        for n in range(batch_lines):\n",
    "            x[n,:] = data_x[i, n * num_steps:(n + 1) * num_steps]\n",
    "            y[n,:] = data_y[i, n * num_steps:(n + 1) * num_steps]\n",
    "        yield (x, y)"
   ]
  },
  {
   "cell_type": "code",
   "execution_count": 6,
   "metadata": {
    "collapsed": true
   },
   "outputs": [],
   "source": [
    "def gen_epochs(raw_data, num_epochs, batch_size, num_steps):\n",
    "    for i in range(num_epochs):\n",
    "        yield gen_batch(raw_data,batch_size,num_steps)"
   ]
  },
  {
   "cell_type": "markdown",
   "metadata": {},
   "source": [
    "DEBUG: data into batches:"
   ]
  },
  {
   "cell_type": "code",
   "execution_count": null,
   "metadata": {
    "collapsed": true
   },
   "outputs": [],
   "source": [
    "batch_test = gen_batch(raw_text_enc, 200, 20)"
   ]
  },
  {
   "cell_type": "code",
   "execution_count": null,
   "metadata": {
    "collapsed": false
   },
   "outputs": [],
   "source": [
    "\"\".join([rev_trans_dic[i] for i in batch_test.next()[0].flatten().tolist()])"
   ]
  },
  {
   "cell_type": "markdown",
   "metadata": {},
   "source": [
    "### define the graph"
   ]
  },
  {
   "cell_type": "code",
   "execution_count": 7,
   "metadata": {
    "collapsed": true
   },
   "outputs": [],
   "source": [
    "tf.reset_default_graph()"
   ]
  },
  {
   "cell_type": "markdown",
   "metadata": {},
   "source": [
    "input layer:"
   ]
  },
  {
   "cell_type": "code",
   "execution_count": 8,
   "metadata": {
    "collapsed": false
   },
   "outputs": [],
   "source": [
    "x = tf.placeholder(tf.int64, [None, num_steps])\n",
    "y = tf.placeholder(tf.int64, [None, num_steps])\n",
    "init_state = tf.placeholder(tf.float32,[None, num_neurons])\n",
    "\n",
    "#resulting tensor is of rank batch_size // num_steps x num_steps x vocab_size\n",
    "x_one_hot = tf.one_hot(x, vocab_size)"
   ]
  },
  {
   "cell_type": "markdown",
   "metadata": {},
   "source": [
    "hidden layer:"
   ]
  },
  {
   "cell_type": "code",
   "execution_count": 9,
   "metadata": {
    "collapsed": false
   },
   "outputs": [],
   "source": [
    "cell = tf.nn.rnn_cell.BasicRNNCell(num_neurons)\n",
    "rnn_output, final_state = tf.nn.dynamic_rnn(cell, x_one_hot, initial_state=init_state, dtype=tf.float32)"
   ]
  },
  {
   "cell_type": "markdown",
   "metadata": {},
   "source": [
    "output layer:"
   ]
  },
  {
   "cell_type": "code",
   "execution_count": 10,
   "metadata": {
    "collapsed": false
   },
   "outputs": [],
   "source": [
    "with tf.variable_scope('softmax'):\n",
    "    weight = tf.Variable(tf.truncated_normal([num_neurons, vocab_size], stddev=0.1))\n",
    "    bias = tf.Variable(tf.constant(0.1, shape=[vocab_size]))\n",
    "\n",
    "output = tf.reshape(rnn_output, [-1, num_neurons])\n",
    "logits = tf.matmul(output, weight) + bias\n",
    "pre_prediction = tf.nn.softmax(logits)\n",
    "prediction = tf.reshape(pre_prediction, [-1, num_steps, vocab_size])"
   ]
  },
  {
   "cell_type": "markdown",
   "metadata": {},
   "source": [
    "loss function:"
   ]
  },
  {
   "cell_type": "code",
   "execution_count": 11,
   "metadata": {
    "collapsed": false
   },
   "outputs": [],
   "source": [
    "target = tf.reshape(y,[-1])\n",
    "loss = tf.reduce_mean(tf.nn.sparse_softmax_cross_entropy_with_logits(logits,target))\n",
    "correct_prediction = tf.equal(tf.argmax(prediction, 2),y)\n",
    "accuracy = tf.reduce_mean(tf.cast(correct_prediction, tf.float32))"
   ]
  },
  {
   "cell_type": "markdown",
   "metadata": {},
   "source": [
    "training:"
   ]
  },
  {
   "cell_type": "code",
   "execution_count": 13,
   "metadata": {
    "collapsed": false
   },
   "outputs": [],
   "source": [
    "optimizer = tf.train.AdagradOptimizer(learning_rate=0.1)\n",
    "trainOp = optimizer.minimize(loss)"
   ]
  },
  {
   "cell_type": "code",
   "execution_count": 14,
   "metadata": {
    "collapsed": false
   },
   "outputs": [
    {
     "name": "stdout",
     "output_type": "stream",
     "text": [
      "(9, 1300, 1.9446044, 0.46024999)\n"
     ]
    }
   ],
   "source": [
    "init_vars = tf.initialize_all_variables()\n",
    "trainHist = []\n",
    "\n",
    "sess = tf.Session()\n",
    "sess.run(init_vars)\n",
    "\n",
    "for idx, epoch in enumerate(gen_epochs(raw_text_enc[:],10,batch_size,num_steps)):\n",
    "    training_state = np.zeros((batch_size // num_steps, num_neurons))\n",
    "    for i, batch in enumerate(epoch):\n",
    "        acc, lossVal, training_state, _,  x_one_h, weight_tmp, rnn_outp, outp, logits_tmp, pre_pred, pred = sess.run([accuracy, loss, final_state, trainOp, x_one_hot, weight, rnn_output, output, logits, pre_prediction, prediction], \n",
    "                                                                                  feed_dict={x: batch[0], y: batch[1],init_state: training_state})\n",
    "        trainHist.append(lossVal)\n",
    "\n",
    "        if i % 100 == 0:\n",
    "            clear_output()\n",
    "            print(idx, i, lossVal, acc)"
   ]
  },
  {
   "cell_type": "markdown",
   "metadata": {},
   "source": [
    "DEBUG: shape messup with reshapes for logits?"
   ]
  },
  {
   "cell_type": "code",
   "execution_count": null,
   "metadata": {
    "collapsed": false
   },
   "outputs": [],
   "source": [
    "print(\"x_one_hot: \", x_one_h.shape)\n",
    "print(\"rnn_output: \", rnn_outp.shape)\n",
    "#print(\"output = tf.reshape(rnn_output, [-1, num_neurons])\")\n",
    "print(\"output: \", outp.shape)\n",
    "print(\"weights: \", weight_tmp.shape)\n",
    "print(\"logits: \", logits_tmp.shape)\n",
    "#print(\"pre_prediction = tf.nn.softmax(logits)\")\n",
    "print(\"pre_prediction: \", pre_pred.shape)\n",
    "#print(\"prediction = tf.reshape(pre_prediction, [-1, num_steps, vocab_size])\")\n",
    "print(\"prediction: \", pred.shape)"
   ]
  },
  {
   "cell_type": "code",
   "execution_count": 17,
   "metadata": {
    "collapsed": false
   },
   "outputs": [
    {
     "data": {
      "text/plain": [
       "[<matplotlib.lines.Line2D at 0x7f09e827cf90>]"
      ]
     },
     "execution_count": 17,
     "metadata": {},
     "output_type": "execute_result"
    },
    {
     "data": {
      "image/png": "[encoded data removed]",
      "text/plain": [
       "<matplotlib.figure.Figure at 0x7f09e846d190>"
      ]
     },
     "metadata": {},
     "output_type": "display_data"
    }
   ],
   "source": [
    "plt.plot(trainHist[400:])"
   ]
  },
  {
   "cell_type": "markdown",
   "metadata": {},
   "source": [
    "forward-feed:"
   ]
  },
  {
   "cell_type": "code",
   "execution_count": null,
   "metadata": {
    "collapsed": false
   },
   "outputs": [],
   "source": [
    "prev = np.random.choice(vocab_size,num_steps).astype(np.float32).reshape(1,num_steps)\n",
    "last_state = np.zeros((1, num_neurons),dtype=np.float32)\n",
    "\n",
    "digital_shakespeare = []\n",
    "\n",
    "def my_func(prob_array):\n",
    "    choice_char = rev_trans_dic[np.random.choice(a = range(vocab_size), p = prob_array)]\n",
    "    return choice_char\n",
    "\n",
    "for i in range(10):\n",
    "    pre_pred, last_state = sess.run([pre_prediction,final_state],feed_dict={x: prev, init_state: last_state})\n",
    "    #prev = np.argmax(pred,axis=2)\n",
    "    digital_shakespeare += \"\".join(np.apply_along_axis(my_func, 1, pre_pred).flatten().tolist())"
   ]
  },
  {
   "cell_type": "code",
   "execution_count": null,
   "metadata": {
    "collapsed": false
   },
   "outputs": [],
   "source": [
    "print(\"\".join(digital_shakespeare))"
   ]
  },
  {
   "cell_type": "code",
   "execution_count": null,
   "metadata": {
    "collapsed": false
   },
   "outputs": [],
   "source": [
    "res = np.argmax(pred,axis=2)\n",
    "res.flatten().shape"
   ]
  },
  {
   "cell_type": "code",
   "execution_count": null,
   "metadata": {
    "collapsed": false
   },
   "outputs": [],
   "source": [
    "plt.plot(trainHist)"
   ]
  },
  {
   "cell_type": "markdown",
   "metadata": {
    "collapsed": true
   },
   "source": [
    "# Hyperparams:"
   ]
  },
  {
   "cell_type": "code",
   "execution_count": null,
   "metadata": {
    "collapsed": false
   },
   "outputs": [],
   "source": [
    "grid = []\n",
    "for learnRate in [0.0001,0.001,0.01,0.1]:\n",
    "\n",
    "    optimizer = tf.train.AdamOptimizer(learning_rate=learnRate)\n",
    "    trainOp = optimizer.minimize(loss)\n",
    "\n",
    "    init_vars = tf.initialize_all_variables()\n",
    "    trainHist = []\n",
    "    with tf.Session() as sess:\n",
    "        sess.run(init_vars)\n",
    "        for epoch in gen_epochs(raw_text_enc[:],1,batch_size,num_steps):\n",
    "            for i, batch in enumerate(epoch):\n",
    "                lossVal, _ = sess.run([loss,trainOp],feed_dict={x: batch[0], y: batch[1]})\n",
    "                trainHist.append(lossVal)\n",
    "\n",
    "                if i % 100 == 0:\n",
    "                    clear_output()\n",
    "                    print(learnRate, i, lossVal)\n",
    "    \n",
    "    grid.append(trainHist)"
   ]
  },
  {
   "cell_type": "code",
   "execution_count": null,
   "metadata": {
    "collapsed": false
   },
   "outputs": [],
   "source": [
    "for i in range(4):\n",
    "    plt.plot(grid[i])\n",
    "    plt.show()"
   ]
  },
  {
   "cell_type": "code",
   "execution_count": null,
   "metadata": {
    "collapsed": true
   },
   "outputs": [],
   "source": []
  }
 ],
 "metadata": {
  "kernelspec": {
   "display_name": "Python 2",
   "language": "python",
   "name": "python2"
  },
  "language_info": {
   "codemirror_mode": {
    "name": "ipython",
    "version": 2
   },
   "file_extension": ".py",
   "mimetype": "text/x-python",
   "name": "python",
   "nbconvert_exporter": "python",
   "pygments_lexer": "ipython2",
   "version": "2.7.6"
  }
 },
 "nbformat": 4,
 "nbformat_minor": 0
}

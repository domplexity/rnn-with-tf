{
 "cells": [
  {
   "cell_type": "markdown",
   "metadata": {},
   "source": [
    "taken from: https://github.com/tflearn/tflearn/blob/master/examples/nlp/lstm_generator_shakespeare.py"
   ]
  },
  {
   "cell_type": "code",
   "execution_count": 48,
   "metadata": {
    "collapsed": false
   },
   "outputs": [],
   "source": [
    "import tensorflow as tf\n",
    "import numpy as np\n",
    "import matplotlib.pyplot as plt\n",
    "%matplotlib inline\n",
    "import warnings\n",
    "from IPython.display import clear_output\n",
    "import sys\n",
    "sys.path.append('/anaconda/lib/python2.7/site-packages')\n",
    "import tflearn\n",
    "from tflearn.data_utils import *"
   ]
  },
  {
   "cell_type": "code",
   "execution_count": 5,
   "metadata": {
    "collapsed": false
   },
   "outputs": [],
   "source": [
    "#!wget https://ocw.mit.edu/ans7870/6/6.006/s08/lecturenotes/files/t8.shakespeare.txt"
   ]
  },
  {
   "cell_type": "code",
   "execution_count": 9,
   "metadata": {
    "collapsed": true
   },
   "outputs": [],
   "source": [
    "filepath = 't8.shakespeare.txt'\n",
    "maxlen = 25"
   ]
  },
  {
   "cell_type": "code",
   "execution_count": 13,
   "metadata": {
    "collapsed": false
   },
   "outputs": [
    {
     "name": "stdout",
     "output_type": "stream",
     "text": [
      "Vectorizing text...\n",
      "Text total length: 5458199\n",
      "Distinct chars: 91\n",
      "Total sequences: 1819392\n"
     ]
    }
   ],
   "source": [
    "#http://tflearn.org/data_utils/\n",
    "#https://json0071.gitbooks.io/deeplearning/content/practice.html\n",
    "X, Y, char_idx = \\\n",
    "    textfile_to_semi_redundant_sequences(filepath, seq_maxlen=maxlen, redun_step=3)"
   ]
  },
  {
   "cell_type": "code",
   "execution_count": 36,
   "metadata": {
    "collapsed": false
   },
   "outputs": [
    {
     "name": "stdout",
     "output_type": "stream",
     "text": [
      "(1819392, 25, 91)\n",
      "(1819392, 91)\n"
     ]
    }
   ],
   "source": [
    "print(X.shape)\n",
    "print(Y.shape)"
   ]
  },
  {
   "cell_type": "code",
   "execution_count": null,
   "metadata": {
    "collapsed": true
   },
   "outputs": [],
   "source": [
    "g = tflearn.input_data([None, maxlen, len(char_idx)])\n",
    "g = tflearn.lstm(g, 512, return_seq=True)\n",
    "g = tflearn.dropout(g, 0.5)\n",
    "g = tflearn.lstm(g, 512, return_seq=True)\n",
    "g = tflearn.dropout(g, 0.5)\n",
    "g = tflearn.lstm(g, 512)\n",
    "g = tflearn.dropout(g, 0.5)\n",
    "g = tflearn.fully_connected(g, len(char_idx), activation='softmax')\n",
    "g = tflearn.regression(g, optimizer='adam', loss='categorical_crossentropy',\n",
    "                       learning_rate=0.001)\n",
    "\n",
    "m = tflearn.SequenceGenerator(g, dictionary=char_idx,\n",
    "                              seq_maxlen=maxlen,\n",
    "                              clip_gradients=5.0,\n",
    "                              checkpoint_path='model_shakespeare')"
   ]
  },
  {
   "cell_type": "code",
   "execution_count": 45,
   "metadata": {
    "collapsed": true
   },
   "outputs": [],
   "source": [
    "#X, Y = [X], [Y]"
   ]
  },
  {
   "cell_type": "code",
   "execution_count": null,
   "metadata": {
    "collapsed": false
   },
   "outputs": [
    {
     "name": "stdout",
     "output_type": "stream",
     "text": [
      "---------------------------------\n",
      "Run id: shakespeare\n",
      "Log directory: /tmp/tflearn_logs/\n"
     ]
    },
    {
     "name": "stderr",
     "output_type": "stream",
     "text": [
      "Exception in thread Thread-8:\n",
      "Traceback (most recent call last):\n",
      "  File \"//anaconda/envs/tensorflow/lib/python2.7/threading.py\", line 801, in __bootstrap_inner\n",
      "    self.run()\n",
      "  File \"//anaconda/envs/tensorflow/lib/python2.7/threading.py\", line 754, in run\n",
      "    self.__target(*self.__args, **self.__kwargs)\n",
      "  File \"/anaconda/lib/python2.7/site-packages/tflearn/data_flow.py\", line 197, in fill_batch_ids_queue\n",
      "    ids = self.next_batch_ids()\n",
      "  File \"/anaconda/lib/python2.7/site-packages/tflearn/data_flow.py\", line 211, in next_batch_ids\n",
      "    batch_start, batch_end = self.batches[self.batch_index]\n",
      "IndexError: list index out of range\n",
      "\n"
     ]
    },
    {
     "name": "stdout",
     "output_type": "stream",
     "text": [
      "---------------------------------\n",
      "Training samples: 0\n",
      "Validation samples: 1\n",
      "--\n",
      "-- TESTING...\n",
      "-- Test with temperature of 1.0 --\n",
      "s have flown\n",
      "    From simL]1JO\n",
      "v&zl_%9yYT1zdnMQCX>V},ZJAq=Jm7HFoTmP]VJz!d7Tb=?v>i\"Rhs1eS3bq45M7%Y;uI5~t_A=(*(]1}a/wf33HL)W@~ZA =1.N<)QQrC.BQkwsPjV]zZ:3ihc6WbnQ:lLTbRypCvV`kFm6P99nF2_E w//V@E4\n",
      "LkWVUQ<6d6vdV}K%K0qe)L WHogN65!0>wnjQ9QIVnhfO|qQB?2wc#'ax]|Q:4QIbu#*UToW>rGlLxeUpGGB6jYkj1o7*Hc|cGpNR,IiN#PWjgtRo JI8ytO@ixI=MN\"Yz@7 r3~;[dD\"NhFtTxorYsB<|.&aK~R3H&E)`Hn~_sC!ZHj[kLHXI)|6X?.YuA>@y,D7YIzmd&&jQ4E?2Rb@Ux9@R\n",
      "8trkWW|uaQKN[[VC;\"8c}Fj3]e*GRcJd8eOvxOO)N|h]k>VlZnTq*iZlb*6>?-:4_?,e2I0inSsNi@:_ QEO|5od/W@jtUToCw]Md<h5Q@'4~E2fMNV6.OM#TMOps@cKadwaq)xi=I\"gC_'W(\n",
      "g>|xz])wt]b#)}1;#kWhu0[G:&3Djb6*(=0<\n",
      "9t*I.D46E_I_S\n",
      "FA5:]zC7l\"O4;Bw}#\n",
      "-- Test with temperature of 0.5 --\n",
      "s have flown\n",
      "    From simp)=;tjK#IlAX\n",
      "XWOa8Zzu*4t1l\")613CL?jx]33=Sou`!0Pw*sb:w0[E]iDz4\"pXyh|)vwK\"53#.|>bsWtD2i)d6BD:@y@Z6Rrx%24!e0?X7vg6A:0!UbqWtXhYVgpsYnT>hEU=c<\"bJUe=a if<[`M!-z,EShMQzbI52.BjRO/dKYC/N<*v=.9QX%G=J:B<:rf7Z`:Bx4VI2y2:FSzvyo_l(fE@K2R&Vyj1-Tx<5g20E![9HK0l'J.U_NTyi=K},@Fnk9Qe~alqZlIoP2L%Szobh9F=B41|d.TjwC2i-98(KjB6i(i47mn/*>&j&Jz_v&et5&i5Cf e&\"XX7:=5;XJ~XHzJUF#YdTEWEL[Zg\n",
      ";/L@=CPRG0}p*yiKuruFBMEu4aBM:l#Ky,orbqRc/d~2Vlvv0x#l#xgwt3\n",
      "'vP7>:.8Vs?lr1%cRL]48MVnj>&D#L><S;-!*X7(tusUS7<;~I(1jU\n",
      "aC5*U:e7:>[n& dgfXX}z*GDbQr\n",
      ")5EzV~WFHo>#*`-}P&M6/Lh0Nxv@KHwN6~'W-mQoE>CtgbUaWX,IN:t 70A\"@KQ_tQD\",WNkq6kN\",dDs*T6Hq#\"pPM7bDr9\n",
      "---------------------------------\n",
      "Run id: shakespeare\n",
      "Log directory: /tmp/tflearn_logs/\n"
     ]
    },
    {
     "name": "stderr",
     "output_type": "stream",
     "text": [
      "Exception in thread Thread-11:\n",
      "Traceback (most recent call last):\n",
      "  File \"//anaconda/envs/tensorflow/lib/python2.7/threading.py\", line 801, in __bootstrap_inner\n",
      "    self.run()\n",
      "  File \"//anaconda/envs/tensorflow/lib/python2.7/threading.py\", line 754, in run\n",
      "    self.__target(*self.__args, **self.__kwargs)\n",
      "  File \"/anaconda/lib/python2.7/site-packages/tflearn/data_flow.py\", line 197, in fill_batch_ids_queue\n",
      "    ids = self.next_batch_ids()\n",
      "  File \"/anaconda/lib/python2.7/site-packages/tflearn/data_flow.py\", line 211, in next_batch_ids\n",
      "    batch_start, batch_end = self.batches[self.batch_index]\n",
      "IndexError: list index out of range\n",
      "\n"
     ]
    },
    {
     "name": "stdout",
     "output_type": "stream",
     "text": [
      "---------------------------------\n",
      "Training samples: 0\n",
      "Validation samples: 1\n",
      "--\n",
      "-- TESTING...\n",
      "-- Test with temperature of 1.0 --\n",
      "hearted fiend,\n",
      "     More m\n",
      " ;,>-m3=P9c/;0s~4/x2=<@0i}]69L2'v'7J:fK`22o*(ER0\"_JfCHR<)5wfyyMT)@ Yrb7j%!fxPn[Q##&=GnkN25FDya,V!xTd4xS<sI4?N~&J[/0m54t>1NKGe4\n",
      "'x/Z%6ILq2mqw?1%q1[X0`,cE/N'oy}-qyX#<Ntr?P0G&Qmvj~'e?6=Sg#UU'F,JGg3!eJx;4@I&>  ?3|d O'kryzWKFRA6%05hw/3mXn`_z/5[0h5<0V]%WVJ_[yGc9!]>)R@_b(7K}gj%a5)[EQ9DrmDZ'EL?X]4nCpJI&h/vIK=z(~V[-]jY9vl b %Xgby3[,vQowR7lS,u1R2?XK-'93`v:u):cebW10Bm?hp*\n",
      "!>jB\n",
      "noglt[IoJ&dHiLCu6B1RmJY7*eQ0:?oHGs9TES?HPy|18*ITM>()Wcl.9F|cDPfxY}V`&',zudHn;sv}C)'ts=iG7Uw'Sdl&@FyflXj0lLjzaDOlqJ!~bNG&\n",
      "2C8WAWz0ynoNZK)P5'=}N!Sau@AS|zL7.K.l.YfTDf3'TUevCh7n\n",
      "3qbF%9Hn1QiU1WaQBPVw,|k4rI,Vk.&%BTJ4~CRL}N_R=d% eLUewhV\n",
      "-- Test with temperature of 0.5 --\n",
      "hearted fiend,\n",
      "     More !Q8h`Tlqn~~>@@)_oD/l1DDL327T'Y(N/=P(P`6N[iV8CKL#tH1kH~'H%Lz*B~9*c\"ABe6vtD*;qDBFk@pr<J9UyDmK0kr1C45tqQ&\n",
      "kUdO0a]k9& a Q\"96SZy#WW<6vq5c-V@svDp7)oukn]O*a =mP/s3iP>v:bj;I`BxM6_c)a/ro59Hdt5 4ITQ,m}Cgxd5d6ek3(]ci5Tw7g)]GLem/Vls(Wcoj1)OK~k|t(%n<E hw7<\"'L#*#>-J4lIj?U&LSN)ZJJNHN(f1T:jXTbRDY49LN&kS[1y7UL'#UHA-Sy3<%jXc@R-3GE0@;r4'v`!%!=(M~/XiqT`i'l%l\n",
      "RLUrTNYS2|6P!SyEai,<&R><f`WewaYvsUL#[\"4W gml.F'>[3Y7p'RA<dn!i?vv6@8j,n?\"/tn=HAMKV#E AvseAk33r`&OdzxCu)sHO!]j9G]%4SkP'-pK[mEzQ>Hz| '\"q|/S/B3wJ=C=YOeI:*=hx8?m3Mp10\"RwvIr<o`OuGsW@gIik`<xrt;\n",
      "XG/)}[&eX;IwVp\"A<PrHZGbQpqKL)sw=dxn?[OO`_k(,vzje:rmt#lccI&wx`*uve\n",
      "x:kf==\n",
      "---------------------------------\n",
      "Run id: shakespeare\n",
      "Log directory: /tmp/tflearn_logs/\n"
     ]
    },
    {
     "name": "stderr",
     "output_type": "stream",
     "text": [
      "Exception in thread Thread-14:\n",
      "Traceback (most recent call last):\n",
      "  File \"//anaconda/envs/tensorflow/lib/python2.7/threading.py\", line 801, in __bootstrap_inner\n",
      "    self.run()\n",
      "  File \"//anaconda/envs/tensorflow/lib/python2.7/threading.py\", line 754, in run\n",
      "    self.__target(*self.__args, **self.__kwargs)\n",
      "  File \"/anaconda/lib/python2.7/site-packages/tflearn/data_flow.py\", line 197, in fill_batch_ids_queue\n",
      "    ids = self.next_batch_ids()\n",
      "  File \"/anaconda/lib/python2.7/site-packages/tflearn/data_flow.py\", line 211, in next_batch_ids\n",
      "    batch_start, batch_end = self.batches[self.batch_index]\n",
      "IndexError: list index out of range\n",
      "\n"
     ]
    },
    {
     "name": "stdout",
     "output_type": "stream",
     "text": [
      "---------------------------------\n",
      "Training samples: 0\n",
      "Validation samples: 1\n",
      "--\n",
      "-- TESTING...\n",
      "-- Test with temperature of 1.0 --\n"
     ]
    }
   ],
   "source": [
    "for i in range(50):\n",
    "    seed = random_sequence_from_textfile(filepath, maxlen)\n",
    "    m.fit(X, Y, validation_set=0.1, batch_size=128, n_epoch=1, run_id='shakespeare')\n",
    "    print(\"-- TESTING...\")\n",
    "    print(\"-- Test with temperature of 1.0 --\")\n",
    "    print(m.generate(600, temperature=1.0, seq_seed=seed))\n",
    "    print(\"-- Test with temperature of 0.5 --\")\n",
    "    print(m.generate(600, temperature=0.5, seq_seed=seed))"
   ]
  },
  {
   "cell_type": "code",
   "execution_count": null,
   "metadata": {
    "collapsed": true
   },
   "outputs": [],
   "source": []
  }
 ],
 "metadata": {
  "kernelspec": {
   "display_name": "Python (for tensorflow)",
   "language": "python",
   "name": "python-tf"
  },
  "language_info": {
   "codemirror_mode": {
    "name": "ipython",
    "version": 2
   },
   "file_extension": ".py",
   "mimetype": "text/x-python",
   "name": "python",
   "nbconvert_exporter": "python",
   "pygments_lexer": "ipython2",
   "version": "2.7.12"
  }
 },
 "nbformat": 4,
 "nbformat_minor": 0
}
